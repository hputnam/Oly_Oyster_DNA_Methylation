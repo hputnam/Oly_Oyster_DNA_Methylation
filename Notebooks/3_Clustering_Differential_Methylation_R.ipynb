{
 "cells": [
  {
   "cell_type": "markdown",
   "metadata": {},
   "source": [
    "# Notebook Description\n",
    "This notebook provides the analysis of methylation clustering, Differential Methylation (DM) and Differential Methylation Locations (DMLs)"
   ]
  },
  {
   "cell_type": "markdown",
   "metadata": {},
   "source": [
    "* Check and Set working location"
   ]
  },
  {
   "cell_type": "code",
   "execution_count": 3,
   "metadata": {
    "collapsed": false
   },
   "outputs": [
    {
     "data": {
      "text/html": [
       "'/Users/hollie/Documents/Oly_Oyster_DNA_Methylation/Notebooks'"
      ],
      "text/latex": [
       "'/Users/hollie/Documents/Oly\\_Oyster\\_DNA\\_Methylation/Notebooks'"
      ],
      "text/markdown": [
       "'/Users/hollie/Documents/Oly_Oyster_DNA_Methylation/Notebooks'"
      ],
      "text/plain": [
       "[1] \"/Users/hollie/Documents/Oly_Oyster_DNA_Methylation/Notebooks\""
      ]
     },
     "metadata": {},
     "output_type": "display_data"
    }
   ],
   "source": [
    "getwd()"
   ]
  },
  {
   "cell_type": "code",
   "execution_count": 4,
   "metadata": {
    "collapsed": true
   },
   "outputs": [],
   "source": [
    "setwd(\"/Users/hollie/Documents/Oly_Oyster_DNA_Methylation/Data/MBD/BSmap_Output\")"
   ]
  },
  {
   "cell_type": "code",
   "execution_count": 5,
   "metadata": {
    "collapsed": false
   },
   "outputs": [
    {
     "data": {
      "text/html": [
       "'/Users/hollie/Documents/Oly_Oyster_DNA_Methylation/Data/MBD/BSmap_Output'"
      ],
      "text/latex": [
       "'/Users/hollie/Documents/Oly\\_Oyster\\_DNA\\_Methylation/Data/MBD/BSmap\\_Output'"
      ],
      "text/markdown": [
       "'/Users/hollie/Documents/Oly_Oyster_DNA_Methylation/Data/MBD/BSmap_Output'"
      ],
      "text/plain": [
       "[1] \"/Users/hollie/Documents/Oly_Oyster_DNA_Methylation/Data/MBD/BSmap_Output\""
      ]
     },
     "metadata": {},
     "output_type": "display_data"
    }
   ],
   "source": [
    "getwd()"
   ]
  },
  {
   "cell_type": "code",
   "execution_count": 8,
   "metadata": {
    "collapsed": false
   },
   "outputs": [
    {
     "name": "stdout",
     "output_type": "stream",
     "text": [
      "\n",
      "The downloaded binary packages are in\n",
      "\t/var/folders/q0/mr4b1_gd2rd_frkfpr9f00340000gp/T//RtmpIuLZT1/downloaded_packages\n"
     ]
    },
    {
     "name": "stderr",
     "output_type": "stream",
     "text": [
      "Bioconductor version 3.4 (BiocInstaller 1.24.0), ?biocLite for help\n",
      "BioC_mirror: https://bioconductor.org\n",
      "Using Bioconductor 3.4 (BiocInstaller 1.24.0), R 3.3.2 (2016-10-31).\n",
      "Installing package(s) ‘GenomicRanges’, ‘IRanges’\n",
      "also installing the dependencies ‘zlibbioc’, ‘BiocGenerics’, ‘S4Vectors’, ‘GenomeInfoDb’, ‘XVector’\n",
      "\n"
     ]
    },
    {
     "name": "stdout",
     "output_type": "stream",
     "text": [
      "\n",
      "The downloaded binary packages are in\n",
      "\t/var/folders/q0/mr4b1_gd2rd_frkfpr9f00340000gp/T//RtmpIuLZT1/downloaded_packages\n"
     ]
    },
    {
     "name": "stderr",
     "output_type": "stream",
     "text": [
      "Old packages: 'mgcv', 'survival'\n",
      "Downloading GitHub repo al2na/methylKit@master\n",
      "from URL https://api.github.com/repos/al2na/methylKit/zipball/master\n",
      "Installing methylKit\n",
      "Installing data.table\n",
      "Installing chron\n",
      "'/Library/Frameworks/R.framework/Resources/bin/R' --no-site-file --no-environ  \\\n",
      "  --no-save --no-restore --quiet CMD INSTALL  \\\n",
      "  '/private/var/folders/q0/mr4b1_gd2rd_frkfpr9f00340000gp/T/RtmpIuLZT1/devtools2aac6267f62a/chron'  \\\n",
      "  --library='/Library/Frameworks/R.framework/Versions/3.3/Resources/library'  \\\n",
      "  --install-tests \n",
      "\n",
      "'/Library/Frameworks/R.framework/Resources/bin/R' --no-site-file --no-environ  \\\n",
      "  --no-save --no-restore --quiet CMD INSTALL  \\\n",
      "  '/private/var/folders/q0/mr4b1_gd2rd_frkfpr9f00340000gp/T/RtmpIuLZT1/devtools2aac1e650a6a/data.table'  \\\n",
      "  --library='/Library/Frameworks/R.framework/Versions/3.3/Resources/library'  \\\n",
      "  --install-tests \n",
      "\n",
      "Installing emdbook\n",
      "Installing bbmle\n",
      "Installing numDeriv\n",
      "'/Library/Frameworks/R.framework/Resources/bin/R' --no-site-file --no-environ  \\\n",
      "  --no-save --no-restore --quiet CMD INSTALL  \\\n",
      "  '/private/var/folders/q0/mr4b1_gd2rd_frkfpr9f00340000gp/T/RtmpIuLZT1/devtools2aac72a10fa4/numDeriv'  \\\n",
      "  --library='/Library/Frameworks/R.framework/Versions/3.3/Resources/library'  \\\n",
      "  --install-tests \n",
      "\n",
      "'/Library/Frameworks/R.framework/Resources/bin/R' --no-site-file --no-environ  \\\n",
      "  --no-save --no-restore --quiet CMD INSTALL  \\\n",
      "  '/private/var/folders/q0/mr4b1_gd2rd_frkfpr9f00340000gp/T/RtmpIuLZT1/devtools2aac2681594a/bbmle'  \\\n",
      "  --library='/Library/Frameworks/R.framework/Versions/3.3/Resources/library'  \\\n",
      "  --install-tests \n",
      "\n",
      "Installing coda\n",
      "'/Library/Frameworks/R.framework/Resources/bin/R' --no-site-file --no-environ  \\\n",
      "  --no-save --no-restore --quiet CMD INSTALL  \\\n",
      "  '/private/var/folders/q0/mr4b1_gd2rd_frkfpr9f00340000gp/T/RtmpIuLZT1/devtools2aac17c9a0e3/coda'  \\\n",
      "  --library='/Library/Frameworks/R.framework/Versions/3.3/Resources/library'  \\\n",
      "  --install-tests \n",
      "\n",
      "Installing plyr\n",
      "Installing Rcpp\n",
      "'/Library/Frameworks/R.framework/Resources/bin/R' --no-site-file --no-environ  \\\n",
      "  --no-save --no-restore --quiet CMD INSTALL  \\\n",
      "  '/private/var/folders/q0/mr4b1_gd2rd_frkfpr9f00340000gp/T/RtmpIuLZT1/devtools2aac2a0de9f3/Rcpp'  \\\n",
      "  --library='/Library/Frameworks/R.framework/Versions/3.3/Resources/library'  \\\n",
      "  --install-tests \n",
      "\n",
      "'/Library/Frameworks/R.framework/Resources/bin/R' --no-site-file --no-environ  \\\n",
      "  --no-save --no-restore --quiet CMD INSTALL  \\\n",
      "  '/private/var/folders/q0/mr4b1_gd2rd_frkfpr9f00340000gp/T/RtmpIuLZT1/devtools2aac6afa792e/plyr'  \\\n",
      "  --library='/Library/Frameworks/R.framework/Versions/3.3/Resources/library'  \\\n",
      "  --install-tests \n",
      "\n",
      "'/Library/Frameworks/R.framework/Resources/bin/R' --no-site-file --no-environ  \\\n",
      "  --no-save --no-restore --quiet CMD INSTALL  \\\n",
      "  '/private/var/folders/q0/mr4b1_gd2rd_frkfpr9f00340000gp/T/RtmpIuLZT1/devtools2aac291f0f13/emdbook'  \\\n",
      "  --library='/Library/Frameworks/R.framework/Versions/3.3/Resources/library'  \\\n",
      "  --install-tests \n",
      "\n",
      "Installing fastseg\n",
      "Installing Biobase\n",
      "'/Library/Frameworks/R.framework/Resources/bin/R' --no-site-file --no-environ  \\\n",
      "  --no-save --no-restore --quiet CMD INSTALL  \\\n",
      "  '/private/var/folders/q0/mr4b1_gd2rd_frkfpr9f00340000gp/T/RtmpIuLZT1/devtools2aac368be05a/Biobase'  \\\n",
      "  --library='/Library/Frameworks/R.framework/Versions/3.3/Resources/library'  \\\n",
      "  --install-tests \n",
      "\n",
      "'/Library/Frameworks/R.framework/Resources/bin/R' --no-site-file --no-environ  \\\n",
      "  --no-save --no-restore --quiet CMD INSTALL  \\\n",
      "  '/private/var/folders/q0/mr4b1_gd2rd_frkfpr9f00340000gp/T/RtmpIuLZT1/devtools2aac59cf7c5a/fastseg'  \\\n",
      "  --library='/Library/Frameworks/R.framework/Versions/3.3/Resources/library'  \\\n",
      "  --install-tests \n",
      "\n",
      "Installing gtools\n",
      "'/Library/Frameworks/R.framework/Resources/bin/R' --no-site-file --no-environ  \\\n",
      "  --no-save --no-restore --quiet CMD INSTALL  \\\n",
      "  '/private/var/folders/q0/mr4b1_gd2rd_frkfpr9f00340000gp/T/RtmpIuLZT1/devtools2aac7fba773e/gtools'  \\\n",
      "  --library='/Library/Frameworks/R.framework/Versions/3.3/Resources/library'  \\\n",
      "  --install-tests \n",
      "\n",
      "Installing limma\n",
      "'/Library/Frameworks/R.framework/Resources/bin/R' --no-site-file --no-environ  \\\n",
      "  --no-save --no-restore --quiet CMD INSTALL  \\\n",
      "  '/private/var/folders/q0/mr4b1_gd2rd_frkfpr9f00340000gp/T/RtmpIuLZT1/devtools2aac116ba1f8/limma'  \\\n",
      "  --library='/Library/Frameworks/R.framework/Versions/3.3/Resources/library'  \\\n",
      "  --install-tests \n",
      "\n",
      "Installing mclust\n",
      "'/Library/Frameworks/R.framework/Resources/bin/R' --no-site-file --no-environ  \\\n",
      "  --no-save --no-restore --quiet CMD INSTALL  \\\n",
      "  '/private/var/folders/q0/mr4b1_gd2rd_frkfpr9f00340000gp/T/RtmpIuLZT1/devtools2aac78aa901/mclust'  \\\n",
      "  --library='/Library/Frameworks/R.framework/Versions/3.3/Resources/library'  \\\n",
      "  --install-tests \n",
      "\n",
      "Installing qvalue\n",
      "Installing ggplot2\n",
      "Installing gtable\n",
      "'/Library/Frameworks/R.framework/Resources/bin/R' --no-site-file --no-environ  \\\n",
      "  --no-save --no-restore --quiet CMD INSTALL  \\\n",
      "  '/private/var/folders/q0/mr4b1_gd2rd_frkfpr9f00340000gp/T/RtmpIuLZT1/devtools2aac160b2cf2/gtable'  \\\n",
      "  --library='/Library/Frameworks/R.framework/Versions/3.3/Resources/library'  \\\n",
      "  --install-tests \n",
      "\n",
      "Installing lazyeval\n",
      "'/Library/Frameworks/R.framework/Resources/bin/R' --no-site-file --no-environ  \\\n",
      "  --no-save --no-restore --quiet CMD INSTALL  \\\n",
      "  '/private/var/folders/q0/mr4b1_gd2rd_frkfpr9f00340000gp/T/RtmpIuLZT1/devtools2aac7e38d3da/lazyeval'  \\\n",
      "  --library='/Library/Frameworks/R.framework/Versions/3.3/Resources/library'  \\\n",
      "  --install-tests \n",
      "\n",
      "Installing reshape2\n",
      "'/Library/Frameworks/R.framework/Resources/bin/R' --no-site-file --no-environ  \\\n",
      "  --no-save --no-restore --quiet CMD INSTALL  \\\n",
      "  '/private/var/folders/q0/mr4b1_gd2rd_frkfpr9f00340000gp/T/RtmpIuLZT1/devtools2aac57d09a92/reshape2'  \\\n",
      "  --library='/Library/Frameworks/R.framework/Versions/3.3/Resources/library'  \\\n",
      "  --install-tests \n",
      "\n",
      "Installing scales\n",
      "Installing dichromat\n",
      "'/Library/Frameworks/R.framework/Resources/bin/R' --no-site-file --no-environ  \\\n",
      "  --no-save --no-restore --quiet CMD INSTALL  \\\n",
      "  '/private/var/folders/q0/mr4b1_gd2rd_frkfpr9f00340000gp/T/RtmpIuLZT1/devtools2aac6cea3fc0/dichromat'  \\\n",
      "  --library='/Library/Frameworks/R.framework/Versions/3.3/Resources/library'  \\\n",
      "  --install-tests \n",
      "\n",
      "Installing labeling\n",
      "'/Library/Frameworks/R.framework/Resources/bin/R' --no-site-file --no-environ  \\\n",
      "  --no-save --no-restore --quiet CMD INSTALL  \\\n",
      "  '/private/var/folders/q0/mr4b1_gd2rd_frkfpr9f00340000gp/T/RtmpIuLZT1/devtools2aac53c11ddd/labeling'  \\\n",
      "  --library='/Library/Frameworks/R.framework/Versions/3.3/Resources/library'  \\\n",
      "  --install-tests \n",
      "\n",
      "Installing munsell\n",
      "Installing colorspace\n",
      "'/Library/Frameworks/R.framework/Resources/bin/R' --no-site-file --no-environ  \\\n",
      "  --no-save --no-restore --quiet CMD INSTALL  \\\n",
      "  '/private/var/folders/q0/mr4b1_gd2rd_frkfpr9f00340000gp/T/RtmpIuLZT1/devtools2aac5adb34ea/colorspace'  \\\n",
      "  --library='/Library/Frameworks/R.framework/Versions/3.3/Resources/library'  \\\n",
      "  --install-tests \n",
      "\n",
      "'/Library/Frameworks/R.framework/Resources/bin/R' --no-site-file --no-environ  \\\n",
      "  --no-save --no-restore --quiet CMD INSTALL  \\\n",
      "  '/private/var/folders/q0/mr4b1_gd2rd_frkfpr9f00340000gp/T/RtmpIuLZT1/devtools2aac4b1fb2c1/munsell'  \\\n",
      "  --library='/Library/Frameworks/R.framework/Versions/3.3/Resources/library'  \\\n",
      "  --install-tests \n",
      "\n",
      "Installing RColorBrewer\n",
      "'/Library/Frameworks/R.framework/Resources/bin/R' --no-site-file --no-environ  \\\n",
      "  --no-save --no-restore --quiet CMD INSTALL  \\\n",
      "  '/private/var/folders/q0/mr4b1_gd2rd_frkfpr9f00340000gp/T/RtmpIuLZT1/devtools2aac1f8782c2/RColorBrewer'  \\\n",
      "  --library='/Library/Frameworks/R.framework/Versions/3.3/Resources/library'  \\\n",
      "  --install-tests \n",
      "\n",
      "'/Library/Frameworks/R.framework/Resources/bin/R' --no-site-file --no-environ  \\\n",
      "  --no-save --no-restore --quiet CMD INSTALL  \\\n",
      "  '/private/var/folders/q0/mr4b1_gd2rd_frkfpr9f00340000gp/T/RtmpIuLZT1/devtools2aac719fd172/scales'  \\\n",
      "  --library='/Library/Frameworks/R.framework/Versions/3.3/Resources/library'  \\\n",
      "  --install-tests \n",
      "\n",
      "Installing tibble\n",
      "Installing assertthat\n",
      "'/Library/Frameworks/R.framework/Resources/bin/R' --no-site-file --no-environ  \\\n",
      "  --no-save --no-restore --quiet CMD INSTALL  \\\n",
      "  '/private/var/folders/q0/mr4b1_gd2rd_frkfpr9f00340000gp/T/RtmpIuLZT1/devtools2aac4bc3abf6/assertthat'  \\\n",
      "  --library='/Library/Frameworks/R.framework/Versions/3.3/Resources/library'  \\\n",
      "  --install-tests \n",
      "\n",
      "'/Library/Frameworks/R.framework/Resources/bin/R' --no-site-file --no-environ  \\\n",
      "  --no-save --no-restore --quiet CMD INSTALL  \\\n",
      "  '/private/var/folders/q0/mr4b1_gd2rd_frkfpr9f00340000gp/T/RtmpIuLZT1/devtools2aac30822acf/tibble'  \\\n",
      "  --library='/Library/Frameworks/R.framework/Versions/3.3/Resources/library'  \\\n",
      "  --install-tests \n",
      "\n",
      "'/Library/Frameworks/R.framework/Resources/bin/R' --no-site-file --no-environ  \\\n",
      "  --no-save --no-restore --quiet CMD INSTALL  \\\n",
      "  '/private/var/folders/q0/mr4b1_gd2rd_frkfpr9f00340000gp/T/RtmpIuLZT1/devtools2aac68e3a9eb/ggplot2'  \\\n",
      "  --library='/Library/Frameworks/R.framework/Versions/3.3/Resources/library'  \\\n",
      "  --install-tests \n",
      "\n",
      "Skipping install of 'reshape2' from a cran remote, the SHA1 (1.4.2) has not changed since last install.\n",
      "  Use `force = TRUE` to force installation\n",
      "'/Library/Frameworks/R.framework/Resources/bin/R' --no-site-file --no-environ  \\\n",
      "  --no-save --no-restore --quiet CMD INSTALL  \\\n",
      "  '/private/var/folders/q0/mr4b1_gd2rd_frkfpr9f00340000gp/T/RtmpIuLZT1/devtools2aac2834b821/qvalue'  \\\n",
      "  --library='/Library/Frameworks/R.framework/Versions/3.3/Resources/library'  \\\n",
      "  --install-tests \n",
      "\n",
      "Installing R.utils\n",
      "Installing R.methodsS3\n",
      "'/Library/Frameworks/R.framework/Resources/bin/R' --no-site-file --no-environ  \\\n",
      "  --no-save --no-restore --quiet CMD INSTALL  \\\n",
      "  '/private/var/folders/q0/mr4b1_gd2rd_frkfpr9f00340000gp/T/RtmpIuLZT1/devtools2aac77cabc6/R.methodsS3'  \\\n",
      "  --library='/Library/Frameworks/R.framework/Versions/3.3/Resources/library'  \\\n",
      "  --install-tests \n",
      "\n",
      "Installing R.oo\n",
      "'/Library/Frameworks/R.framework/Resources/bin/R' --no-site-file --no-environ  \\\n",
      "  --no-save --no-restore --quiet CMD INSTALL  \\\n",
      "  '/private/var/folders/q0/mr4b1_gd2rd_frkfpr9f00340000gp/T/RtmpIuLZT1/devtools2aac71f25577/R.oo'  \\\n",
      "  --library='/Library/Frameworks/R.framework/Versions/3.3/Resources/library'  \\\n",
      "  --install-tests \n",
      "\n",
      "'/Library/Frameworks/R.framework/Resources/bin/R' --no-site-file --no-environ  \\\n",
      "  --no-save --no-restore --quiet CMD INSTALL  \\\n",
      "  '/private/var/folders/q0/mr4b1_gd2rd_frkfpr9f00340000gp/T/RtmpIuLZT1/devtools2aac5f396a14/R.utils'  \\\n",
      "  --library='/Library/Frameworks/R.framework/Versions/3.3/Resources/library'  \\\n",
      "  --install-tests \n",
      "\n",
      "Skipping install of 'Rcpp' from a cran remote, the SHA1 (0.12.7) has not changed since last install.\n",
      "  Use `force = TRUE` to force installation\n",
      "Installing Rhtslib\n",
      "'/Library/Frameworks/R.framework/Resources/bin/R' --no-site-file --no-environ  \\\n",
      "  --no-save --no-restore --quiet CMD INSTALL  \\\n",
      "  '/private/var/folders/q0/mr4b1_gd2rd_frkfpr9f00340000gp/T/RtmpIuLZT1/devtools2aac4bb4a088/Rhtslib'  \\\n",
      "  --library='/Library/Frameworks/R.framework/Versions/3.3/Resources/library'  \\\n",
      "  --install-tests \n",
      "\n",
      "Installing Rsamtools\n",
      "Installing BiocParallel\n",
      "Installing futile.logger\n",
      "Installing futile.options\n",
      "'/Library/Frameworks/R.framework/Resources/bin/R' --no-site-file --no-environ  \\\n",
      "  --no-save --no-restore --quiet CMD INSTALL  \\\n",
      "  '/private/var/folders/q0/mr4b1_gd2rd_frkfpr9f00340000gp/T/RtmpIuLZT1/devtools2aac3843d48e/futile.options'  \\\n",
      "  --library='/Library/Frameworks/R.framework/Versions/3.3/Resources/library'  \\\n",
      "  --install-tests \n",
      "\n",
      "Installing lambda.r\n",
      "'/Library/Frameworks/R.framework/Resources/bin/R' --no-site-file --no-environ  \\\n",
      "  --no-save --no-restore --quiet CMD INSTALL  \\\n",
      "  '/private/var/folders/q0/mr4b1_gd2rd_frkfpr9f00340000gp/T/RtmpIuLZT1/devtools2aac554384e0/lambda.r'  \\\n",
      "  --library='/Library/Frameworks/R.framework/Versions/3.3/Resources/library'  \\\n",
      "  --install-tests \n",
      "\n",
      "'/Library/Frameworks/R.framework/Resources/bin/R' --no-site-file --no-environ  \\\n",
      "  --no-save --no-restore --quiet CMD INSTALL  \\\n",
      "  '/private/var/folders/q0/mr4b1_gd2rd_frkfpr9f00340000gp/T/RtmpIuLZT1/devtools2aac31fcfe9c/futile.logger'  \\\n",
      "  --library='/Library/Frameworks/R.framework/Versions/3.3/Resources/library'  \\\n",
      "  --install-tests \n",
      "\n",
      "Installing snow\n",
      "'/Library/Frameworks/R.framework/Resources/bin/R' --no-site-file --no-environ  \\\n",
      "  --no-save --no-restore --quiet CMD INSTALL  \\\n",
      "  '/private/var/folders/q0/mr4b1_gd2rd_frkfpr9f00340000gp/T/RtmpIuLZT1/devtools2aac241fba28/snow'  \\\n",
      "  --library='/Library/Frameworks/R.framework/Versions/3.3/Resources/library'  \\\n",
      "  --install-tests \n",
      "\n",
      "'/Library/Frameworks/R.framework/Resources/bin/R' --no-site-file --no-environ  \\\n",
      "  --no-save --no-restore --quiet CMD INSTALL  \\\n",
      "  '/private/var/folders/q0/mr4b1_gd2rd_frkfpr9f00340000gp/T/RtmpIuLZT1/devtools2aac572ad3d5/BiocParallel'  \\\n",
      "  --library='/Library/Frameworks/R.framework/Versions/3.3/Resources/library'  \\\n",
      "  --install-tests \n",
      "\n",
      "Installing Biostrings\n",
      "'/Library/Frameworks/R.framework/Resources/bin/R' --no-site-file --no-environ  \\\n",
      "  --no-save --no-restore --quiet CMD INSTALL  \\\n",
      "  '/private/var/folders/q0/mr4b1_gd2rd_frkfpr9f00340000gp/T/RtmpIuLZT1/devtools2aac81a53b9/Biostrings'  \\\n",
      "  --library='/Library/Frameworks/R.framework/Versions/3.3/Resources/library'  \\\n",
      "  --install-tests \n",
      "\n",
      "Installing bitops\n",
      "'/Library/Frameworks/R.framework/Resources/bin/R' --no-site-file --no-environ  \\\n",
      "  --no-save --no-restore --quiet CMD INSTALL  \\\n",
      "  '/private/var/folders/q0/mr4b1_gd2rd_frkfpr9f00340000gp/T/RtmpIuLZT1/devtools2aac1bfa68f0/bitops'  \\\n",
      "  --library='/Library/Frameworks/R.framework/Versions/3.3/Resources/library'  \\\n",
      "  --install-tests \n",
      "\n",
      "'/Library/Frameworks/R.framework/Resources/bin/R' --no-site-file --no-environ  \\\n",
      "  --no-save --no-restore --quiet CMD INSTALL  \\\n",
      "  '/private/var/folders/q0/mr4b1_gd2rd_frkfpr9f00340000gp/T/RtmpIuLZT1/devtools2aac7d74ec0e/Rsamtools'  \\\n",
      "  --library='/Library/Frameworks/R.framework/Versions/3.3/Resources/library'  \\\n",
      "  --install-tests \n",
      "\n",
      "Installing rtracklayer\n",
      "Installing GenomicAlignments\n",
      "Installing SummarizedExperiment\n",
      "'/Library/Frameworks/R.framework/Resources/bin/R' --no-site-file --no-environ  \\\n",
      "  --no-save --no-restore --quiet CMD INSTALL  \\\n",
      "  '/private/var/folders/q0/mr4b1_gd2rd_frkfpr9f00340000gp/T/RtmpIuLZT1/devtools2aac13487c86/SummarizedExperiment'  \\\n",
      "  --library='/Library/Frameworks/R.framework/Versions/3.3/Resources/library'  \\\n",
      "  --install-tests \n",
      "\n",
      "'/Library/Frameworks/R.framework/Resources/bin/R' --no-site-file --no-environ  \\\n",
      "  --no-save --no-restore --quiet CMD INSTALL  \\\n",
      "  '/private/var/folders/q0/mr4b1_gd2rd_frkfpr9f00340000gp/T/RtmpIuLZT1/devtools2aac4fca1484/GenomicAlignments'  \\\n",
      "  --library='/Library/Frameworks/R.framework/Versions/3.3/Resources/library'  \\\n",
      "  --install-tests \n",
      "\n",
      "Installing RCurl\n",
      "'/Library/Frameworks/R.framework/Resources/bin/R' --no-site-file --no-environ  \\\n",
      "  --no-save --no-restore --quiet CMD INSTALL  \\\n",
      "  '/private/var/folders/q0/mr4b1_gd2rd_frkfpr9f00340000gp/T/RtmpIuLZT1/devtools2aac577b96b5/RCurl'  \\\n",
      "  --library='/Library/Frameworks/R.framework/Versions/3.3/Resources/library'  \\\n",
      "  --install-tests \n",
      "\n",
      "Installing XML\n",
      "'/Library/Frameworks/R.framework/Resources/bin/R' --no-site-file --no-environ  \\\n",
      "  --no-save --no-restore --quiet CMD INSTALL  \\\n",
      "  '/private/var/folders/q0/mr4b1_gd2rd_frkfpr9f00340000gp/T/RtmpIuLZT1/devtools2aac599dc287/XML'  \\\n",
      "  --library='/Library/Frameworks/R.framework/Versions/3.3/Resources/library'  \\\n",
      "  --install-tests \n",
      "\n",
      "'/Library/Frameworks/R.framework/Resources/bin/R' --no-site-file --no-environ  \\\n",
      "  --no-save --no-restore --quiet CMD INSTALL  \\\n",
      "  '/private/var/folders/q0/mr4b1_gd2rd_frkfpr9f00340000gp/T/RtmpIuLZT1/devtools2aac4552377a/rtracklayer'  \\\n",
      "  --library='/Library/Frameworks/R.framework/Versions/3.3/Resources/library'  \\\n",
      "  --install-tests \n",
      "\n",
      "'/Library/Frameworks/R.framework/Resources/bin/R' --no-site-file --no-environ  \\\n",
      "  --no-save --no-restore --quiet CMD INSTALL  \\\n",
      "  '/private/var/folders/q0/mr4b1_gd2rd_frkfpr9f00340000gp/T/RtmpIuLZT1/devtools2aac1793dcd5/al2na-methylKit-50f71b8'  \\\n",
      "  --library='/Library/Frameworks/R.framework/Versions/3.3/Resources/library'  \\\n",
      "  --install-tests \n",
      "\n",
      "Loading required package: GenomicRanges\n",
      "Loading required package: stats4\n",
      "Loading required package: BiocGenerics\n",
      "Loading required package: parallel\n",
      "\n",
      "Attaching package: ‘BiocGenerics’\n",
      "\n",
      "The following objects are masked from ‘package:parallel’:\n",
      "\n",
      "    clusterApply, clusterApplyLB, clusterCall, clusterEvalQ,\n",
      "    clusterExport, clusterMap, parApply, parCapply, parLapply,\n",
      "    parLapplyLB, parRapply, parSapply, parSapplyLB\n",
      "\n",
      "The following objects are masked from ‘package:stats’:\n",
      "\n",
      "    IQR, mad, xtabs\n",
      "\n",
      "The following objects are masked from ‘package:base’:\n",
      "\n",
      "    anyDuplicated, append, as.data.frame, cbind, colnames, do.call,\n",
      "    duplicated, eval, evalq, Filter, Find, get, grep, grepl, intersect,\n",
      "    is.unsorted, lapply, lengths, Map, mapply, match, mget, order,\n",
      "    paste, pmax, pmax.int, pmin, pmin.int, Position, rank, rbind,\n",
      "    Reduce, rownames, sapply, setdiff, sort, table, tapply, union,\n",
      "    unique, unsplit, which, which.max, which.min\n",
      "\n",
      "Loading required package: S4Vectors\n",
      "\n",
      "Attaching package: ‘S4Vectors’\n",
      "\n",
      "The following objects are masked from ‘package:base’:\n",
      "\n",
      "    colMeans, colSums, expand.grid, rowMeans, rowSums\n",
      "\n",
      "Loading required package: IRanges\n",
      "Loading required package: GenomeInfoDb\n"
     ]
    }
   ],
   "source": [
    "#install.packages( c(\"data.table\",\"devtools\"))\n",
    "source(\"http://bioconductor.org/biocLite.R\")\n",
    "biocLite(c(\"GenomicRanges\",\"IRanges\"))\n",
    "\n",
    "# install the development version from github\n",
    "library(devtools)\n",
    "install_github(\"al2na/methylKit\",build_vignettes=FALSE)\n",
    "library(methylKit)"
   ]
  },
  {
   "cell_type": "code",
   "execution_count": 10,
   "metadata": {
    "collapsed": false
   },
   "outputs": [],
   "source": [
    "file.list <- list ('mkfmt_zr1394_1.txt',\n",
    "'mkfmt_zr1394_2.txt',\n",
    "'mkfmt_zr1394_3.txt',\n",
    "'mkfmt_zr1394_4.txt',\n",
    "'mkfmt_zr1394_5.txt',\n",
    "'mkfmt_zr1394_6.txt',\n",
    "'mkfmt_zr1394_7.txt',\n",
    "'mkfmt_zr1394_8.txt',\n",
    "'mkfmt_zr1394_9.txt',\n",
    "'mkfmt_zr1394_10.txt',\n",
    "'mkfmt_zr1394_11.txt',\n",
    "'mkfmt_zr1394_12.txt',\n",
    "'mkfmt_zr1394_13.txt',\n",
    "'mkfmt_zr1394_14.txt',\n",
    "'mkfmt_zr1394_15.txt',\n",
    "'mkfmt_zr1394_16.txt',\n",
    "'mkfmt_zr1394_17.txt',\n",
    "'mkfmt_zr1394_18.txt')"
   ]
  },
  {
   "cell_type": "code",
   "execution_count": 11,
   "metadata": {
    "collapsed": true
   },
   "outputs": [],
   "source": [
    "sample.id <- list(\"hc1_2B\",\n",
    " \"hc1_4B\",\n",
    " \"hc2_15B\",\n",
    " \"hc2_17\",\n",
    " \"hc3_1\",\n",
    " \"hc3_5\",\n",
    " \"hc3_7\",\n",
    " \"hc3_10\",\n",
    " \"hc3_11\",\n",
    " \"ss2_9B\",\n",
    " \"ss2_14B\",\n",
    " \"ss2_18B\",\n",
    " \"ss3_3B\",\n",
    " \"ss3_14B\",\n",
    " \"ss3_15B\",\n",
    " \"ss3_16B\",\n",
    " \"ss3_20\",\n",
    " \"ss5_18\")"
   ]
  },
  {
   "cell_type": "code",
   "execution_count": 12,
   "metadata": {
    "collapsed": true
   },
   "outputs": [],
   "source": [
    "treatment <- c(0,0,0,0,0,0,0,0,0,1,1,1,1,1,1,1,1,1)"
   ]
  },
  {
   "cell_type": "code",
   "execution_count": 14,
   "metadata": {
    "collapsed": false
   },
   "outputs": [
    {
     "ename": "ERROR",
     "evalue": "Error in fread(filepath, ...): File 'mkfmt_zr1394_2.txt' does not exist. Include one or more spaces to consider the input a system command.\n",
     "output_type": "error",
     "traceback": [
      "Error in fread(filepath, ...): File 'mkfmt_zr1394_2.txt' does not exist. Include one or more spaces to consider the input a system command.\nTraceback:\n",
      "1. methRead(file.list, sample.id, assembly = \"10K\", treatment = treatment)",
      "2. methRead(file.list, sample.id, assembly = \"10K\", treatment = treatment)",
      "3. .readTableFast(location[[i]], header = header, skip = skip, sep = sep)",
      "4. fread.gzipped(filename, header = header, skip = skip, sep = sep, \n .     data.table = FALSE)",
      "5. fread(filepath, ...)",
      "6. stop(\"File '\", input, \"' does not exist. Include one or more spaces to consider the input a system command.\")"
     ]
    }
   ],
   "source": [
    "myobj=methRead(file.list,sample.id,assembly=\"10K\",treatment=treatment)"
   ]
  },
  {
   "cell_type": "code",
   "execution_count": 15,
   "metadata": {
    "collapsed": false
   },
   "outputs": [
    {
     "ename": "ERROR",
     "evalue": "Error in eval(expr, envir, enclos): object 'myobj' not found\n",
     "output_type": "error",
     "traceback": [
      "Error in eval(expr, envir, enclos): object 'myobj' not found\nTraceback:\n"
     ]
    }
   ],
   "source": [
    "myobj[[2]]"
   ]
  },
  {
   "cell_type": "code",
   "execution_count": null,
   "metadata": {
    "collapsed": true
   },
   "outputs": [],
   "source": [
    "getMethylationStats(myobj[[1]], plot = F, both.strands = F)"
   ]
  },
  {
   "cell_type": "code",
   "execution_count": null,
   "metadata": {
    "collapsed": true
   },
   "outputs": [],
   "source": [
    "getMethylationStats(myobj[[1]], plot = T, both.strands = F)"
   ]
  },
  {
   "cell_type": "code",
   "execution_count": null,
   "metadata": {
    "collapsed": true
   },
   "outputs": [],
   "source": [
    "library(\"graphics\")\n"
   ]
  },
  {
   "cell_type": "code",
   "execution_count": null,
   "metadata": {
    "collapsed": true
   },
   "outputs": [],
   "source": [
    "getCoverageStats(myobj[[2]], plot = T, both.strands = F)"
   ]
  },
  {
   "cell_type": "code",
   "execution_count": null,
   "metadata": {
    "collapsed": true
   },
   "outputs": [],
   "source": [
    "meth<-unite(myobj)"
   ]
  },
  {
   "cell_type": "code",
   "execution_count": null,
   "metadata": {
    "collapsed": true
   },
   "outputs": [],
   "source": [
    "head(meth)"
   ]
  },
  {
   "cell_type": "code",
   "execution_count": null,
   "metadata": {
    "collapsed": true
   },
   "outputs": [],
   "source": [
    "getCorrelation(meth, plot = T)"
   ]
  },
  {
   "cell_type": "code",
   "execution_count": null,
   "metadata": {
    "collapsed": true
   },
   "outputs": [],
   "source": [
    "hc<- clusterSamples(meth, dist=\"correlation\", method=\"ward\", plot=T)"
   ]
  },
  {
   "cell_type": "code",
   "execution_count": null,
   "metadata": {
    "collapsed": true
   },
   "outputs": [],
   "source": [
    "PCA<-PCASamples(meth, scale=T, center=T)"
   ]
  },
  {
   "cell_type": "code",
   "execution_count": null,
   "metadata": {
    "collapsed": true
   },
   "outputs": [],
   "source": [
    "PCA<-PCASamples(meth, scale=T, center=T, screeplot=T)"
   ]
  },
  {
   "cell_type": "code",
   "execution_count": null,
   "metadata": {
    "collapsed": true
   },
   "outputs": [],
   "source": []
  },
  {
   "cell_type": "code",
   "execution_count": null,
   "metadata": {
    "collapsed": true
   },
   "outputs": [],
   "source": []
  }
 ],
 "metadata": {
  "anaconda-cloud": {},
  "kernelspec": {
   "display_name": "R",
   "language": "R",
   "name": "ir"
  },
  "language_info": {
   "codemirror_mode": "r",
   "file_extension": ".r",
   "mimetype": "text/x-r-source",
   "name": "R",
   "pygments_lexer": "r",
   "version": "3.3.2"
  }
 },
 "nbformat": 4,
 "nbformat_minor": 1
}
