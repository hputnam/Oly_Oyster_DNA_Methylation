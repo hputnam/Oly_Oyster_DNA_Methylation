{
 "cells": [
  {
   "cell_type": "markdown",
   "metadata": {},
   "source": [
    "# Notebook Description\n",
    "This notebook provides the analysis of methylation clustering, Differential Methylation (DM) and Differential Methylation Locations (DMLs)"
   ]
  },
  {
   "cell_type": "markdown",
   "metadata": {},
   "source": [
    "* Check and Set working location"
   ]
  },
  {
   "cell_type": "code",
   "execution_count": 1,
   "metadata": {
    "collapsed": false
   },
   "outputs": [
    {
     "data": {
      "text/html": [
       "'/Users/hollie/Documents/Oly_Oyster_DNA_Methylation/Notebooks'"
      ],
      "text/latex": [
       "'/Users/hollie/Documents/Oly\\_Oyster\\_DNA\\_Methylation/Notebooks'"
      ],
      "text/markdown": [
       "'/Users/hollie/Documents/Oly_Oyster_DNA_Methylation/Notebooks'"
      ],
      "text/plain": [
       "[1] \"/Users/hollie/Documents/Oly_Oyster_DNA_Methylation/Notebooks\""
      ]
     },
     "metadata": {},
     "output_type": "display_data"
    }
   ],
   "source": [
    "getwd()"
   ]
  },
  {
   "cell_type": "code",
   "execution_count": 2,
   "metadata": {
    "collapsed": true
   },
   "outputs": [],
   "source": [
    "setwd(\"/Users/hollie/Documents/Oly_Oyster_DNA_Methylation/Data/MBD/BSmap_Output\")"
   ]
  },
  {
   "cell_type": "code",
   "execution_count": 3,
   "metadata": {
    "collapsed": false
   },
   "outputs": [
    {
     "data": {
      "text/html": [
       "'/Users/hollie/Documents/Oly_Oyster_DNA_Methylation/Data/MBD/BSmap_Output'"
      ],
      "text/latex": [
       "'/Users/hollie/Documents/Oly\\_Oyster\\_DNA\\_Methylation/Data/MBD/BSmap\\_Output'"
      ],
      "text/markdown": [
       "'/Users/hollie/Documents/Oly_Oyster_DNA_Methylation/Data/MBD/BSmap_Output'"
      ],
      "text/plain": [
       "[1] \"/Users/hollie/Documents/Oly_Oyster_DNA_Methylation/Data/MBD/BSmap_Output\""
      ]
     },
     "metadata": {},
     "output_type": "display_data"
    }
   ],
   "source": [
    "getwd()"
   ]
  },
  {
   "cell_type": "code",
   "execution_count": 4,
   "metadata": {
    "collapsed": false
   },
   "outputs": [
    {
     "name": "stderr",
     "output_type": "stream",
     "text": [
      "Bioconductor version 3.4 (BiocInstaller 1.24.0), ?biocLite for help\n",
      "BioC_mirror: https://bioconductor.org\n",
      "Using Bioconductor 3.4 (BiocInstaller 1.24.0), R 3.3.2 (2016-10-31).\n",
      "Installing package(s) ‘GenomicRanges’, ‘IRanges’\n"
     ]
    },
    {
     "name": "stdout",
     "output_type": "stream",
     "text": [
      "\n",
      "The downloaded binary packages are in\n",
      "\t/var/folders/q0/mr4b1_gd2rd_frkfpr9f00340000gp/T//Rtmp4HfylR/downloaded_packages\n"
     ]
    },
    {
     "name": "stderr",
     "output_type": "stream",
     "text": [
      "Old packages: 'colorspace', 'mgcv', 'Rcpp', 'survival'\n",
      "Skipping install of 'methylKit' from a github remote, the SHA1 (50f71b8e) has not changed since last install.\n",
      "  Use `force = TRUE` to force installation\n",
      "Loading required package: GenomicRanges\n",
      "Loading required package: stats4\n",
      "Loading required package: BiocGenerics\n",
      "Loading required package: parallel\n",
      "\n",
      "Attaching package: ‘BiocGenerics’\n",
      "\n",
      "The following objects are masked from ‘package:parallel’:\n",
      "\n",
      "    clusterApply, clusterApplyLB, clusterCall, clusterEvalQ,\n",
      "    clusterExport, clusterMap, parApply, parCapply, parLapply,\n",
      "    parLapplyLB, parRapply, parSapply, parSapplyLB\n",
      "\n",
      "The following objects are masked from ‘package:stats’:\n",
      "\n",
      "    IQR, mad, xtabs\n",
      "\n",
      "The following objects are masked from ‘package:base’:\n",
      "\n",
      "    anyDuplicated, append, as.data.frame, cbind, colnames, do.call,\n",
      "    duplicated, eval, evalq, Filter, Find, get, grep, grepl, intersect,\n",
      "    is.unsorted, lapply, lengths, Map, mapply, match, mget, order,\n",
      "    paste, pmax, pmax.int, pmin, pmin.int, Position, rank, rbind,\n",
      "    Reduce, rownames, sapply, setdiff, sort, table, tapply, union,\n",
      "    unique, unsplit, which, which.max, which.min\n",
      "\n",
      "Loading required package: S4Vectors\n",
      "\n",
      "Attaching package: ‘S4Vectors’\n",
      "\n",
      "The following objects are masked from ‘package:base’:\n",
      "\n",
      "    colMeans, colSums, expand.grid, rowMeans, rowSums\n",
      "\n",
      "Loading required package: IRanges\n",
      "Loading required package: GenomeInfoDb\n"
     ]
    }
   ],
   "source": [
    "#install.packages( c(\"data.table\",\"devtools\"))\n",
    "source(\"http://bioconductor.org/biocLite.R\")\n",
    "biocLite(c(\"GenomicRanges\",\"IRanges\"))\n",
    "\n",
    "# install the development version from github\n",
    "library(devtools)\n",
    "install_github(\"al2na/methylKit\",build_vignettes=FALSE)\n",
    "library(methylKit)"
   ]
  },
  {
   "cell_type": "code",
   "execution_count": 5,
   "metadata": {
    "collapsed": false
   },
   "outputs": [],
   "source": [
    "file.list <- list ('mkfmt_zr1394_1.txt',\n",
    "'mkfmt_zr1394_2.txt',\n",
    "'mkfmt_zr1394_3.txt',\n",
    "'mkfmt_zr1394_4.txt',\n",
    "'mkfmt_zr1394_5.txt',\n",
    "'mkfmt_zr1394_6.txt',\n",
    "'mkfmt_zr1394_7.txt',\n",
    "'mkfmt_zr1394_8.txt',\n",
    "'mkfmt_zr1394_9.txt',\n",
    "'mkfmt_zr1394_10.txt',\n",
    "'mkfmt_zr1394_11.txt',\n",
    "'mkfmt_zr1394_12.txt',\n",
    "'mkfmt_zr1394_13.txt',\n",
    "'mkfmt_zr1394_14.txt',\n",
    "'mkfmt_zr1394_15.txt',\n",
    "'mkfmt_zr1394_16.txt',\n",
    "'mkfmt_zr1394_17.txt',\n",
    "'mkfmt_zr1394_18.txt')"
   ]
  },
  {
   "cell_type": "code",
   "execution_count": 6,
   "metadata": {
    "collapsed": true
   },
   "outputs": [],
   "source": [
    "sample.id <- list(\"hc1_2B\",\n",
    " \"hc1_4B\",\n",
    " \"hc2_15B\",\n",
    " \"hc2_17\",\n",
    " \"hc3_1\",\n",
    " \"hc3_5\",\n",
    " \"hc3_7\",\n",
    " \"hc3_10\",\n",
    " \"hc3_11\",\n",
    " \"ss2_9B\",\n",
    " \"ss2_14B\",\n",
    " \"ss2_18B\",\n",
    " \"ss3_3B\",\n",
    " \"ss3_14B\",\n",
    " \"ss3_15B\",\n",
    " \"ss3_16B\",\n",
    " \"ss3_20\",\n",
    " \"ss5_18\")"
   ]
  },
  {
   "cell_type": "code",
   "execution_count": 7,
   "metadata": {
    "collapsed": true
   },
   "outputs": [],
   "source": [
    "treatment <- c(0,0,0,0,0,0,0,0,0,1,1,1,1,1,1,1,1,1)"
   ]
  },
  {
   "cell_type": "code",
   "execution_count": 8,
   "metadata": {
    "collapsed": false
   },
   "outputs": [],
   "source": [
    "myobj=methRead(file.list,sample.id,assembly=\"10K\",treatment=treatment)"
   ]
  },
  {
   "cell_type": "code",
   "execution_count": 195,
   "metadata": {
    "collapsed": false
   },
   "outputs": [
    {
     "data": {
      "text/html": [
       "<ol class=list-inline>\n",
       "\t<li>51004</li>\n",
       "\t<li>7</li>\n",
       "</ol>\n"
      ],
      "text/latex": [
       "\\begin{enumerate*}\n",
       "\\item 51004\n",
       "\\item 7\n",
       "\\end{enumerate*}\n"
      ],
      "text/markdown": [
       "1. 51004\n",
       "2. 7\n",
       "\n",
       "\n"
      ],
      "text/plain": [
       "[1] 51004     7"
      ]
     },
     "metadata": {},
     "output_type": "display_data"
    }
   ],
   "source": [
    "dim(myobj[[1]])"
   ]
  },
  {
   "cell_type": "code",
   "execution_count": 171,
   "metadata": {
    "collapsed": false
   },
   "outputs": [
    {
     "data": {
      "text/html": [
       "<table>\n",
       "<thead><tr><th scope=col>chr</th><th scope=col>start</th><th scope=col>end</th><th scope=col>strand</th><th scope=col>coverage</th><th scope=col>numCs</th><th scope=col>numTs</th></tr></thead>\n",
       "<tbody>\n",
       "\t<tr><td>scaffold1002</td><td>  79        </td><td>  79        </td><td>+           </td><td>14          </td><td>13          </td><td> 1          </td></tr>\n",
       "\t<tr><td>scaffold1002</td><td>  81        </td><td>  81        </td><td>+           </td><td>17          </td><td> 1          </td><td>16          </td></tr>\n",
       "\t<tr><td>scaffold1002</td><td> 104        </td><td> 104        </td><td>+           </td><td>17          </td><td>11          </td><td> 6          </td></tr>\n",
       "\t<tr><td>scaffold1002</td><td> 245        </td><td> 245        </td><td>+           </td><td>14          </td><td> 8          </td><td> 6          </td></tr>\n",
       "\t<tr><td>scaffold1002</td><td>1386        </td><td>1386        </td><td>-           </td><td>10          </td><td> 1          </td><td> 9          </td></tr>\n",
       "\t<tr><td>scaffold1002</td><td>1387        </td><td>1387        </td><td>-           </td><td>10          </td><td> 0          </td><td>10          </td></tr>\n",
       "</tbody>\n",
       "</table>\n"
      ],
      "text/latex": [
       "\\begin{tabular}{r|lllllll}\n",
       " chr & start & end & strand & coverage & numCs & numTs\\\\\n",
       "\\hline\n",
       "\t scaffold1002 &   79         &   79         & +            & 14           & 13           &  1          \\\\\n",
       "\t scaffold1002 &   81         &   81         & +            & 17           &  1           & 16          \\\\\n",
       "\t scaffold1002 &  104         &  104         & +            & 17           & 11           &  6          \\\\\n",
       "\t scaffold1002 &  245         &  245         & +            & 14           &  8           &  6          \\\\\n",
       "\t scaffold1002 & 1386         & 1386         & -            & 10           &  1           &  9          \\\\\n",
       "\t scaffold1002 & 1387         & 1387         & -            & 10           &  0           & 10          \\\\\n",
       "\\end{tabular}\n"
      ],
      "text/markdown": [
       "$chr\n",
       ":   1. scaffold1002\n",
       "2. scaffold1002\n",
       "3. scaffold1002\n",
       "4. scaffold1002\n",
       "5. scaffold1002\n",
       "6. scaffold1002\n",
       "\n",
       "\n",
       "\n",
       "$start\n",
       ":   1. 79\n",
       "2. 81\n",
       "3. 104\n",
       "4. 245\n",
       "5. 1386\n",
       "6. 1387\n",
       "\n",
       "\n",
       "\n",
       "$end\n",
       ":   1. 79\n",
       "2. 81\n",
       "3. 104\n",
       "4. 245\n",
       "5. 1386\n",
       "6. 1387\n",
       "\n",
       "\n",
       "\n",
       "$strand\n",
       ":   1. +\n",
       "2. +\n",
       "3. +\n",
       "4. +\n",
       "5. -\n",
       "6. -\n",
       "\n",
       "\n",
       "\n",
       "$coverage\n",
       ":   1. 14\n",
       "2. 17\n",
       "3. 17\n",
       "4. 14\n",
       "5. 10\n",
       "6. 10\n",
       "\n",
       "\n",
       "\n",
       "$numCs\n",
       ":   1. 13\n",
       "2. 1\n",
       "3. 11\n",
       "4. 8\n",
       "5. 1\n",
       "6. 0\n",
       "\n",
       "\n",
       "\n",
       "$numTs\n",
       ":   1. 1\n",
       "2. 16\n",
       "3. 6\n",
       "4. 6\n",
       "5. 9\n",
       "6. 10\n",
       "\n",
       "\n",
       "\n",
       "\n",
       "\n"
      ],
      "text/plain": [
       "  chr          start end  strand coverage numCs numTs\n",
       "1 scaffold1002   79    79 +      14       13     1   \n",
       "2 scaffold1002   81    81 +      17        1    16   \n",
       "3 scaffold1002  104   104 +      17       11     6   \n",
       "4 scaffold1002  245   245 +      14        8     6   \n",
       "5 scaffold1002 1386  1386 -      10        1     9   \n",
       "6 scaffold1002 1387  1387 -      10        0    10   "
      ]
     },
     "metadata": {},
     "output_type": "display_data"
    }
   ],
   "source": [
    "head(myobj[[1]])"
   ]
  },
  {
   "cell_type": "code",
   "execution_count": 189,
   "metadata": {
    "collapsed": false
   },
   "outputs": [
    {
     "name": "stdout",
     "output_type": "stream",
     "text": [
      "methylation statistics per base\n",
      "\n",
      "FORWARD STRAND:\n",
      "summary:\n",
      "   Min. 1st Qu.  Median    Mean 3rd Qu.    Max. \n",
      "   0.00    0.00   20.00   39.21   81.58  100.00 \n",
      "percentiles:\n",
      "        0%        10%        20%        30%        40%        50%        60% \n",
      "  0.000000   0.000000   0.000000   0.000000   5.882353  20.000000  60.000000 \n",
      "       70%        80%        90%        95%        99%      99.5%      99.9% \n",
      " 76.470588  85.714286  92.857143 100.000000 100.000000 100.000000 100.000000 \n",
      "      100% \n",
      "100.000000 \n",
      "\n",
      "\n",
      "REVERSE STRAND:\n",
      "summary:\n",
      "   Min. 1st Qu.  Median    Mean 3rd Qu.    Max. \n",
      "   0.00    0.00   17.65   38.55   81.33  100.00 \n",
      "percentiles:\n",
      "       0%       10%       20%       30%       40%       50%       60%       70% \n",
      "  0.00000   0.00000   0.00000   0.00000   5.00000  17.64706  57.69231  76.19048 \n",
      "      80%       90%       95%       99%     99.5%     99.9%      100% \n",
      " 85.71429  92.85714 100.00000 100.00000 100.00000 100.00000 100.00000 \n",
      "\n"
     ]
    }
   ],
   "source": [
    "getMethylationStats(myobj[[1]], plot = F, both.strands = T)"
   ]
  },
  {
   "cell_type": "code",
   "execution_count": 11,
   "metadata": {
    "collapsed": false
   },
   "outputs": [
    {
     "data": {
      "image/png": "[encoded data removed]",
      "text/plain": [
       "Plot with title “Histogram of % CpG methylation”"
      ]
     },
     "metadata": {},
     "output_type": "display_data"
    }
   ],
   "source": [
    "getMethylationStats(myobj[[1]], plot = T, both.strands = F)"
   ]
  },
  {
   "cell_type": "code",
   "execution_count": 12,
   "metadata": {
    "collapsed": true
   },
   "outputs": [],
   "source": [
    "library(\"graphics\")\n"
   ]
  },
  {
   "cell_type": "code",
   "execution_count": 13,
   "metadata": {
    "collapsed": false
   },
   "outputs": [
    {
     "data": {
      "image/png": "[encoded data removed]",
      "text/plain": [
       "Plot with title “Histogram of CpG coverage”"
      ]
     },
     "metadata": {},
     "output_type": "display_data"
    }
   ],
   "source": [
    "getCoverageStats(myobj[[1]], plot = T, both.strands = F)"
   ]
  },
  {
   "cell_type": "code",
   "execution_count": 14,
   "metadata": {
    "collapsed": true
   },
   "outputs": [],
   "source": [
    "zr1394_1_CpG <- getData(myobj[[1]])"
   ]
  },
  {
   "cell_type": "code",
   "execution_count": 46,
   "metadata": {
    "collapsed": false
   },
   "outputs": [
    {
     "data": {
      "text/html": [
       "<ol class=list-inline>\n",
       "\t<li>51004</li>\n",
       "\t<li>5</li>\n",
       "</ol>\n"
      ],
      "text/latex": [
       "\\begin{enumerate*}\n",
       "\\item 51004\n",
       "\\item 5\n",
       "\\end{enumerate*}\n"
      ],
      "text/markdown": [
       "1. 51004\n",
       "2. 5\n",
       "\n",
       "\n"
      ],
      "text/plain": [
       "[1] 51004     5"
      ]
     },
     "metadata": {},
     "output_type": "display_data"
    }
   ],
   "source": [
    "dim(zr1394_1_CpG)"
   ]
  },
  {
   "cell_type": "code",
   "execution_count": 39,
   "metadata": {
    "collapsed": false
   },
   "outputs": [
    {
     "data": {
      "text/html": [
       "<table>\n",
       "<tbody>\n",
       "\t<tr><td>scaffold1002      </td><td>79                </td><td>80                </td><td>CpG               </td><td>0.928571428571429 </td></tr>\n",
       "\t<tr><td>scaffold1002      </td><td>81                </td><td>82                </td><td>CpG               </td><td>0.0588235294117647</td></tr>\n",
       "\t<tr><td>scaffold1002      </td><td>104               </td><td>105               </td><td>CpG               </td><td>0.647058823529412 </td></tr>\n",
       "\t<tr><td>scaffold1002      </td><td>245               </td><td>246               </td><td>CpG               </td><td>0.571428571428571 </td></tr>\n",
       "\t<tr><td>scaffold1002      </td><td>1386              </td><td>1387              </td><td>CpG               </td><td>0.1               </td></tr>\n",
       "\t<tr><td>scaffold1002      </td><td>1387              </td><td>1388              </td><td>CpG               </td><td>0                 </td></tr>\n",
       "</tbody>\n",
       "</table>\n"
      ],
      "text/latex": [
       "\\begin{tabular}{lllll}\n",
       "\t scaffold1002       & 79                 & 80                 & CpG                & 0.928571428571429 \\\\\n",
       "\t scaffold1002       & 81                 & 82                 & CpG                & 0.0588235294117647\\\\\n",
       "\t scaffold1002       & 104                & 105                & CpG                & 0.647058823529412 \\\\\n",
       "\t scaffold1002       & 245                & 246                & CpG                & 0.571428571428571 \\\\\n",
       "\t scaffold1002       & 1386               & 1387               & CpG                & 0.1               \\\\\n",
       "\t scaffold1002       & 1387               & 1388               & CpG                & 0                 \\\\\n",
       "\\end{tabular}\n"
      ],
      "text/markdown": [
       "1. 'scaffold1002'\n",
       "2. 'scaffold1002'\n",
       "3. 'scaffold1002'\n",
       "4. 'scaffold1002'\n",
       "5. 'scaffold1002'\n",
       "6. 'scaffold1002'\n",
       "7. '79'\n",
       "8. '81'\n",
       "9. '104'\n",
       "10. '245'\n",
       "11. '1386'\n",
       "12. '1387'\n",
       "13. '80'\n",
       "14. '82'\n",
       "15. '105'\n",
       "16. '246'\n",
       "17. '1387'\n",
       "18. '1388'\n",
       "19. 'CpG'\n",
       "20. 'CpG'\n",
       "21. 'CpG'\n",
       "22. 'CpG'\n",
       "23. 'CpG'\n",
       "24. 'CpG'\n",
       "25. '0.928571428571429'\n",
       "26. '0.0588235294117647'\n",
       "27. '0.647058823529412'\n",
       "28. '0.571428571428571'\n",
       "29. '0.1'\n",
       "30. '0'\n",
       "\n",
       "\n"
      ],
      "text/plain": [
       "     [,1]         [,2] [,3] [,4] [,5]              \n",
       "[1,] scaffold1002 79   80   CpG  0.928571428571429 \n",
       "[2,] scaffold1002 81   82   CpG  0.0588235294117647\n",
       "[3,] scaffold1002 104  105  CpG  0.647058823529412 \n",
       "[4,] scaffold1002 245  246  CpG  0.571428571428571 \n",
       "[5,] scaffold1002 1386 1387 CpG  0.1               \n",
       "[6,] scaffold1002 1387 1388 CpG  0                 "
      ]
     },
     "metadata": {},
     "output_type": "display_data"
    }
   ],
   "source": [
    "head(zr1394_1_CpG)"
   ]
  },
  {
   "cell_type": "code",
   "execution_count": 16,
   "metadata": {
    "collapsed": true
   },
   "outputs": [],
   "source": [
    "zr1394_1_CpG$CpG <- \"CpG\""
   ]
  },
  {
   "cell_type": "code",
   "execution_count": 17,
   "metadata": {
    "collapsed": false
   },
   "outputs": [],
   "source": [
    "zr1394_1_CpG$Percent_Meth <- zr1394_1_CpG$numCs/(zr1394_1_CpG$numCs+zr1394_1_CpG$numTs)"
   ]
  },
  {
   "cell_type": "code",
   "execution_count": 18,
   "metadata": {
    "collapsed": true
   },
   "outputs": [],
   "source": [
    "zr1394_1_CpG$end <- zr1394_1_CpG$start+1"
   ]
  },
  {
   "cell_type": "code",
   "execution_count": 19,
   "metadata": {
    "collapsed": false
   },
   "outputs": [
    {
     "data": {
      "text/html": [
       "<table>\n",
       "<thead><tr><th scope=col>chr</th><th scope=col>start</th><th scope=col>end</th><th scope=col>strand</th><th scope=col>coverage</th><th scope=col>numCs</th><th scope=col>numTs</th><th scope=col>CpG</th><th scope=col>Percent_Meth</th></tr></thead>\n",
       "<tbody>\n",
       "\t<tr><td>scaffold1002</td><td>  79        </td><td>  80        </td><td>+           </td><td>14          </td><td>13          </td><td> 1          </td><td>CpG         </td><td>0.92857143  </td></tr>\n",
       "\t<tr><td>scaffold1002</td><td>  81        </td><td>  82        </td><td>+           </td><td>17          </td><td> 1          </td><td>16          </td><td>CpG         </td><td>0.05882353  </td></tr>\n",
       "\t<tr><td>scaffold1002</td><td> 104        </td><td> 105        </td><td>+           </td><td>17          </td><td>11          </td><td> 6          </td><td>CpG         </td><td>0.64705882  </td></tr>\n",
       "\t<tr><td>scaffold1002</td><td> 245        </td><td> 246        </td><td>+           </td><td>14          </td><td> 8          </td><td> 6          </td><td>CpG         </td><td>0.57142857  </td></tr>\n",
       "\t<tr><td>scaffold1002</td><td>1386        </td><td>1387        </td><td>-           </td><td>10          </td><td> 1          </td><td> 9          </td><td>CpG         </td><td>0.10000000  </td></tr>\n",
       "\t<tr><td>scaffold1002</td><td>1387        </td><td>1388        </td><td>-           </td><td>10          </td><td> 0          </td><td>10          </td><td>CpG         </td><td>0.00000000  </td></tr>\n",
       "</tbody>\n",
       "</table>\n"
      ],
      "text/latex": [
       "\\begin{tabular}{r|lllllllll}\n",
       " chr & start & end & strand & coverage & numCs & numTs & CpG & Percent\\_Meth\\\\\n",
       "\\hline\n",
       "\t scaffold1002 &   79         &   80         & +            & 14           & 13           &  1           & CpG          & 0.92857143  \\\\\n",
       "\t scaffold1002 &   81         &   82         & +            & 17           &  1           & 16           & CpG          & 0.05882353  \\\\\n",
       "\t scaffold1002 &  104         &  105         & +            & 17           & 11           &  6           & CpG          & 0.64705882  \\\\\n",
       "\t scaffold1002 &  245         &  246         & +            & 14           &  8           &  6           & CpG          & 0.57142857  \\\\\n",
       "\t scaffold1002 & 1386         & 1387         & -            & 10           &  1           &  9           & CpG          & 0.10000000  \\\\\n",
       "\t scaffold1002 & 1387         & 1388         & -            & 10           &  0           & 10           & CpG          & 0.00000000  \\\\\n",
       "\\end{tabular}\n"
      ],
      "text/plain": [
       "  chr          start end  strand coverage numCs numTs CpG Percent_Meth\n",
       "1 scaffold1002   79    80 +      14       13     1    CpG 0.92857143  \n",
       "2 scaffold1002   81    82 +      17        1    16    CpG 0.05882353  \n",
       "3 scaffold1002  104   105 +      17       11     6    CpG 0.64705882  \n",
       "4 scaffold1002  245   246 +      14        8     6    CpG 0.57142857  \n",
       "5 scaffold1002 1386  1387 -      10        1     9    CpG 0.10000000  \n",
       "6 scaffold1002 1387  1388 -      10        0    10    CpG 0.00000000  "
      ]
     },
     "metadata": {},
     "output_type": "display_data"
    }
   ],
   "source": [
    "head(zr1394_1_CpG)"
   ]
  },
  {
   "cell_type": "code",
   "execution_count": 138,
   "metadata": {
    "collapsed": false
   },
   "outputs": [],
   "source": [
    "#zr1394_1_CpG <- zr1394_1_CpG[,c(1:3,8:9)]"
   ]
  },
  {
   "cell_type": "code",
   "execution_count": 21,
   "metadata": {
    "collapsed": false
   },
   "outputs": [],
   "source": [
    "zr1394_1_CpG <- cbind(as.character(zr1394_1_CpG$chr), zr1394_1_CpG$start, zr1394_1_CpG$end, zr1394_1_CpG$CpG, zr1394_1_CpG$Percent_Meth)"
   ]
  },
  {
   "cell_type": "code",
   "execution_count": 22,
   "metadata": {
    "collapsed": false
   },
   "outputs": [
    {
     "data": {
      "text/html": [
       "<table>\n",
       "<tbody>\n",
       "\t<tr><td>scaffold1002      </td><td>79                </td><td>80                </td><td>CpG               </td><td>0.928571428571429 </td></tr>\n",
       "\t<tr><td>scaffold1002      </td><td>81                </td><td>82                </td><td>CpG               </td><td>0.0588235294117647</td></tr>\n",
       "\t<tr><td>scaffold1002      </td><td>104               </td><td>105               </td><td>CpG               </td><td>0.647058823529412 </td></tr>\n",
       "\t<tr><td>scaffold1002      </td><td>245               </td><td>246               </td><td>CpG               </td><td>0.571428571428571 </td></tr>\n",
       "\t<tr><td>scaffold1002      </td><td>1386              </td><td>1387              </td><td>CpG               </td><td>0.1               </td></tr>\n",
       "\t<tr><td>scaffold1002      </td><td>1387              </td><td>1388              </td><td>CpG               </td><td>0                 </td></tr>\n",
       "</tbody>\n",
       "</table>\n"
      ],
      "text/latex": [
       "\\begin{tabular}{lllll}\n",
       "\t scaffold1002       & 79                 & 80                 & CpG                & 0.928571428571429 \\\\\n",
       "\t scaffold1002       & 81                 & 82                 & CpG                & 0.0588235294117647\\\\\n",
       "\t scaffold1002       & 104                & 105                & CpG                & 0.647058823529412 \\\\\n",
       "\t scaffold1002       & 245                & 246                & CpG                & 0.571428571428571 \\\\\n",
       "\t scaffold1002       & 1386               & 1387               & CpG                & 0.1               \\\\\n",
       "\t scaffold1002       & 1387               & 1388               & CpG                & 0                 \\\\\n",
       "\\end{tabular}\n"
      ],
      "text/markdown": [
       "1. 'scaffold1002'\n",
       "2. 'scaffold1002'\n",
       "3. 'scaffold1002'\n",
       "4. 'scaffold1002'\n",
       "5. 'scaffold1002'\n",
       "6. 'scaffold1002'\n",
       "7. '79'\n",
       "8. '81'\n",
       "9. '104'\n",
       "10. '245'\n",
       "11. '1386'\n",
       "12. '1387'\n",
       "13. '80'\n",
       "14. '82'\n",
       "15. '105'\n",
       "16. '246'\n",
       "17. '1387'\n",
       "18. '1388'\n",
       "19. 'CpG'\n",
       "20. 'CpG'\n",
       "21. 'CpG'\n",
       "22. 'CpG'\n",
       "23. 'CpG'\n",
       "24. 'CpG'\n",
       "25. '0.928571428571429'\n",
       "26. '0.0588235294117647'\n",
       "27. '0.647058823529412'\n",
       "28. '0.571428571428571'\n",
       "29. '0.1'\n",
       "30. '0'\n",
       "\n",
       "\n"
      ],
      "text/plain": [
       "     [,1]         [,2] [,3] [,4] [,5]              \n",
       "[1,] scaffold1002 79   80   CpG  0.928571428571429 \n",
       "[2,] scaffold1002 81   82   CpG  0.0588235294117647\n",
       "[3,] scaffold1002 104  105  CpG  0.647058823529412 \n",
       "[4,] scaffold1002 245  246  CpG  0.571428571428571 \n",
       "[5,] scaffold1002 1386 1387 CpG  0.1               \n",
       "[6,] scaffold1002 1387 1388 CpG  0                 "
      ]
     },
     "metadata": {},
     "output_type": "display_data"
    }
   ],
   "source": [
    "head(zr1394_1_CpG)"
   ]
  },
  {
   "cell_type": "code",
   "execution_count": 28,
   "metadata": {
    "collapsed": false
   },
   "outputs": [],
   "source": [
    "write.table(zr1394_1_CpG, \"zr1394_percentMeth.igv\", sep=\"\\t\", quote = F, col.names = F, row.names = F)"
   ]
  },
  {
   "cell_type": "code",
   "execution_count": 29,
   "metadata": {
    "collapsed": true
   },
   "outputs": [],
   "source": [
    "meth<-unite(myobj)"
   ]
  },
  {
   "cell_type": "code",
   "execution_count": 30,
   "metadata": {
    "collapsed": false
   },
   "outputs": [
    {
     "data": {},
     "metadata": {},
     "output_type": "display_data"
    }
   ],
   "source": [
    "head(meth)"
   ]
  },
  {
   "cell_type": "code",
   "execution_count": 33,
   "metadata": {
    "collapsed": false
   },
   "outputs": [
    {
     "name": "stdout",
     "output_type": "stream",
     "text": [
      "           hc1_2B    hc1_4B   hc2_15B    hc2_17     hc3_1     hc3_5     hc3_7\n",
      "hc1_2B  1.0000000 0.9744097 0.9768372 0.9768662 0.9671130 0.9705630 0.9785439\n",
      "hc1_4B  0.9744097 1.0000000 0.9730078 0.9754646 0.9680058 0.9679099 0.9757090\n",
      "hc2_15B 0.9768372 0.9730078 1.0000000 0.9792481 0.9657787 0.9674103 0.9791701\n",
      "hc2_17  0.9768662 0.9754646 0.9792481 1.0000000 0.9655068 0.9693567 0.9798119\n",
      "hc3_1   0.9671130 0.9680058 0.9657787 0.9655068 1.0000000 0.9650892 0.9692850\n",
      "hc3_5   0.9705630 0.9679099 0.9674103 0.9693567 0.9650892 1.0000000 0.9687657\n",
      "hc3_7   0.9785439 0.9757090 0.9791701 0.9798119 0.9692850 0.9687657 1.0000000\n",
      "hc3_10  0.9775672 0.9733575 0.9757256 0.9789793 0.9642865 0.9686175 0.9776917\n",
      "hc3_11  0.9767676 0.9744591 0.9781280 0.9772363 0.9681418 0.9706423 0.9783034\n",
      "ss2_9B  0.9633398 0.9580220 0.9641067 0.9661762 0.9492645 0.9519483 0.9643056\n",
      "ss2_14B 0.9667656 0.9595865 0.9689307 0.9689036 0.9499532 0.9524519 0.9671994\n",
      "ss2_18B 0.9707972 0.9706376 0.9694254 0.9698314 0.9678616 0.9658113 0.9715078\n",
      "ss3_3B  0.9779714 0.9728632 0.9784446 0.9799405 0.9634560 0.9651873 0.9794388\n",
      "ss3_14B 0.9772578 0.9713289 0.9793300 0.9794760 0.9611302 0.9648685 0.9791417\n",
      "ss3_15B 0.9760957 0.9701445 0.9763199 0.9784914 0.9595690 0.9629489 0.9774396\n",
      "ss3_16B 0.9756692 0.9692055 0.9768494 0.9783616 0.9592277 0.9625150 0.9777297\n",
      "ss3_20  0.9732530 0.9689296 0.9722519 0.9757618 0.9587787 0.9612153 0.9738129\n",
      "ss5_18  0.9747711 0.9735787 0.9742476 0.9770334 0.9675207 0.9686522 0.9768888\n",
      "           hc3_10    hc3_11    ss2_9B   ss2_14B   ss2_18B    ss3_3B   ss3_14B\n",
      "hc1_2B  0.9775672 0.9767676 0.9633398 0.9667656 0.9707972 0.9779714 0.9772578\n",
      "hc1_4B  0.9733575 0.9744591 0.9580220 0.9595865 0.9706376 0.9728632 0.9713289\n",
      "hc2_15B 0.9757256 0.9781280 0.9641067 0.9689307 0.9694254 0.9784446 0.9793300\n",
      "hc2_17  0.9789793 0.9772363 0.9661762 0.9689036 0.9698314 0.9799405 0.9794760\n",
      "hc3_1   0.9642865 0.9681418 0.9492645 0.9499532 0.9678616 0.9634560 0.9611302\n",
      "hc3_5   0.9686175 0.9706423 0.9519483 0.9524519 0.9658113 0.9651873 0.9648685\n",
      "hc3_7   0.9776917 0.9783034 0.9643056 0.9671994 0.9715078 0.9794388 0.9791417\n",
      "hc3_10  1.0000000 0.9751660 0.9641617 0.9669404 0.9688872 0.9783893 0.9779674\n",
      "hc3_11  0.9751660 1.0000000 0.9653092 0.9655831 0.9742412 0.9782939 0.9779100\n",
      "ss2_9B  0.9641617 0.9653092 1.0000000 0.9675640 0.9583111 0.9740260 0.9694149\n",
      "ss2_14B 0.9669404 0.9655831 0.9675640 1.0000000 0.9562048 0.9792070 0.9783154\n",
      "ss2_18B 0.9688872 0.9742412 0.9583111 0.9562048 1.0000000 0.9718547 0.9698607\n",
      "ss3_3B  0.9783893 0.9782939 0.9740260 0.9792070 0.9718547 1.0000000 0.9856662\n",
      "ss3_14B 0.9779674 0.9779100 0.9694149 0.9783154 0.9698607 0.9856662 1.0000000\n",
      "ss3_15B 0.9780326 0.9742875 0.9703444 0.9785007 0.9655309 0.9843262 0.9844652\n",
      "ss3_16B 0.9766276 0.9754317 0.9717520 0.9814488 0.9656287 0.9856333 0.9871474\n",
      "ss3_20  0.9755282 0.9720904 0.9696371 0.9735929 0.9658156 0.9812116 0.9781398\n",
      "ss5_18  0.9755045 0.9774564 0.9671418 0.9658898 0.9749348 0.9799514 0.9769177\n",
      "          ss3_15B   ss3_16B    ss3_20    ss5_18\n",
      "hc1_2B  0.9760957 0.9756692 0.9732530 0.9747711\n",
      "hc1_4B  0.9701445 0.9692055 0.9689296 0.9735787\n",
      "hc2_15B 0.9763199 0.9768494 0.9722519 0.9742476\n",
      "hc2_17  0.9784914 0.9783616 0.9757618 0.9770334\n",
      "hc3_1   0.9595690 0.9592277 0.9587787 0.9675207\n",
      "hc3_5   0.9629489 0.9625150 0.9612153 0.9686522\n",
      "hc3_7   0.9774396 0.9777297 0.9738129 0.9768888\n",
      "hc3_10  0.9780326 0.9766276 0.9755282 0.9755045\n",
      "hc3_11  0.9742875 0.9754317 0.9720904 0.9774564\n",
      "ss2_9B  0.9703444 0.9717520 0.9696371 0.9671418\n",
      "ss2_14B 0.9785007 0.9814488 0.9735929 0.9658898\n",
      "ss2_18B 0.9655309 0.9656287 0.9658156 0.9749348\n",
      "ss3_3B  0.9843262 0.9856333 0.9812116 0.9799514\n",
      "ss3_14B 0.9844652 0.9871474 0.9781398 0.9769177\n",
      "ss3_15B 1.0000000 0.9841742 0.9802201 0.9748424\n",
      "ss3_16B 0.9841742 1.0000000 0.9783216 0.9750527\n",
      "ss3_20  0.9802201 0.9783216 1.0000000 0.9757869\n",
      "ss5_18  0.9748424 0.9750527 0.9757869 1.0000000\n"
     ]
    }
   ],
   "source": [
    "getCorrelation(meth, plot = F)"
   ]
  },
  {
   "cell_type": "code",
   "execution_count": 34,
   "metadata": {
    "collapsed": false
   },
   "outputs": [
    {
     "name": "stderr",
     "output_type": "stream",
     "text": [
      "The \"ward\" method has been renamed to \"ward.D\"; note new \"ward.D2\"\n"
     ]
    },
    {
     "data": {
      "image/png": "[encoded data removed]",
      "text/plain": [
       "Plot with title “CpG methylation clustering”"
      ]
     },
     "metadata": {},
     "output_type": "display_data"
    }
   ],
   "source": [
    "hc<- clusterSamples(meth, dist=\"correlation\", method=\"ward\", plot=T)"
   ]
  },
  {
   "cell_type": "code",
   "execution_count": 35,
   "metadata": {
    "collapsed": false
   },
   "outputs": [
    {
     "data": {
      "image/png": "[encoded data removed]",
      "text/plain": [
       "Plot with title “CpG methylation PCA Analysis”"
      ]
     },
     "metadata": {},
     "output_type": "display_data"
    }
   ],
   "source": [
    "PCA<-PCASamples(meth, scale=T, center=T)"
   ]
  },
  {
   "cell_type": "markdown",
   "metadata": {
    "collapsed": true
   },
   "source": [
    "PCA<-PCASamples(meth, scale=T, center=T, screeplot=T)"
   ]
  },
  {
   "cell_type": "markdown",
   "metadata": {
    "collapsed": true
   },
   "source": [
    "* Identify the CpG context DMLs specific to SS or HC "
   ]
  },
  {
   "cell_type": "code",
   "execution_count": 36,
   "metadata": {
    "collapsed": false
   },
   "outputs": [],
   "source": [
    "#note that file.list, sample.id, and treatment were defined in prior section\n",
    "DMLobj <- methRead(file.list,sample.id,assembly=\"v9\",treatment=treatment, context=\"CpG\")\n",
    "\n"
   ]
  },
  {
   "cell_type": "markdown",
   "metadata": {},
   "source": [
    "### Unite methylRawList and methylRawListDB objects so only bases with coverage from all samples are retained"
   ]
  },
  {
   "cell_type": "code",
   "execution_count": 47,
   "metadata": {
    "collapsed": true
   },
   "outputs": [],
   "source": [
    "pop.DML <-unite(DMLobj)"
   ]
  },
  {
   "cell_type": "code",
   "execution_count": 48,
   "metadata": {
    "collapsed": true
   },
   "outputs": [],
   "source": [
    "write.csv(pop.DML, file=\"Pop.DML\")"
   ]
  },
  {
   "cell_type": "markdown",
   "metadata": {},
   "source": [
    "### Pool replicates within groups to a single sample per group - sums up coverage, numCs and numTs values within each group so one representative sample for each group will be created in a new methylBase object"
   ]
  },
  {
   "cell_type": "code",
   "execution_count": 49,
   "metadata": {
    "collapsed": true
   },
   "outputs": [],
   "source": [
    "pop.pooled <- pool(pop.DML, sample.ids = c(\"HC\", \"SS\"))"
   ]
  },
  {
   "cell_type": "code",
   "execution_count": 51,
   "metadata": {
    "collapsed": false
   },
   "outputs": [
    {
     "data": {
      "text/html": [
       "<ol class=list-inline>\n",
       "\t<li>16886</li>\n",
       "\t<li>10</li>\n",
       "</ol>\n"
      ],
      "text/latex": [
       "\\begin{enumerate*}\n",
       "\\item 16886\n",
       "\\item 10\n",
       "\\end{enumerate*}\n"
      ],
      "text/markdown": [
       "1. 16886\n",
       "2. 10\n",
       "\n",
       "\n"
      ],
      "text/plain": [
       "[1] 16886    10"
      ]
     },
     "metadata": {},
     "output_type": "display_data"
    }
   ],
   "source": [
    "dim(pop.pooled)"
   ]
  },
  {
   "cell_type": "code",
   "execution_count": 54,
   "metadata": {
    "collapsed": false
   },
   "outputs": [
    {
     "name": "stdout",
     "output_type": "stream",
     "text": [
      "'data.frame':\t16886 obs. of  10 variables:\n",
      "Formal class 'methylBase' [package \"methylKit\"] with 13 slots\n",
      "  ..@ .Data         :List of 10\n",
      "  .. ..$ : Factor w/ 1021 levels \"scaffold1002\",..: 1 1 1 1 1 1 1 1 1 1 ...\n",
      "  .. ..$ : int  11858 11859 11860 11863 11898 11967 11988 12098 12100 12101 ...\n",
      "  .. ..$ : int  11858 11859 11860 11863 11898 11967 11988 12098 12100 12101 ...\n",
      "  .. ..$ : Factor w/ 2 levels \"-\",\"+\": 2 2 1 1 2 1 1 1 1 1 ...\n",
      "  .. ..$ : num  2250 2310 1333 1425 701 ...\n",
      "  .. ..$ : num  33 1850 1138 45 2 ...\n",
      "  .. ..$ : num  2217 460 195 1380 699 ...\n",
      "  .. ..$ : num  3165 3232 2204 2362 898 ...\n",
      "  .. ..$ : num  31 2579 1912 99 0 ...\n",
      "  .. ..$ : num  3134 653 292 2263 898 ...\n",
      "  ..@ sample.ids    : chr  \"HC\" \"SS\"\n",
      "  ..@ assembly      : chr \"v9\"\n",
      "  ..@ context       : chr \"CpG\"\n",
      "  ..@ treatment     : num  0 1\n",
      "  ..@ coverage.index: num  5 8\n",
      "  ..@ numCs.index   : num  6 9\n",
      "  ..@ numTs.index   : num  7 10\n",
      "  ..@ destranded    : logi FALSE\n",
      "  ..@ resolution    : chr \"base\"\n",
      "  ..@ names         : chr  \"chr\" \"start\" \"end\" \"strand\" ...\n",
      "  ..@ row.names     : int  1 2 3 4 5 6 7 8 9 10 ...\n",
      "  ..@ .S3Class      : chr \"data.frame\"\n"
     ]
    }
   ],
   "source": [
    "str(pop.pooled)"
   ]
  },
  {
   "cell_type": "code",
   "execution_count": 50,
   "metadata": {
    "collapsed": false
   },
   "outputs": [
    {
     "data": {
      "text/html": [
       "<table>\n",
       "<thead><tr><th scope=col>chr</th><th scope=col>start</th><th scope=col>end</th><th scope=col>strand</th><th scope=col>coverage1</th><th scope=col>numCs1</th><th scope=col>numTs1</th><th scope=col>coverage2</th><th scope=col>numCs2</th><th scope=col>numTs2</th></tr></thead>\n",
       "<tbody>\n",
       "\t<tr><td>scaffold1002</td><td>11858       </td><td>11858       </td><td>+           </td><td>2250        </td><td>  33        </td><td>2217        </td><td>3165        </td><td>  31        </td><td>3134        </td></tr>\n",
       "\t<tr><td>scaffold1002</td><td>11859       </td><td>11859       </td><td>+           </td><td>2310        </td><td>1850        </td><td> 460        </td><td>3232        </td><td>2579        </td><td> 653        </td></tr>\n",
       "\t<tr><td>scaffold1002</td><td>11860       </td><td>11860       </td><td>-           </td><td>1333        </td><td>1138        </td><td> 195        </td><td>2204        </td><td>1912        </td><td> 292        </td></tr>\n",
       "\t<tr><td>scaffold1002</td><td>11863       </td><td>11863       </td><td>-           </td><td>1425        </td><td>  45        </td><td>1380        </td><td>2362        </td><td>  99        </td><td>2263        </td></tr>\n",
       "\t<tr><td>scaffold1002</td><td>11898       </td><td>11898       </td><td>+           </td><td> 701        </td><td>   2        </td><td> 699        </td><td> 898        </td><td>   0        </td><td> 898        </td></tr>\n",
       "\t<tr><td>scaffold1002</td><td>11967       </td><td>11967       </td><td>-           </td><td> 264        </td><td>   7        </td><td> 257        </td><td> 343        </td><td>   4        </td><td> 339        </td></tr>\n",
       "</tbody>\n",
       "</table>\n"
      ],
      "text/latex": [
       "\\begin{tabular}{r|llllllllll}\n",
       " chr & start & end & strand & coverage1 & numCs1 & numTs1 & coverage2 & numCs2 & numTs2\\\\\n",
       "\\hline\n",
       "\t scaffold1002 & 11858        & 11858        & +            & 2250         &   33         & 2217         & 3165         &   31         & 3134        \\\\\n",
       "\t scaffold1002 & 11859        & 11859        & +            & 2310         & 1850         &  460         & 3232         & 2579         &  653        \\\\\n",
       "\t scaffold1002 & 11860        & 11860        & -            & 1333         & 1138         &  195         & 2204         & 1912         &  292        \\\\\n",
       "\t scaffold1002 & 11863        & 11863        & -            & 1425         &   45         & 1380         & 2362         &   99         & 2263        \\\\\n",
       "\t scaffold1002 & 11898        & 11898        & +            &  701         &    2         &  699         &  898         &    0         &  898        \\\\\n",
       "\t scaffold1002 & 11967        & 11967        & -            &  264         &    7         &  257         &  343         &    4         &  339        \\\\\n",
       "\\end{tabular}\n"
      ],
      "text/markdown": [
       "$chr\n",
       ":   1. scaffold1002\n",
       "2. scaffold1002\n",
       "3. scaffold1002\n",
       "4. scaffold1002\n",
       "5. scaffold1002\n",
       "6. scaffold1002\n",
       "\n",
       "\n",
       "\n",
       "$start\n",
       ":   1. 11858\n",
       "2. 11859\n",
       "3. 11860\n",
       "4. 11863\n",
       "5. 11898\n",
       "6. 11967\n",
       "\n",
       "\n",
       "\n",
       "$end\n",
       ":   1. 11858\n",
       "2. 11859\n",
       "3. 11860\n",
       "4. 11863\n",
       "5. 11898\n",
       "6. 11967\n",
       "\n",
       "\n",
       "\n",
       "$strand\n",
       ":   1. +\n",
       "2. +\n",
       "3. -\n",
       "4. -\n",
       "5. +\n",
       "6. -\n",
       "\n",
       "\n",
       "\n",
       "$coverage1\n",
       ":   1. 2250\n",
       "2. 2310\n",
       "3. 1333\n",
       "4. 1425\n",
       "5. 701\n",
       "6. 264\n",
       "\n",
       "\n",
       "\n",
       "$numCs1\n",
       ":   1. 33\n",
       "2. 1850\n",
       "3. 1138\n",
       "4. 45\n",
       "5. 2\n",
       "6. 7\n",
       "\n",
       "\n",
       "\n",
       "$numTs1\n",
       ":   1. 2217\n",
       "2. 460\n",
       "3. 195\n",
       "4. 1380\n",
       "5. 699\n",
       "6. 257\n",
       "\n",
       "\n",
       "\n",
       "$coverage2\n",
       ":   1. 3165\n",
       "2. 3232\n",
       "3. 2204\n",
       "4. 2362\n",
       "5. 898\n",
       "6. 343\n",
       "\n",
       "\n",
       "\n",
       "$numCs2\n",
       ":   1. 31\n",
       "2. 2579\n",
       "3. 1912\n",
       "4. 99\n",
       "5. 0\n",
       "6. 4\n",
       "\n",
       "\n",
       "\n",
       "$numTs2\n",
       ":   1. 3134\n",
       "2. 653\n",
       "3. 292\n",
       "4. 2263\n",
       "5. 898\n",
       "6. 339\n",
       "\n",
       "\n",
       "\n",
       "\n",
       "\n"
      ],
      "text/plain": [
       "  chr          start end   strand coverage1 numCs1 numTs1 coverage2 numCs2\n",
       "1 scaffold1002 11858 11858 +      2250        33   2217   3165        31  \n",
       "2 scaffold1002 11859 11859 +      2310      1850    460   3232      2579  \n",
       "3 scaffold1002 11860 11860 -      1333      1138    195   2204      1912  \n",
       "4 scaffold1002 11863 11863 -      1425        45   1380   2362        99  \n",
       "5 scaffold1002 11898 11898 +       701         2    699    898         0  \n",
       "6 scaffold1002 11967 11967 -       264         7    257    343         4  \n",
       "  numTs2\n",
       "1 3134  \n",
       "2  653  \n",
       "3  292  \n",
       "4 2263  \n",
       "5  898  \n",
       "6  339  "
      ]
     },
     "metadata": {},
     "output_type": "display_data"
    }
   ],
   "source": [
    "head(pop.pooled)"
   ]
  },
  {
   "cell_type": "code",
   "execution_count": 149,
   "metadata": {
    "collapsed": true
   },
   "outputs": [],
   "source": [
    "Pops_CpGs <- as.data.frame(pop.pooled)"
   ]
  },
  {
   "cell_type": "code",
   "execution_count": 150,
   "metadata": {
    "collapsed": false
   },
   "outputs": [],
   "source": [
    "Pops_CpGs$CpG <- \"CpG\""
   ]
  },
  {
   "cell_type": "code",
   "execution_count": 151,
   "metadata": {
    "collapsed": false
   },
   "outputs": [],
   "source": [
    "Pops_CpGs$start <- as.numeric(Pops_CpGs$start)"
   ]
  },
  {
   "cell_type": "code",
   "execution_count": 152,
   "metadata": {
    "collapsed": true
   },
   "outputs": [],
   "source": [
    "Pops_CpGs$end <- as.numeric(Pops_CpGs$end)"
   ]
  },
  {
   "cell_type": "code",
   "execution_count": 153,
   "metadata": {
    "collapsed": false
   },
   "outputs": [],
   "source": [
    "Pops_CpGs$end <- Pops_CpGs$start+1"
   ]
  },
  {
   "cell_type": "code",
   "execution_count": 154,
   "metadata": {
    "collapsed": false
   },
   "outputs": [],
   "source": [
    "Pops_CpGs$HC_Percent_Meth <- as.numeric(Pops_CpGs$numCs1)/(as.numeric(Pops_CpGs$numCs1)+as.numeric(Pops_CpGs$numTs1))"
   ]
  },
  {
   "cell_type": "code",
   "execution_count": 155,
   "metadata": {
    "collapsed": true
   },
   "outputs": [],
   "source": [
    "Pops_CpGs$SS_Percent_Meth <- as.numeric(Pops_CpGs$numCs2)/(as.numeric(Pops_CpGs$numCs2)+as.numeric(Pops_CpGs$numTs2))"
   ]
  },
  {
   "cell_type": "code",
   "execution_count": 156,
   "metadata": {
    "collapsed": true
   },
   "outputs": [],
   "source": [
    "Pops_CpGs <- Pops_CpGs[order(Pops_CpGs$chr,Pops_CpGs$start),]"
   ]
  },
  {
   "cell_type": "code",
   "execution_count": 157,
   "metadata": {
    "collapsed": false
   },
   "outputs": [
    {
     "data": {
      "text/html": [
       "<table>\n",
       "<thead><tr><th scope=col>chr</th><th scope=col>start</th><th scope=col>end</th><th scope=col>strand</th><th scope=col>coverage1</th><th scope=col>numCs1</th><th scope=col>numTs1</th><th scope=col>coverage2</th><th scope=col>numCs2</th><th scope=col>numTs2</th><th scope=col>CpG</th><th scope=col>HC_Percent_Meth</th><th scope=col>SS_Percent_Meth</th></tr></thead>\n",
       "<tbody>\n",
       "\t<tr><td>scaffold1002</td><td>11858       </td><td>11859       </td><td>+           </td><td>2250        </td><td>  33        </td><td>2217        </td><td>3165        </td><td>  31        </td><td>3134        </td><td>CpG         </td><td>0.014666667 </td><td>0.009794629 </td></tr>\n",
       "\t<tr><td>scaffold1002</td><td>11859       </td><td>11860       </td><td>+           </td><td>2310        </td><td>1850        </td><td> 460        </td><td>3232        </td><td>2579        </td><td> 653        </td><td>CpG         </td><td>0.800865801 </td><td>0.797957921 </td></tr>\n",
       "\t<tr><td>scaffold1002</td><td>11860       </td><td>11861       </td><td>-           </td><td>1333        </td><td>1138        </td><td> 195        </td><td>2204        </td><td>1912        </td><td> 292        </td><td>CpG         </td><td>0.853713428 </td><td>0.867513612 </td></tr>\n",
       "\t<tr><td>scaffold1002</td><td>11863       </td><td>11864       </td><td>-           </td><td>1425        </td><td>  45        </td><td>1380        </td><td>2362        </td><td>  99        </td><td>2263        </td><td>CpG         </td><td>0.031578947 </td><td>0.041913633 </td></tr>\n",
       "\t<tr><td>scaffold1002</td><td>11898       </td><td>11899       </td><td>+           </td><td> 701        </td><td>   2        </td><td> 699        </td><td> 898        </td><td>   0        </td><td> 898        </td><td>CpG         </td><td>0.002853067 </td><td>0.000000000 </td></tr>\n",
       "\t<tr><td>scaffold1002</td><td>11967       </td><td>11968       </td><td>-           </td><td> 264        </td><td>   7        </td><td> 257        </td><td> 343        </td><td>   4        </td><td> 339        </td><td>CpG         </td><td>0.026515152 </td><td>0.011661808 </td></tr>\n",
       "</tbody>\n",
       "</table>\n"
      ],
      "text/latex": [
       "\\begin{tabular}{r|lllllllllllll}\n",
       " chr & start & end & strand & coverage1 & numCs1 & numTs1 & coverage2 & numCs2 & numTs2 & CpG & HC\\_Percent\\_Meth & SS\\_Percent\\_Meth\\\\\n",
       "\\hline\n",
       "\t scaffold1002 & 11858        & 11859        & +            & 2250         &   33         & 2217         & 3165         &   31         & 3134         & CpG          & 0.014666667  & 0.009794629 \\\\\n",
       "\t scaffold1002 & 11859        & 11860        & +            & 2310         & 1850         &  460         & 3232         & 2579         &  653         & CpG          & 0.800865801  & 0.797957921 \\\\\n",
       "\t scaffold1002 & 11860        & 11861        & -            & 1333         & 1138         &  195         & 2204         & 1912         &  292         & CpG          & 0.853713428  & 0.867513612 \\\\\n",
       "\t scaffold1002 & 11863        & 11864        & -            & 1425         &   45         & 1380         & 2362         &   99         & 2263         & CpG          & 0.031578947  & 0.041913633 \\\\\n",
       "\t scaffold1002 & 11898        & 11899        & +            &  701         &    2         &  699         &  898         &    0         &  898         & CpG          & 0.002853067  & 0.000000000 \\\\\n",
       "\t scaffold1002 & 11967        & 11968        & -            &  264         &    7         &  257         &  343         &    4         &  339         & CpG          & 0.026515152  & 0.011661808 \\\\\n",
       "\\end{tabular}\n"
      ],
      "text/markdown": [
       "$chr\n",
       ":   1. scaffold1002\n",
       "2. scaffold1002\n",
       "3. scaffold1002\n",
       "4. scaffold1002\n",
       "5. scaffold1002\n",
       "6. scaffold1002\n",
       "\n",
       "\n",
       "\n",
       "$start\n",
       ":   1. 11858\n",
       "2. 11859\n",
       "3. 11860\n",
       "4. 11863\n",
       "5. 11898\n",
       "6. 11967\n",
       "\n",
       "\n",
       "\n",
       "$end\n",
       ":   1. 11859\n",
       "2. 11860\n",
       "3. 11861\n",
       "4. 11864\n",
       "5. 11899\n",
       "6. 11968\n",
       "\n",
       "\n",
       "\n",
       "$strand\n",
       ":   1. +\n",
       "2. +\n",
       "3. -\n",
       "4. -\n",
       "5. +\n",
       "6. -\n",
       "\n",
       "\n",
       "\n",
       "$coverage1\n",
       ":   1. 2250\n",
       "2. 2310\n",
       "3. 1333\n",
       "4. 1425\n",
       "5. 701\n",
       "6. 264\n",
       "\n",
       "\n",
       "\n",
       "$numCs1\n",
       ":   1. 33\n",
       "2. 1850\n",
       "3. 1138\n",
       "4. 45\n",
       "5. 2\n",
       "6. 7\n",
       "\n",
       "\n",
       "\n",
       "$numTs1\n",
       ":   1. 2217\n",
       "2. 460\n",
       "3. 195\n",
       "4. 1380\n",
       "5. 699\n",
       "6. 257\n",
       "\n",
       "\n",
       "\n",
       "$coverage2\n",
       ":   1. 3165\n",
       "2. 3232\n",
       "3. 2204\n",
       "4. 2362\n",
       "5. 898\n",
       "6. 343\n",
       "\n",
       "\n",
       "\n",
       "$numCs2\n",
       ":   1. 31\n",
       "2. 2579\n",
       "3. 1912\n",
       "4. 99\n",
       "5. 0\n",
       "6. 4\n",
       "\n",
       "\n",
       "\n",
       "$numTs2\n",
       ":   1. 3134\n",
       "2. 653\n",
       "3. 292\n",
       "4. 2263\n",
       "5. 898\n",
       "6. 339\n",
       "\n",
       "\n",
       "\n",
       "$CpG\n",
       ":   1. 'CpG'\n",
       "2. 'CpG'\n",
       "3. 'CpG'\n",
       "4. 'CpG'\n",
       "5. 'CpG'\n",
       "6. 'CpG'\n",
       "\n",
       "\n",
       "\n",
       "$HC_Percent_Meth\n",
       ":   1. 0.0146666666666667\n",
       "2. 0.800865800865801\n",
       "3. 0.853713428357089\n",
       "4. 0.0315789473684211\n",
       "5. 0.00285306704707561\n",
       "6. 0.0265151515151515\n",
       "\n",
       "\n",
       "\n",
       "$SS_Percent_Meth\n",
       ":   1. 0.00979462875197472\n",
       "2. 0.797957920792079\n",
       "3. 0.867513611615245\n",
       "4. 0.041913632514818\n",
       "5. 0\n",
       "6. 0.0116618075801749\n",
       "\n",
       "\n",
       "\n",
       "\n",
       "\n"
      ],
      "text/plain": [
       "  chr          start end   strand coverage1 numCs1 numTs1 coverage2 numCs2\n",
       "1 scaffold1002 11858 11859 +      2250        33   2217   3165        31  \n",
       "2 scaffold1002 11859 11860 +      2310      1850    460   3232      2579  \n",
       "3 scaffold1002 11860 11861 -      1333      1138    195   2204      1912  \n",
       "4 scaffold1002 11863 11864 -      1425        45   1380   2362        99  \n",
       "5 scaffold1002 11898 11899 +       701         2    699    898         0  \n",
       "6 scaffold1002 11967 11968 -       264         7    257    343         4  \n",
       "  numTs2 CpG HC_Percent_Meth SS_Percent_Meth\n",
       "1 3134   CpG 0.014666667     0.009794629    \n",
       "2  653   CpG 0.800865801     0.797957921    \n",
       "3  292   CpG 0.853713428     0.867513612    \n",
       "4 2263   CpG 0.031578947     0.041913633    \n",
       "5  898   CpG 0.002853067     0.000000000    \n",
       "6  339   CpG 0.026515152     0.011661808    "
      ]
     },
     "metadata": {},
     "output_type": "display_data"
    }
   ],
   "source": [
    "head(Pops_CpGs)"
   ]
  },
  {
   "cell_type": "code",
   "execution_count": 163,
   "metadata": {
    "collapsed": false
   },
   "outputs": [],
   "source": [
    "HC_CpG <- cbind(as.character(Pops_CpGs$chr), Pops_CpGs$start, Pops_CpGs$end, Pops_CpGs$CpG, Pops_CpGs$HC_Percent_Meth)"
   ]
  },
  {
   "cell_type": "code",
   "execution_count": 191,
   "metadata": {
    "collapsed": false
   },
   "outputs": [
    {
     "data": {
      "text/html": [
       "<table>\n",
       "<tbody>\n",
       "\t<tr><td>scaffold1002       </td><td>11858              </td><td>11859              </td><td>CpG                </td><td>0.0146666666666667 </td></tr>\n",
       "\t<tr><td>scaffold1002       </td><td>11859              </td><td>11860              </td><td>CpG                </td><td>0.800865800865801  </td></tr>\n",
       "\t<tr><td>scaffold1002       </td><td>11860              </td><td>11861              </td><td>CpG                </td><td>0.853713428357089  </td></tr>\n",
       "\t<tr><td>scaffold1002       </td><td>11863              </td><td>11864              </td><td>CpG                </td><td>0.0315789473684211 </td></tr>\n",
       "\t<tr><td>scaffold1002       </td><td>11898              </td><td>11899              </td><td>CpG                </td><td>0.00285306704707561</td></tr>\n",
       "\t<tr><td>scaffold1002       </td><td>11967              </td><td>11968              </td><td>CpG                </td><td>0.0265151515151515 </td></tr>\n",
       "</tbody>\n",
       "</table>\n"
      ],
      "text/latex": [
       "\\begin{tabular}{lllll}\n",
       "\t scaffold1002        & 11858               & 11859               & CpG                 & 0.0146666666666667 \\\\\n",
       "\t scaffold1002        & 11859               & 11860               & CpG                 & 0.800865800865801  \\\\\n",
       "\t scaffold1002        & 11860               & 11861               & CpG                 & 0.853713428357089  \\\\\n",
       "\t scaffold1002        & 11863               & 11864               & CpG                 & 0.0315789473684211 \\\\\n",
       "\t scaffold1002        & 11898               & 11899               & CpG                 & 0.00285306704707561\\\\\n",
       "\t scaffold1002        & 11967               & 11968               & CpG                 & 0.0265151515151515 \\\\\n",
       "\\end{tabular}\n"
      ],
      "text/markdown": [
       "1. 'scaffold1002'\n",
       "2. 'scaffold1002'\n",
       "3. 'scaffold1002'\n",
       "4. 'scaffold1002'\n",
       "5. 'scaffold1002'\n",
       "6. 'scaffold1002'\n",
       "7. '11858'\n",
       "8. '11859'\n",
       "9. '11860'\n",
       "10. '11863'\n",
       "11. '11898'\n",
       "12. '11967'\n",
       "13. '11859'\n",
       "14. '11860'\n",
       "15. '11861'\n",
       "16. '11864'\n",
       "17. '11899'\n",
       "18. '11968'\n",
       "19. 'CpG'\n",
       "20. 'CpG'\n",
       "21. 'CpG'\n",
       "22. 'CpG'\n",
       "23. 'CpG'\n",
       "24. 'CpG'\n",
       "25. '0.0146666666666667'\n",
       "26. '0.800865800865801'\n",
       "27. '0.853713428357089'\n",
       "28. '0.0315789473684211'\n",
       "29. '0.00285306704707561'\n",
       "30. '0.0265151515151515'\n",
       "\n",
       "\n"
      ],
      "text/plain": [
       "     [,1]         [,2]  [,3]  [,4] [,5]               \n",
       "[1,] scaffold1002 11858 11859 CpG  0.0146666666666667 \n",
       "[2,] scaffold1002 11859 11860 CpG  0.800865800865801  \n",
       "[3,] scaffold1002 11860 11861 CpG  0.853713428357089  \n",
       "[4,] scaffold1002 11863 11864 CpG  0.0315789473684211 \n",
       "[5,] scaffold1002 11898 11899 CpG  0.00285306704707561\n",
       "[6,] scaffold1002 11967 11968 CpG  0.0265151515151515 "
      ]
     },
     "metadata": {},
     "output_type": "display_data"
    }
   ],
   "source": [
    "head(HC_CpG)"
   ]
  },
  {
   "cell_type": "code",
   "execution_count": 165,
   "metadata": {
    "collapsed": false
   },
   "outputs": [],
   "source": [
    "SS_CpG <- cbind(as.character(Pops_CpGs$chr), Pops_CpGs$start, Pops_CpGs$end, Pops_CpGs$CpG, Pops_CpGs$SS_Percent_Meth)"
   ]
  },
  {
   "cell_type": "code",
   "execution_count": 166,
   "metadata": {
    "collapsed": false
   },
   "outputs": [
    {
     "data": {
      "text/html": [
       "<table>\n",
       "<tbody>\n",
       "\t<tr><td>scaffold1002       </td><td>11858              </td><td>11859              </td><td>CpG                </td><td>0.00979462875197472</td></tr>\n",
       "\t<tr><td>scaffold1002       </td><td>11859              </td><td>11860              </td><td>CpG                </td><td>0.797957920792079  </td></tr>\n",
       "\t<tr><td>scaffold1002       </td><td>11860              </td><td>11861              </td><td>CpG                </td><td>0.867513611615245  </td></tr>\n",
       "\t<tr><td>scaffold1002       </td><td>11863              </td><td>11864              </td><td>CpG                </td><td>0.041913632514818  </td></tr>\n",
       "\t<tr><td>scaffold1002       </td><td>11898              </td><td>11899              </td><td>CpG                </td><td>0                  </td></tr>\n",
       "\t<tr><td>scaffold1002       </td><td>11967              </td><td>11968              </td><td>CpG                </td><td>0.0116618075801749 </td></tr>\n",
       "</tbody>\n",
       "</table>\n"
      ],
      "text/latex": [
       "\\begin{tabular}{lllll}\n",
       "\t scaffold1002        & 11858               & 11859               & CpG                 & 0.00979462875197472\\\\\n",
       "\t scaffold1002        & 11859               & 11860               & CpG                 & 0.797957920792079  \\\\\n",
       "\t scaffold1002        & 11860               & 11861               & CpG                 & 0.867513611615245  \\\\\n",
       "\t scaffold1002        & 11863               & 11864               & CpG                 & 0.041913632514818  \\\\\n",
       "\t scaffold1002        & 11898               & 11899               & CpG                 & 0                  \\\\\n",
       "\t scaffold1002        & 11967               & 11968               & CpG                 & 0.0116618075801749 \\\\\n",
       "\\end{tabular}\n"
      ],
      "text/markdown": [
       "1. 'scaffold1002'\n",
       "2. 'scaffold1002'\n",
       "3. 'scaffold1002'\n",
       "4. 'scaffold1002'\n",
       "5. 'scaffold1002'\n",
       "6. 'scaffold1002'\n",
       "7. '11858'\n",
       "8. '11859'\n",
       "9. '11860'\n",
       "10. '11863'\n",
       "11. '11898'\n",
       "12. '11967'\n",
       "13. '11859'\n",
       "14. '11860'\n",
       "15. '11861'\n",
       "16. '11864'\n",
       "17. '11899'\n",
       "18. '11968'\n",
       "19. 'CpG'\n",
       "20. 'CpG'\n",
       "21. 'CpG'\n",
       "22. 'CpG'\n",
       "23. 'CpG'\n",
       "24. 'CpG'\n",
       "25. '0.00979462875197472'\n",
       "26. '0.797957920792079'\n",
       "27. '0.867513611615245'\n",
       "28. '0.041913632514818'\n",
       "29. '0'\n",
       "30. '0.0116618075801749'\n",
       "\n",
       "\n"
      ],
      "text/plain": [
       "     [,1]         [,2]  [,3]  [,4] [,5]               \n",
       "[1,] scaffold1002 11858 11859 CpG  0.00979462875197472\n",
       "[2,] scaffold1002 11859 11860 CpG  0.797957920792079  \n",
       "[3,] scaffold1002 11860 11861 CpG  0.867513611615245  \n",
       "[4,] scaffold1002 11863 11864 CpG  0.041913632514818  \n",
       "[5,] scaffold1002 11898 11899 CpG  0                  \n",
       "[6,] scaffold1002 11967 11968 CpG  0.0116618075801749 "
      ]
     },
     "metadata": {},
     "output_type": "display_data"
    }
   ],
   "source": [
    "head(SS_CpG)"
   ]
  },
  {
   "cell_type": "code",
   "execution_count": 169,
   "metadata": {
    "collapsed": true
   },
   "outputs": [],
   "source": [
    "write.table(HC_CpG, \"HC_CpG.igv\", sep=\"\\t\", quote=F, col.names=F, row.names=F)"
   ]
  },
  {
   "cell_type": "code",
   "execution_count": 170,
   "metadata": {
    "collapsed": true
   },
   "outputs": [],
   "source": [
    "write.table(SS_CpG, \"SS_CpG.igv\", sep=\"\\t\", quote=F, col.names=F, row.names=F)"
   ]
  },
  {
   "cell_type": "code",
   "execution_count": 30,
   "metadata": {
    "collapsed": true
   },
   "outputs": [],
   "source": [
    "write.csv(pop.pooled, file=\"DMLs_rep_Pop\")"
   ]
  },
  {
   "cell_type": "code",
   "execution_count": 32,
   "metadata": {
    "collapsed": false
   },
   "outputs": [],
   "source": [
    "pop.DML.fisher <- calculateDiffMeth(pop.pooled)"
   ]
  },
  {
   "cell_type": "code",
   "execution_count": 35,
   "metadata": {
    "collapsed": false
   },
   "outputs": [],
   "source": [
    "pop.DML.p <- getData(pop.DML.fisher)"
   ]
  },
  {
   "cell_type": "markdown",
   "metadata": {},
   "source": [
    "* Filter the significant DML data for p values <0.01 and methylation difference between populations of 10"
   ]
  },
  {
   "cell_type": "code",
   "execution_count": 79,
   "metadata": {
    "collapsed": false
   },
   "outputs": [],
   "source": [
    "pop.DML.filt_hyper <- pop.DML.p[pop.DML.p$pvalue < 0.01 & pop.DML.p$meth.diff > 10,]"
   ]
  },
  {
   "cell_type": "code",
   "execution_count": 80,
   "metadata": {
    "collapsed": false
   },
   "outputs": [
    {
     "data": {
      "text/html": [
       "<ol class=list-inline>\n",
       "\t<li>627</li>\n",
       "\t<li>7</li>\n",
       "</ol>\n"
      ],
      "text/latex": [
       "\\begin{enumerate*}\n",
       "\\item 627\n",
       "\\item 7\n",
       "\\end{enumerate*}\n"
      ],
      "text/markdown": [
       "1. 627\n",
       "2. 7\n",
       "\n",
       "\n"
      ],
      "text/plain": [
       "[1] 627   7"
      ]
     },
     "metadata": {},
     "output_type": "display_data"
    }
   ],
   "source": [
    "#write.csv(pop.DML.filt, file=\"Pop_DML_filt_0.01_10\")\n",
    "dim(pop.DML.filt_hyper)"
   ]
  },
  {
   "cell_type": "code",
   "execution_count": 87,
   "metadata": {
    "collapsed": true
   },
   "outputs": [],
   "source": [
    "pop.DML.filt_hypo <- pop.DML.p[pop.DML.p$pvalue < 0.01 & pop.DML.p$meth.diff < (-10),]"
   ]
  },
  {
   "cell_type": "code",
   "execution_count": 88,
   "metadata": {
    "collapsed": false
   },
   "outputs": [
    {
     "data": {
      "text/html": [
       "<ol class=list-inline>\n",
       "\t<li>240</li>\n",
       "\t<li>7</li>\n",
       "</ol>\n"
      ],
      "text/latex": [
       "\\begin{enumerate*}\n",
       "\\item 240\n",
       "\\item 7\n",
       "\\end{enumerate*}\n"
      ],
      "text/markdown": [
       "1. 240\n",
       "2. 7\n",
       "\n",
       "\n"
      ],
      "text/plain": [
       "[1] 240   7"
      ]
     },
     "metadata": {},
     "output_type": "display_data"
    }
   ],
   "source": [
    "#write.csv(pop.DML.filt, file=\"Pop_DML_filt_0.01_10\")\n",
    "dim(pop.DML.filt_hypo)"
   ]
  },
  {
   "cell_type": "code",
   "execution_count": 89,
   "metadata": {
    "collapsed": false
   },
   "outputs": [
    {
     "data": {
      "text/html": [
       "<table>\n",
       "<thead><tr><th></th><th scope=col>chr</th><th scope=col>start</th><th scope=col>end</th><th scope=col>strand</th><th scope=col>pvalue</th><th scope=col>qvalue</th><th scope=col>meth.diff</th></tr></thead>\n",
       "<tbody>\n",
       "\t<tr><th scope=row>8</th><td>scaffold1002</td><td>12098       </td><td>12098       </td><td>-           </td><td>4.617960e-05</td><td>7.236472e-04</td><td>19.35534    </td></tr>\n",
       "\t<tr><th scope=row>12</th><td>scaffold1002</td><td>12117       </td><td>12117       </td><td>-           </td><td>6.785852e-07</td><td>1.921733e-05</td><td>22.95082    </td></tr>\n",
       "\t<tr><th scope=row>22</th><td>scaffold1004</td><td>13415       </td><td>13415       </td><td>+           </td><td>4.312404e-06</td><td>9.565440e-05</td><td>10.34970    </td></tr>\n",
       "\t<tr><th scope=row>23</th><td>scaffold1004</td><td>13416       </td><td>13416       </td><td>-           </td><td>8.727874e-10</td><td>5.159726e-08</td><td>13.00755    </td></tr>\n",
       "\t<tr><th scope=row>30</th><td>scaffold1004</td><td>13433       </td><td>13433       </td><td>-           </td><td>9.053115e-08</td><td>3.354115e-06</td><td>24.97085    </td></tr>\n",
       "\t<tr><th scope=row>58</th><td>scaffold1023</td><td>15910       </td><td>15910       </td><td>+           </td><td>9.454703e-04</td><td>8.859852e-03</td><td>14.46462    </td></tr>\n",
       "\t<tr><th scope=row>111</th><td>scaffold1036</td><td> 9565       </td><td> 9565       </td><td>+           </td><td>7.703240e-11</td><td>5.455294e-09</td><td>12.29936    </td></tr>\n",
       "\t<tr><th scope=row>113</th><td>scaffold1036</td><td> 9574       </td><td> 9574       </td><td>+           </td><td>1.130414e-11</td><td>9.203797e-10</td><td>14.10498    </td></tr>\n",
       "\t<tr><th scope=row>118</th><td>scaffold1036</td><td> 9586       </td><td> 9586       </td><td>+           </td><td>7.085878e-13</td><td>7.084363e-11</td><td>14.05604    </td></tr>\n",
       "\t<tr><th scope=row>120</th><td>scaffold1036</td><td> 9595       </td><td> 9595       </td><td>+           </td><td>1.417745e-16</td><td>2.471437e-14</td><td>17.97699    </td></tr>\n",
       "\t<tr><th scope=row>121</th><td>scaffold1036</td><td> 9607       </td><td> 9607       </td><td>+           </td><td>2.708405e-11</td><td>2.080589e-09</td><td>12.16614    </td></tr>\n",
       "\t<tr><th scope=row>171</th><td>scaffold1038</td><td> 9516       </td><td> 9516       </td><td>-           </td><td>5.971627e-07</td><td>1.744207e-05</td><td>17.32200    </td></tr>\n",
       "\t<tr><th scope=row>244</th><td>scaffold1052</td><td> 7989       </td><td> 7989       </td><td>-           </td><td>1.024354e-04</td><td>1.414033e-03</td><td>11.55378    </td></tr>\n",
       "\t<tr><th scope=row>246</th><td>scaffold1052</td><td> 7993       </td><td> 7993       </td><td>-           </td><td>5.744703e-08</td><td>2.238145e-06</td><td>17.34647    </td></tr>\n",
       "\t<tr><th scope=row>258</th><td>scaffold1052</td><td> 8013       </td><td> 8013       </td><td>-           </td><td>2.952501e-03</td><td>2.180040e-02</td><td>10.90361    </td></tr>\n",
       "\t<tr><th scope=row>261</th><td>scaffold1052</td><td> 8066       </td><td> 8066       </td><td>+           </td><td>1.785195e-04</td><td>2.270670e-03</td><td>13.89499    </td></tr>\n",
       "\t<tr><th scope=row>276</th><td>scaffold1053</td><td> 4649       </td><td> 4649       </td><td>-           </td><td>5.324950e-03</td><td>3.394460e-02</td><td>10.54922    </td></tr>\n",
       "\t<tr><th scope=row>279</th><td>scaffold1053</td><td> 8034       </td><td> 8034       </td><td>-           </td><td>2.460413e-06</td><td>5.848681e-05</td><td>11.73524    </td></tr>\n",
       "\t<tr><th scope=row>280</th><td>scaffold1053</td><td> 9859       </td><td> 9859       </td><td>+           </td><td>3.685846e-11</td><td>2.768883e-09</td><td>25.59921    </td></tr>\n",
       "\t<tr><th scope=row>306</th><td>scaffold1063</td><td>20632       </td><td>20632       </td><td>-           </td><td>1.798106e-04</td><td>2.282820e-03</td><td>11.45009    </td></tr>\n",
       "\t<tr><th scope=row>354</th><td>scaffold1113</td><td>  977       </td><td>  977       </td><td>-           </td><td>3.956645e-03</td><td>2.722614e-02</td><td>11.20435    </td></tr>\n",
       "\t<tr><th scope=row>382</th><td>scaffold1122</td><td> 5300       </td><td> 5300       </td><td>-           </td><td>9.122160e-23</td><td>3.352293e-20</td><td>25.95014    </td></tr>\n",
       "\t<tr><th scope=row>384</th><td>scaffold1122</td><td> 5328       </td><td> 5328       </td><td>-           </td><td>2.577301e-12</td><td>2.416813e-10</td><td>24.07407    </td></tr>\n",
       "\t<tr><th scope=row>495</th><td>scaffold1179</td><td> 2429       </td><td> 2429       </td><td>-           </td><td>4.303211e-03</td><td>2.893727e-02</td><td>13.14355    </td></tr>\n",
       "\t<tr><th scope=row>515</th><td>scaffold1179</td><td> 7849       </td><td> 7849       </td><td>+           </td><td>1.554773e-05</td><td>2.911899e-04</td><td>16.55045    </td></tr>\n",
       "\t<tr><th scope=row>567</th><td>scaffold1196</td><td> 3346       </td><td> 3346       </td><td>-           </td><td>4.192003e-06</td><td>9.344107e-05</td><td>16.21109    </td></tr>\n",
       "\t<tr><th scope=row>706</th><td>scaffold1247</td><td>10350       </td><td>10350       </td><td>+           </td><td>6.013076e-04</td><td>6.197238e-03</td><td>17.72255    </td></tr>\n",
       "\t<tr><th scope=row>728</th><td>scaffold1248</td><td> 1201       </td><td> 1201       </td><td>-           </td><td>1.101207e-04</td><td>1.500321e-03</td><td>14.56650    </td></tr>\n",
       "\t<tr><th scope=row>802</th><td>scaffold1328</td><td>   70       </td><td>   70       </td><td>-           </td><td>6.652811e-03</td><td>4.016824e-02</td><td>11.71205    </td></tr>\n",
       "\t<tr><th scope=row>825</th><td>scaffold1328</td><td>  243       </td><td>  243       </td><td>+           </td><td>1.499754e-48</td><td>2.039229e-45</td><td>11.79565    </td></tr>\n",
       "\t<tr><th scope=row>⋮</th><td>⋮</td><td>⋮</td><td>⋮</td><td>⋮</td><td>⋮</td><td>⋮</td><td>⋮</td></tr>\n",
       "\t<tr><th scope=row>598</th><td>scaffold942 </td><td> 1184       </td><td> 1184       </td><td>+           </td><td>2.150184e-03</td><td>1.701761e-02</td><td>10.07752    </td></tr>\n",
       "\t<tr><th scope=row>599</th><td>scaffold942 </td><td>10207       </td><td>10207       </td><td>-           </td><td>2.905126e-04</td><td>3.399420e-03</td><td>14.21017    </td></tr>\n",
       "\t<tr><th scope=row>600</th><td>scaffold9446</td><td> 8573       </td><td> 8573       </td><td>+           </td><td>3.638134e-05</td><td>5.924315e-04</td><td>10.47790    </td></tr>\n",
       "\t<tr><th scope=row>601</th><td>scaffold9462</td><td> 6547       </td><td> 6547       </td><td>+           </td><td>6.521901e-06</td><td>1.372738e-04</td><td>13.97138    </td></tr>\n",
       "\t<tr><th scope=row>602</th><td>scaffold9462</td><td> 6566       </td><td> 6566       </td><td>+           </td><td>6.056226e-09</td><td>3.061229e-07</td><td>13.17291    </td></tr>\n",
       "\t<tr><th scope=row>603</th><td>scaffold947 </td><td>  304       </td><td>  304       </td><td>-           </td><td>6.607124e-04</td><td>6.684350e-03</td><td>15.21127    </td></tr>\n",
       "\t<tr><th scope=row>604</th><td>scaffold9487</td><td> 3146       </td><td> 3146       </td><td>-           </td><td>1.399213e-13</td><td>1.626088e-11</td><td>16.81312    </td></tr>\n",
       "\t<tr><th scope=row>605</th><td>scaffold9487</td><td> 3180       </td><td> 3180       </td><td>-           </td><td>2.177833e-09</td><td>1.216957e-07</td><td>17.28929    </td></tr>\n",
       "\t<tr><th scope=row>606</th><td>scaffold95  </td><td> 6409       </td><td> 6409       </td><td>-           </td><td>3.964058e-11</td><td>2.961520e-09</td><td>16.55046    </td></tr>\n",
       "\t<tr><th scope=row>607</th><td>scaffold9504</td><td> 4457       </td><td> 4457       </td><td>+           </td><td>5.834200e-18</td><td>1.201942e-15</td><td>19.01836    </td></tr>\n",
       "\t<tr><th scope=row>608</th><td>scaffold9546</td><td> 2345       </td><td> 2345       </td><td>-           </td><td>2.139425e-05</td><td>3.777916e-04</td><td>15.99515    </td></tr>\n",
       "\t<tr><th scope=row>609</th><td>scaffold9546</td><td> 2350       </td><td> 2350       </td><td>-           </td><td>1.104139e-05</td><td>2.171585e-04</td><td>16.15598    </td></tr>\n",
       "\t<tr><th scope=row>610</th><td>scaffold9546</td><td> 2355       </td><td> 2355       </td><td>-           </td><td>1.417567e-07</td><td>4.904525e-06</td><td>19.58124    </td></tr>\n",
       "\t<tr><th scope=row>611</th><td>scaffold9546</td><td> 2371       </td><td> 2371       </td><td>-           </td><td>1.650258e-05</td><td>3.044601e-04</td><td>16.51149    </td></tr>\n",
       "\t<tr><th scope=row>612</th><td>scaffold9546</td><td> 2376       </td><td> 2376       </td><td>-           </td><td>8.639408e-03</td><td>4.864216e-02</td><td>11.34837    </td></tr>\n",
       "\t<tr><th scope=row>613</th><td>scaffold9592</td><td> 9499       </td><td> 9499       </td><td>-           </td><td>3.562057e-05</td><td>5.821348e-04</td><td>18.20260    </td></tr>\n",
       "\t<tr><th scope=row>614</th><td>scaffold9592</td><td> 9643       </td><td> 9643       </td><td>+           </td><td>2.266679e-04</td><td>2.766629e-03</td><td>14.03342    </td></tr>\n",
       "\t<tr><th scope=row>615</th><td>scaffold9597</td><td> 1319       </td><td> 1319       </td><td>+           </td><td>6.252722e-09</td><td>3.114243e-07</td><td>18.38938    </td></tr>\n",
       "\t<tr><th scope=row>616</th><td>scaffold9629</td><td>11347       </td><td>11347       </td><td>-           </td><td>1.033229e-03</td><td>9.537616e-03</td><td>12.07707    </td></tr>\n",
       "\t<tr><th scope=row>617</th><td>scaffold9640</td><td> 4265       </td><td> 4265       </td><td>+           </td><td>6.251192e-05</td><td>9.381681e-04</td><td>12.14220    </td></tr>\n",
       "\t<tr><th scope=row>618</th><td>scaffold965 </td><td> 1729       </td><td> 1729       </td><td>+           </td><td>5.237701e-03</td><td>3.354569e-02</td><td>13.68487    </td></tr>\n",
       "\t<tr><th scope=row>619</th><td>scaffold965 </td><td> 3151       </td><td> 3151       </td><td>+           </td><td>3.086157e-07</td><td>9.668837e-06</td><td>11.71113    </td></tr>\n",
       "\t<tr><th scope=row>620</th><td>scaffold965 </td><td> 3886       </td><td> 3886       </td><td>-           </td><td>9.358586e-03</td><td>5.162253e-02</td><td>11.63423    </td></tr>\n",
       "\t<tr><th scope=row>621</th><td>scaffold965 </td><td>11272       </td><td>11272       </td><td>+           </td><td>2.629430e-08</td><td>1.117269e-06</td><td>12.58590    </td></tr>\n",
       "\t<tr><th scope=row>622</th><td>scaffold965 </td><td>11275       </td><td>11275       </td><td>+           </td><td>1.891670e-09</td><td>1.080723e-07</td><td>17.41369    </td></tr>\n",
       "\t<tr><th scope=row>623</th><td>scaffold9727</td><td>12862       </td><td>12862       </td><td>-           </td><td>3.672162e-05</td><td>5.958320e-04</td><td>10.41357    </td></tr>\n",
       "\t<tr><th scope=row>624</th><td>scaffold975 </td><td>  337       </td><td>  337       </td><td>-           </td><td>5.649204e-06</td><td>1.213471e-04</td><td>13.27049    </td></tr>\n",
       "\t<tr><th scope=row>625</th><td>scaffold9791</td><td> 4952       </td><td> 4952       </td><td>+           </td><td>1.391573e-07</td><td>4.826874e-06</td><td>14.32734    </td></tr>\n",
       "\t<tr><th scope=row>626</th><td>scaffold9791</td><td>11937       </td><td>11937       </td><td>-           </td><td>1.627306e-03</td><td>1.365841e-02</td><td>11.89076    </td></tr>\n",
       "\t<tr><th scope=row>627</th><td>scaffold9830</td><td> 1313       </td><td> 1313       </td><td>-           </td><td>1.422172e-05</td><td>2.678310e-04</td><td>14.70484    </td></tr>\n",
       "</tbody>\n",
       "</table>\n"
      ],
      "text/latex": [
       "\\begin{tabular}{r|lllllll}\n",
       "  & chr & start & end & strand & pvalue & qvalue & meth.diff\\\\\n",
       "\\hline\n",
       "\t8 & scaffold1002 & 12098        & 12098        & -            & 4.617960e-05 & 7.236472e-04 & 19.35534    \\\\\n",
       "\t12 & scaffold1002 & 12117        & 12117        & -            & 6.785852e-07 & 1.921733e-05 & 22.95082    \\\\\n",
       "\t22 & scaffold1004 & 13415        & 13415        & +            & 4.312404e-06 & 9.565440e-05 & 10.34970    \\\\\n",
       "\t23 & scaffold1004 & 13416        & 13416        & -            & 8.727874e-10 & 5.159726e-08 & 13.00755    \\\\\n",
       "\t30 & scaffold1004 & 13433        & 13433        & -            & 9.053115e-08 & 3.354115e-06 & 24.97085    \\\\\n",
       "\t58 & scaffold1023 & 15910        & 15910        & +            & 9.454703e-04 & 8.859852e-03 & 14.46462    \\\\\n",
       "\t111 & scaffold1036 &  9565        &  9565        & +            & 7.703240e-11 & 5.455294e-09 & 12.29936    \\\\\n",
       "\t113 & scaffold1036 &  9574        &  9574        & +            & 1.130414e-11 & 9.203797e-10 & 14.10498    \\\\\n",
       "\t118 & scaffold1036 &  9586        &  9586        & +            & 7.085878e-13 & 7.084363e-11 & 14.05604    \\\\\n",
       "\t120 & scaffold1036 &  9595        &  9595        & +            & 1.417745e-16 & 2.471437e-14 & 17.97699    \\\\\n",
       "\t121 & scaffold1036 &  9607        &  9607        & +            & 2.708405e-11 & 2.080589e-09 & 12.16614    \\\\\n",
       "\t171 & scaffold1038 &  9516        &  9516        & -            & 5.971627e-07 & 1.744207e-05 & 17.32200    \\\\\n",
       "\t244 & scaffold1052 &  7989        &  7989        & -            & 1.024354e-04 & 1.414033e-03 & 11.55378    \\\\\n",
       "\t246 & scaffold1052 &  7993        &  7993        & -            & 5.744703e-08 & 2.238145e-06 & 17.34647    \\\\\n",
       "\t258 & scaffold1052 &  8013        &  8013        & -            & 2.952501e-03 & 2.180040e-02 & 10.90361    \\\\\n",
       "\t261 & scaffold1052 &  8066        &  8066        & +            & 1.785195e-04 & 2.270670e-03 & 13.89499    \\\\\n",
       "\t276 & scaffold1053 &  4649        &  4649        & -            & 5.324950e-03 & 3.394460e-02 & 10.54922    \\\\\n",
       "\t279 & scaffold1053 &  8034        &  8034        & -            & 2.460413e-06 & 5.848681e-05 & 11.73524    \\\\\n",
       "\t280 & scaffold1053 &  9859        &  9859        & +            & 3.685846e-11 & 2.768883e-09 & 25.59921    \\\\\n",
       "\t306 & scaffold1063 & 20632        & 20632        & -            & 1.798106e-04 & 2.282820e-03 & 11.45009    \\\\\n",
       "\t354 & scaffold1113 &   977        &   977        & -            & 3.956645e-03 & 2.722614e-02 & 11.20435    \\\\\n",
       "\t382 & scaffold1122 &  5300        &  5300        & -            & 9.122160e-23 & 3.352293e-20 & 25.95014    \\\\\n",
       "\t384 & scaffold1122 &  5328        &  5328        & -            & 2.577301e-12 & 2.416813e-10 & 24.07407    \\\\\n",
       "\t495 & scaffold1179 &  2429        &  2429        & -            & 4.303211e-03 & 2.893727e-02 & 13.14355    \\\\\n",
       "\t515 & scaffold1179 &  7849        &  7849        & +            & 1.554773e-05 & 2.911899e-04 & 16.55045    \\\\\n",
       "\t567 & scaffold1196 &  3346        &  3346        & -            & 4.192003e-06 & 9.344107e-05 & 16.21109    \\\\\n",
       "\t706 & scaffold1247 & 10350        & 10350        & +            & 6.013076e-04 & 6.197238e-03 & 17.72255    \\\\\n",
       "\t728 & scaffold1248 &  1201        &  1201        & -            & 1.101207e-04 & 1.500321e-03 & 14.56650    \\\\\n",
       "\t802 & scaffold1328 &    70        &    70        & -            & 6.652811e-03 & 4.016824e-02 & 11.71205    \\\\\n",
       "\t825 & scaffold1328 &   243        &   243        & +            & 1.499754e-48 & 2.039229e-45 & 11.79565    \\\\\n",
       "\t⋮ & ⋮ & ⋮ & ⋮ & ⋮ & ⋮ & ⋮ & ⋮\\\\\n",
       "\t598 & scaffold942  &  1184        &  1184        & +            & 2.150184e-03 & 1.701761e-02 & 10.07752    \\\\\n",
       "\t599 & scaffold942  & 10207        & 10207        & -            & 2.905126e-04 & 3.399420e-03 & 14.21017    \\\\\n",
       "\t600 & scaffold9446 &  8573        &  8573        & +            & 3.638134e-05 & 5.924315e-04 & 10.47790    \\\\\n",
       "\t601 & scaffold9462 &  6547        &  6547        & +            & 6.521901e-06 & 1.372738e-04 & 13.97138    \\\\\n",
       "\t602 & scaffold9462 &  6566        &  6566        & +            & 6.056226e-09 & 3.061229e-07 & 13.17291    \\\\\n",
       "\t603 & scaffold947  &   304        &   304        & -            & 6.607124e-04 & 6.684350e-03 & 15.21127    \\\\\n",
       "\t604 & scaffold9487 &  3146        &  3146        & -            & 1.399213e-13 & 1.626088e-11 & 16.81312    \\\\\n",
       "\t605 & scaffold9487 &  3180        &  3180        & -            & 2.177833e-09 & 1.216957e-07 & 17.28929    \\\\\n",
       "\t606 & scaffold95   &  6409        &  6409        & -            & 3.964058e-11 & 2.961520e-09 & 16.55046    \\\\\n",
       "\t607 & scaffold9504 &  4457        &  4457        & +            & 5.834200e-18 & 1.201942e-15 & 19.01836    \\\\\n",
       "\t608 & scaffold9546 &  2345        &  2345        & -            & 2.139425e-05 & 3.777916e-04 & 15.99515    \\\\\n",
       "\t609 & scaffold9546 &  2350        &  2350        & -            & 1.104139e-05 & 2.171585e-04 & 16.15598    \\\\\n",
       "\t610 & scaffold9546 &  2355        &  2355        & -            & 1.417567e-07 & 4.904525e-06 & 19.58124    \\\\\n",
       "\t611 & scaffold9546 &  2371        &  2371        & -            & 1.650258e-05 & 3.044601e-04 & 16.51149    \\\\\n",
       "\t612 & scaffold9546 &  2376        &  2376        & -            & 8.639408e-03 & 4.864216e-02 & 11.34837    \\\\\n",
       "\t613 & scaffold9592 &  9499        &  9499        & -            & 3.562057e-05 & 5.821348e-04 & 18.20260    \\\\\n",
       "\t614 & scaffold9592 &  9643        &  9643        & +            & 2.266679e-04 & 2.766629e-03 & 14.03342    \\\\\n",
       "\t615 & scaffold9597 &  1319        &  1319        & +            & 6.252722e-09 & 3.114243e-07 & 18.38938    \\\\\n",
       "\t616 & scaffold9629 & 11347        & 11347        & -            & 1.033229e-03 & 9.537616e-03 & 12.07707    \\\\\n",
       "\t617 & scaffold9640 &  4265        &  4265        & +            & 6.251192e-05 & 9.381681e-04 & 12.14220    \\\\\n",
       "\t618 & scaffold965  &  1729        &  1729        & +            & 5.237701e-03 & 3.354569e-02 & 13.68487    \\\\\n",
       "\t619 & scaffold965  &  3151        &  3151        & +            & 3.086157e-07 & 9.668837e-06 & 11.71113    \\\\\n",
       "\t620 & scaffold965  &  3886        &  3886        & -            & 9.358586e-03 & 5.162253e-02 & 11.63423    \\\\\n",
       "\t621 & scaffold965  & 11272        & 11272        & +            & 2.629430e-08 & 1.117269e-06 & 12.58590    \\\\\n",
       "\t622 & scaffold965  & 11275        & 11275        & +            & 1.891670e-09 & 1.080723e-07 & 17.41369    \\\\\n",
       "\t623 & scaffold9727 & 12862        & 12862        & -            & 3.672162e-05 & 5.958320e-04 & 10.41357    \\\\\n",
       "\t624 & scaffold975  &   337        &   337        & -            & 5.649204e-06 & 1.213471e-04 & 13.27049    \\\\\n",
       "\t625 & scaffold9791 &  4952        &  4952        & +            & 1.391573e-07 & 4.826874e-06 & 14.32734    \\\\\n",
       "\t626 & scaffold9791 & 11937        & 11937        & -            & 1.627306e-03 & 1.365841e-02 & 11.89076    \\\\\n",
       "\t627 & scaffold9830 &  1313        &  1313        & -            & 1.422172e-05 & 2.678310e-04 & 14.70484    \\\\\n",
       "\\end{tabular}\n"
      ],
      "text/plain": [
       "    chr          start end   strand pvalue       qvalue       meth.diff\n",
       "8   scaffold1002 12098 12098 -      4.617960e-05 7.236472e-04 19.35534 \n",
       "12  scaffold1002 12117 12117 -      6.785852e-07 1.921733e-05 22.95082 \n",
       "22  scaffold1004 13415 13415 +      4.312404e-06 9.565440e-05 10.34970 \n",
       "23  scaffold1004 13416 13416 -      8.727874e-10 5.159726e-08 13.00755 \n",
       "30  scaffold1004 13433 13433 -      9.053115e-08 3.354115e-06 24.97085 \n",
       "58  scaffold1023 15910 15910 +      9.454703e-04 8.859852e-03 14.46462 \n",
       "111 scaffold1036  9565  9565 +      7.703240e-11 5.455294e-09 12.29936 \n",
       "113 scaffold1036  9574  9574 +      1.130414e-11 9.203797e-10 14.10498 \n",
       "118 scaffold1036  9586  9586 +      7.085878e-13 7.084363e-11 14.05604 \n",
       "120 scaffold1036  9595  9595 +      1.417745e-16 2.471437e-14 17.97699 \n",
       "121 scaffold1036  9607  9607 +      2.708405e-11 2.080589e-09 12.16614 \n",
       "171 scaffold1038  9516  9516 -      5.971627e-07 1.744207e-05 17.32200 \n",
       "244 scaffold1052  7989  7989 -      1.024354e-04 1.414033e-03 11.55378 \n",
       "246 scaffold1052  7993  7993 -      5.744703e-08 2.238145e-06 17.34647 \n",
       "258 scaffold1052  8013  8013 -      2.952501e-03 2.180040e-02 10.90361 \n",
       "261 scaffold1052  8066  8066 +      1.785195e-04 2.270670e-03 13.89499 \n",
       "276 scaffold1053  4649  4649 -      5.324950e-03 3.394460e-02 10.54922 \n",
       "279 scaffold1053  8034  8034 -      2.460413e-06 5.848681e-05 11.73524 \n",
       "280 scaffold1053  9859  9859 +      3.685846e-11 2.768883e-09 25.59921 \n",
       "306 scaffold1063 20632 20632 -      1.798106e-04 2.282820e-03 11.45009 \n",
       "354 scaffold1113   977   977 -      3.956645e-03 2.722614e-02 11.20435 \n",
       "382 scaffold1122  5300  5300 -      9.122160e-23 3.352293e-20 25.95014 \n",
       "384 scaffold1122  5328  5328 -      2.577301e-12 2.416813e-10 24.07407 \n",
       "495 scaffold1179  2429  2429 -      4.303211e-03 2.893727e-02 13.14355 \n",
       "515 scaffold1179  7849  7849 +      1.554773e-05 2.911899e-04 16.55045 \n",
       "567 scaffold1196  3346  3346 -      4.192003e-06 9.344107e-05 16.21109 \n",
       "706 scaffold1247 10350 10350 +      6.013076e-04 6.197238e-03 17.72255 \n",
       "728 scaffold1248  1201  1201 -      1.101207e-04 1.500321e-03 14.56650 \n",
       "802 scaffold1328    70    70 -      6.652811e-03 4.016824e-02 11.71205 \n",
       "825 scaffold1328   243   243 +      1.499754e-48 2.039229e-45 11.79565 \n",
       "⋮   ⋮            ⋮     ⋮     ⋮      ⋮            ⋮            ⋮        \n",
       "598 scaffold942   1184  1184 +      2.150184e-03 1.701761e-02 10.07752 \n",
       "599 scaffold942  10207 10207 -      2.905126e-04 3.399420e-03 14.21017 \n",
       "600 scaffold9446  8573  8573 +      3.638134e-05 5.924315e-04 10.47790 \n",
       "601 scaffold9462  6547  6547 +      6.521901e-06 1.372738e-04 13.97138 \n",
       "602 scaffold9462  6566  6566 +      6.056226e-09 3.061229e-07 13.17291 \n",
       "603 scaffold947    304   304 -      6.607124e-04 6.684350e-03 15.21127 \n",
       "604 scaffold9487  3146  3146 -      1.399213e-13 1.626088e-11 16.81312 \n",
       "605 scaffold9487  3180  3180 -      2.177833e-09 1.216957e-07 17.28929 \n",
       "606 scaffold95    6409  6409 -      3.964058e-11 2.961520e-09 16.55046 \n",
       "607 scaffold9504  4457  4457 +      5.834200e-18 1.201942e-15 19.01836 \n",
       "608 scaffold9546  2345  2345 -      2.139425e-05 3.777916e-04 15.99515 \n",
       "609 scaffold9546  2350  2350 -      1.104139e-05 2.171585e-04 16.15598 \n",
       "610 scaffold9546  2355  2355 -      1.417567e-07 4.904525e-06 19.58124 \n",
       "611 scaffold9546  2371  2371 -      1.650258e-05 3.044601e-04 16.51149 \n",
       "612 scaffold9546  2376  2376 -      8.639408e-03 4.864216e-02 11.34837 \n",
       "613 scaffold9592  9499  9499 -      3.562057e-05 5.821348e-04 18.20260 \n",
       "614 scaffold9592  9643  9643 +      2.266679e-04 2.766629e-03 14.03342 \n",
       "615 scaffold9597  1319  1319 +      6.252722e-09 3.114243e-07 18.38938 \n",
       "616 scaffold9629 11347 11347 -      1.033229e-03 9.537616e-03 12.07707 \n",
       "617 scaffold9640  4265  4265 +      6.251192e-05 9.381681e-04 12.14220 \n",
       "618 scaffold965   1729  1729 +      5.237701e-03 3.354569e-02 13.68487 \n",
       "619 scaffold965   3151  3151 +      3.086157e-07 9.668837e-06 11.71113 \n",
       "620 scaffold965   3886  3886 -      9.358586e-03 5.162253e-02 11.63423 \n",
       "621 scaffold965  11272 11272 +      2.629430e-08 1.117269e-06 12.58590 \n",
       "622 scaffold965  11275 11275 +      1.891670e-09 1.080723e-07 17.41369 \n",
       "623 scaffold9727 12862 12862 -      3.672162e-05 5.958320e-04 10.41357 \n",
       "624 scaffold975    337   337 -      5.649204e-06 1.213471e-04 13.27049 \n",
       "625 scaffold9791  4952  4952 +      1.391573e-07 4.826874e-06 14.32734 \n",
       "626 scaffold9791 11937 11937 -      1.627306e-03 1.365841e-02 11.89076 \n",
       "627 scaffold9830  1313  1313 -      1.422172e-05 2.678310e-04 14.70484 "
      ]
     },
     "metadata": {},
     "output_type": "display_data"
    }
   ],
   "source": [
    "pop.DML.filt_hyper"
   ]
  },
  {
   "cell_type": "code",
   "execution_count": 90,
   "metadata": {
    "collapsed": false
   },
   "outputs": [
    {
     "data": {
      "text/html": [
       "<table>\n",
       "<thead><tr><th></th><th scope=col>chr</th><th scope=col>start</th><th scope=col>end</th><th scope=col>strand</th><th scope=col>pvalue</th><th scope=col>qvalue</th><th scope=col>meth.diff</th></tr></thead>\n",
       "<tbody>\n",
       "\t<tr><th scope=row>10</th><td>scaffold1002</td><td>12101       </td><td>12101       </td><td>-           </td><td>8.848136e-04</td><td>8.405287e-03</td><td>-12.10670   </td></tr>\n",
       "\t<tr><th scope=row>42</th><td>scaffold1023</td><td>15652       </td><td>15652       </td><td>-           </td><td>6.102972e-03</td><td>3.765094e-02</td><td>-11.21444   </td></tr>\n",
       "\t<tr><th scope=row>63</th><td>scaffold1023</td><td>16004       </td><td>16004       </td><td>-           </td><td>1.856951e-06</td><td>4.549393e-05</td><td>-10.15478   </td></tr>\n",
       "\t<tr><th scope=row>148</th><td>scaffold1036</td><td>11606       </td><td>11606       </td><td>-           </td><td>1.761040e-05</td><td>3.192670e-04</td><td>-13.81381   </td></tr>\n",
       "\t<tr><th scope=row>160</th><td>scaffold1036</td><td>14361       </td><td>14361       </td><td>-           </td><td>1.576711e-08</td><td>7.029076e-07</td><td>-18.57367   </td></tr>\n",
       "\t<tr><th scope=row>165</th><td>scaffold1036</td><td>14467       </td><td>14467       </td><td>+           </td><td>1.871511e-07</td><td>6.221786e-06</td><td>-10.07461   </td></tr>\n",
       "\t<tr><th scope=row>383</th><td>scaffold1122</td><td> 5325       </td><td> 5325       </td><td>-           </td><td>4.089772e-20</td><td>1.049226e-17</td><td>-28.52022   </td></tr>\n",
       "\t<tr><th scope=row>462</th><td>scaffold1162</td><td> 8211       </td><td> 8211       </td><td>+           </td><td>2.194616e-09</td><td>1.217975e-07</td><td>-10.10877   </td></tr>\n",
       "\t<tr><th scope=row>717</th><td>scaffold1248</td><td> 1047       </td><td> 1047       </td><td>+           </td><td>1.105190e-05</td><td>2.171585e-04</td><td>-18.56003   </td></tr>\n",
       "\t<tr><th scope=row>1104</th><td>scaffold1433</td><td> 7513       </td><td> 7513       </td><td>-           </td><td>2.848618e-06</td><td>6.643724e-05</td><td>-10.72606   </td></tr>\n",
       "\t<tr><th scope=row>1120</th><td>scaffold144 </td><td> 1681       </td><td> 1681       </td><td>+           </td><td>6.214080e-08</td><td>2.400381e-06</td><td>-19.00108   </td></tr>\n",
       "\t<tr><th scope=row>1121</th><td>scaffold144 </td><td> 1685       </td><td> 1685       </td><td>+           </td><td>8.966620e-12</td><td>7.434143e-10</td><td>-23.92080   </td></tr>\n",
       "\t<tr><th scope=row>1123</th><td>scaffold144 </td><td> 1725       </td><td> 1725       </td><td>-           </td><td>1.419113e-05</td><td>2.676257e-04</td><td>-15.55823   </td></tr>\n",
       "\t<tr><th scope=row>1125</th><td>scaffold144 </td><td> 1751       </td><td> 1751       </td><td>+           </td><td>1.087721e-11</td><td>8.909539e-10</td><td>-10.00877   </td></tr>\n",
       "\t<tr><th scope=row>1156</th><td>scaffold145 </td><td> 6015       </td><td> 6015       </td><td>-           </td><td>8.389747e-05</td><td>1.189532e-03</td><td>-20.79094   </td></tr>\n",
       "\t<tr><th scope=row>1171</th><td>scaffold1458</td><td>11968       </td><td>11968       </td><td>-           </td><td>4.638257e-03</td><td>3.063674e-02</td><td>-11.10276   </td></tr>\n",
       "\t<tr><th scope=row>1233</th><td>scaffold1489</td><td> 9466       </td><td> 9466       </td><td>-           </td><td>2.127401e-06</td><td>5.119729e-05</td><td>-13.50909   </td></tr>\n",
       "\t<tr><th scope=row>1234</th><td>scaffold1489</td><td> 9488       </td><td> 9488       </td><td>-           </td><td>2.976215e-08</td><td>1.245165e-06</td><td>-17.90863   </td></tr>\n",
       "\t<tr><th scope=row>1235</th><td>scaffold1489</td><td> 9490       </td><td> 9490       </td><td>-           </td><td>5.401182e-09</td><td>2.771334e-07</td><td>-18.39948   </td></tr>\n",
       "\t<tr><th scope=row>1236</th><td>scaffold1489</td><td> 9491       </td><td> 9491       </td><td>-           </td><td>2.530069e-09</td><td>1.398438e-07</td><td>-19.25085   </td></tr>\n",
       "\t<tr><th scope=row>1336</th><td>scaffold1558</td><td> 3544       </td><td> 3544       </td><td>+           </td><td>3.941026e-07</td><td>1.198803e-05</td><td>-13.43794   </td></tr>\n",
       "\t<tr><th scope=row>1373</th><td>scaffold158 </td><td> 6574       </td><td> 6574       </td><td>+           </td><td>2.222733e-05</td><td>3.894679e-04</td><td>-11.57713   </td></tr>\n",
       "\t<tr><th scope=row>1511</th><td>scaffold1623</td><td>  735       </td><td>  735       </td><td>-           </td><td>6.662194e-03</td><td>4.017503e-02</td><td>-12.08470   </td></tr>\n",
       "\t<tr><th scope=row>1518</th><td>scaffold1623</td><td> 9713       </td><td> 9713       </td><td>+           </td><td>2.736624e-04</td><td>3.238479e-03</td><td>-10.23461   </td></tr>\n",
       "\t<tr><th scope=row>1526</th><td>scaffold1623</td><td>14255       </td><td>14255       </td><td>-           </td><td>1.584159e-03</td><td>1.337055e-02</td><td>-10.37255   </td></tr>\n",
       "\t<tr><th scope=row>1581</th><td>scaffold1661</td><td> 2716       </td><td> 2716       </td><td>-           </td><td>6.833665e-06</td><td>1.427311e-04</td><td>-13.90977   </td></tr>\n",
       "\t<tr><th scope=row>1700</th><td>scaffold1725</td><td>11008       </td><td>11008       </td><td>-           </td><td>1.348101e-05</td><td>2.549408e-04</td><td>-14.17522   </td></tr>\n",
       "\t<tr><th scope=row>1810</th><td>scaffold1767</td><td>11457       </td><td>11457       </td><td>-           </td><td>6.097982e-09</td><td>3.070919e-07</td><td>-13.68101   </td></tr>\n",
       "\t<tr><th scope=row>1899</th><td>scaffold179 </td><td> 3400       </td><td> 3400       </td><td>+           </td><td>5.705201e-28</td><td>2.983620e-25</td><td>-31.66023   </td></tr>\n",
       "\t<tr><th scope=row>2088</th><td>scaffold1830</td><td> 2548       </td><td> 2548       </td><td>+           </td><td>6.397147e-07</td><td>1.827365e-05</td><td>-10.27274   </td></tr>\n",
       "\t<tr><th scope=row>⋮</th><td>⋮</td><td>⋮</td><td>⋮</td><td>⋮</td><td>⋮</td><td>⋮</td><td>⋮</td></tr>\n",
       "\t<tr><th scope=row>211</th><td>scaffold9071</td><td>13493       </td><td>13493       </td><td>+           </td><td>5.666870e-14</td><td>6.759030e-12</td><td>-15.77110   </td></tr>\n",
       "\t<tr><th scope=row>212</th><td>scaffold9090</td><td> 5218       </td><td> 5218       </td><td>+           </td><td>3.067577e-03</td><td>2.238868e-02</td><td>-11.61591   </td></tr>\n",
       "\t<tr><th scope=row>213</th><td>scaffold91  </td><td> 8963       </td><td> 8963       </td><td>-           </td><td>5.103133e-10</td><td>3.153990e-08</td><td>-20.44892   </td></tr>\n",
       "\t<tr><th scope=row>214</th><td>scaffold9102</td><td> 5841       </td><td> 5841       </td><td>-           </td><td>3.791573e-03</td><td>2.631668e-02</td><td>-10.29833   </td></tr>\n",
       "\t<tr><th scope=row>215</th><td>scaffold9119</td><td>10589       </td><td>10589       </td><td>+           </td><td>5.039449e-06</td><td>1.099869e-04</td><td>-15.14766   </td></tr>\n",
       "\t<tr><th scope=row>216</th><td>scaffold9119</td><td>10632       </td><td>10632       </td><td>+           </td><td>8.288593e-04</td><td>8.004315e-03</td><td>-11.85529   </td></tr>\n",
       "\t<tr><th scope=row>217</th><td>scaffold9119</td><td>10730       </td><td>10730       </td><td>-           </td><td>5.093911e-06</td><td>1.106428e-04</td><td>-10.21641   </td></tr>\n",
       "\t<tr><th scope=row>218</th><td>scaffold9119</td><td>11306       </td><td>11306       </td><td>+           </td><td>2.593430e-15</td><td>3.791732e-13</td><td>-28.64221   </td></tr>\n",
       "\t<tr><th scope=row>219</th><td>scaffold9119</td><td>13545       </td><td>13545       </td><td>+           </td><td>2.146471e-05</td><td>3.785442e-04</td><td>-10.93890   </td></tr>\n",
       "\t<tr><th scope=row>220</th><td>scaffold9119</td><td>13595       </td><td>13595       </td><td>+           </td><td>2.901585e-04</td><td>3.398201e-03</td><td>-10.33760   </td></tr>\n",
       "\t<tr><th scope=row>221</th><td>scaffold9122</td><td> 5727       </td><td> 5727       </td><td>-           </td><td>1.115981e-03</td><td>1.004242e-02</td><td>-11.64196   </td></tr>\n",
       "\t<tr><th scope=row>222</th><td>scaffold9159</td><td>13086       </td><td>13086       </td><td>+           </td><td>3.021780e-05</td><td>5.085077e-04</td><td>-10.81798   </td></tr>\n",
       "\t<tr><th scope=row>223</th><td>scaffold916 </td><td> 4619       </td><td> 4619       </td><td>+           </td><td>1.750357e-03</td><td>1.450321e-02</td><td>-13.89365   </td></tr>\n",
       "\t<tr><th scope=row>224</th><td>scaffold9163</td><td> 8423       </td><td> 8423       </td><td>+           </td><td>9.473811e-03</td><td>5.208122e-02</td><td>-10.89055   </td></tr>\n",
       "\t<tr><th scope=row>225</th><td>scaffold9248</td><td> 5384       </td><td> 5384       </td><td>-           </td><td>7.450619e-08</td><td>2.829797e-06</td><td>-15.39543   </td></tr>\n",
       "\t<tr><th scope=row>226</th><td>scaffold9288</td><td> 7155       </td><td> 7155       </td><td>-           </td><td>7.510862e-12</td><td>6.304066e-10</td><td>-12.82719   </td></tr>\n",
       "\t<tr><th scope=row>227</th><td>scaffold9366</td><td> 2526       </td><td> 2526       </td><td>+           </td><td>5.298988e-06</td><td>1.145482e-04</td><td>-17.89629   </td></tr>\n",
       "\t<tr><th scope=row>228</th><td>scaffold942 </td><td>10179       </td><td>10179       </td><td>-           </td><td>7.213912e-03</td><td>4.266560e-02</td><td>-10.86429   </td></tr>\n",
       "\t<tr><th scope=row>229</th><td>scaffold9444</td><td>  158       </td><td>  158       </td><td>+           </td><td>7.497371e-03</td><td>4.386507e-02</td><td>-10.23040   </td></tr>\n",
       "\t<tr><th scope=row>230</th><td>scaffold9446</td><td> 6513       </td><td> 6513       </td><td>-           </td><td>9.735103e-07</td><td>2.636834e-05</td><td>-17.13597   </td></tr>\n",
       "\t<tr><th scope=row>231</th><td>scaffold9454</td><td> 5368       </td><td> 5368       </td><td>-           </td><td>3.771475e-07</td><td>1.154979e-05</td><td>-19.09790   </td></tr>\n",
       "\t<tr><th scope=row>232</th><td>scaffold9462</td><td> 6583       </td><td> 6583       </td><td>+           </td><td>4.369349e-10</td><td>2.737808e-08</td><td>-15.10194   </td></tr>\n",
       "\t<tr><th scope=row>233</th><td>scaffold9592</td><td> 9844       </td><td> 9844       </td><td>-           </td><td>1.667774e-06</td><td>4.130578e-05</td><td>-17.10286   </td></tr>\n",
       "\t<tr><th scope=row>234</th><td>scaffold965 </td><td>11231       </td><td>11231       </td><td>+           </td><td>5.329713e-06</td><td>1.150295e-04</td><td>-12.22226   </td></tr>\n",
       "\t<tr><th scope=row>235</th><td>scaffold9727</td><td>10280       </td><td>10280       </td><td>+           </td><td>8.773514e-15</td><td>1.147060e-12</td><td>-26.90680   </td></tr>\n",
       "\t<tr><th scope=row>236</th><td>scaffold9727</td><td>10282       </td><td>10282       </td><td>+           </td><td>6.202931e-09</td><td>3.100802e-07</td><td>-19.17220   </td></tr>\n",
       "\t<tr><th scope=row>237</th><td>scaffold9781</td><td> 2233       </td><td> 2233       </td><td>+           </td><td>4.202488e-03</td><td>2.842866e-02</td><td>-10.00993   </td></tr>\n",
       "\t<tr><th scope=row>238</th><td>scaffold9841</td><td> 9958       </td><td> 9958       </td><td>+           </td><td>4.233739e-10</td><td>2.665117e-08</td><td>-29.66430   </td></tr>\n",
       "\t<tr><th scope=row>239</th><td>scaffold9841</td><td> 9959       </td><td> 9959       </td><td>-           </td><td>2.005925e-03</td><td>1.613890e-02</td><td>-14.31901   </td></tr>\n",
       "\t<tr><th scope=row>240</th><td>scaffold990 </td><td> 9424       </td><td> 9424       </td><td>+           </td><td>3.687587e-03</td><td>2.576591e-02</td><td>-11.17409   </td></tr>\n",
       "</tbody>\n",
       "</table>\n"
      ],
      "text/latex": [
       "\\begin{tabular}{r|lllllll}\n",
       "  & chr & start & end & strand & pvalue & qvalue & meth.diff\\\\\n",
       "\\hline\n",
       "\t10 & scaffold1002 & 12101        & 12101        & -            & 8.848136e-04 & 8.405287e-03 & -12.10670   \\\\\n",
       "\t42 & scaffold1023 & 15652        & 15652        & -            & 6.102972e-03 & 3.765094e-02 & -11.21444   \\\\\n",
       "\t63 & scaffold1023 & 16004        & 16004        & -            & 1.856951e-06 & 4.549393e-05 & -10.15478   \\\\\n",
       "\t148 & scaffold1036 & 11606        & 11606        & -            & 1.761040e-05 & 3.192670e-04 & -13.81381   \\\\\n",
       "\t160 & scaffold1036 & 14361        & 14361        & -            & 1.576711e-08 & 7.029076e-07 & -18.57367   \\\\\n",
       "\t165 & scaffold1036 & 14467        & 14467        & +            & 1.871511e-07 & 6.221786e-06 & -10.07461   \\\\\n",
       "\t383 & scaffold1122 &  5325        &  5325        & -            & 4.089772e-20 & 1.049226e-17 & -28.52022   \\\\\n",
       "\t462 & scaffold1162 &  8211        &  8211        & +            & 2.194616e-09 & 1.217975e-07 & -10.10877   \\\\\n",
       "\t717 & scaffold1248 &  1047        &  1047        & +            & 1.105190e-05 & 2.171585e-04 & -18.56003   \\\\\n",
       "\t1104 & scaffold1433 &  7513        &  7513        & -            & 2.848618e-06 & 6.643724e-05 & -10.72606   \\\\\n",
       "\t1120 & scaffold144  &  1681        &  1681        & +            & 6.214080e-08 & 2.400381e-06 & -19.00108   \\\\\n",
       "\t1121 & scaffold144  &  1685        &  1685        & +            & 8.966620e-12 & 7.434143e-10 & -23.92080   \\\\\n",
       "\t1123 & scaffold144  &  1725        &  1725        & -            & 1.419113e-05 & 2.676257e-04 & -15.55823   \\\\\n",
       "\t1125 & scaffold144  &  1751        &  1751        & +            & 1.087721e-11 & 8.909539e-10 & -10.00877   \\\\\n",
       "\t1156 & scaffold145  &  6015        &  6015        & -            & 8.389747e-05 & 1.189532e-03 & -20.79094   \\\\\n",
       "\t1171 & scaffold1458 & 11968        & 11968        & -            & 4.638257e-03 & 3.063674e-02 & -11.10276   \\\\\n",
       "\t1233 & scaffold1489 &  9466        &  9466        & -            & 2.127401e-06 & 5.119729e-05 & -13.50909   \\\\\n",
       "\t1234 & scaffold1489 &  9488        &  9488        & -            & 2.976215e-08 & 1.245165e-06 & -17.90863   \\\\\n",
       "\t1235 & scaffold1489 &  9490        &  9490        & -            & 5.401182e-09 & 2.771334e-07 & -18.39948   \\\\\n",
       "\t1236 & scaffold1489 &  9491        &  9491        & -            & 2.530069e-09 & 1.398438e-07 & -19.25085   \\\\\n",
       "\t1336 & scaffold1558 &  3544        &  3544        & +            & 3.941026e-07 & 1.198803e-05 & -13.43794   \\\\\n",
       "\t1373 & scaffold158  &  6574        &  6574        & +            & 2.222733e-05 & 3.894679e-04 & -11.57713   \\\\\n",
       "\t1511 & scaffold1623 &   735        &   735        & -            & 6.662194e-03 & 4.017503e-02 & -12.08470   \\\\\n",
       "\t1518 & scaffold1623 &  9713        &  9713        & +            & 2.736624e-04 & 3.238479e-03 & -10.23461   \\\\\n",
       "\t1526 & scaffold1623 & 14255        & 14255        & -            & 1.584159e-03 & 1.337055e-02 & -10.37255   \\\\\n",
       "\t1581 & scaffold1661 &  2716        &  2716        & -            & 6.833665e-06 & 1.427311e-04 & -13.90977   \\\\\n",
       "\t1700 & scaffold1725 & 11008        & 11008        & -            & 1.348101e-05 & 2.549408e-04 & -14.17522   \\\\\n",
       "\t1810 & scaffold1767 & 11457        & 11457        & -            & 6.097982e-09 & 3.070919e-07 & -13.68101   \\\\\n",
       "\t1899 & scaffold179  &  3400        &  3400        & +            & 5.705201e-28 & 2.983620e-25 & -31.66023   \\\\\n",
       "\t2088 & scaffold1830 &  2548        &  2548        & +            & 6.397147e-07 & 1.827365e-05 & -10.27274   \\\\\n",
       "\t⋮ & ⋮ & ⋮ & ⋮ & ⋮ & ⋮ & ⋮ & ⋮\\\\\n",
       "\t211 & scaffold9071 & 13493        & 13493        & +            & 5.666870e-14 & 6.759030e-12 & -15.77110   \\\\\n",
       "\t212 & scaffold9090 &  5218        &  5218        & +            & 3.067577e-03 & 2.238868e-02 & -11.61591   \\\\\n",
       "\t213 & scaffold91   &  8963        &  8963        & -            & 5.103133e-10 & 3.153990e-08 & -20.44892   \\\\\n",
       "\t214 & scaffold9102 &  5841        &  5841        & -            & 3.791573e-03 & 2.631668e-02 & -10.29833   \\\\\n",
       "\t215 & scaffold9119 & 10589        & 10589        & +            & 5.039449e-06 & 1.099869e-04 & -15.14766   \\\\\n",
       "\t216 & scaffold9119 & 10632        & 10632        & +            & 8.288593e-04 & 8.004315e-03 & -11.85529   \\\\\n",
       "\t217 & scaffold9119 & 10730        & 10730        & -            & 5.093911e-06 & 1.106428e-04 & -10.21641   \\\\\n",
       "\t218 & scaffold9119 & 11306        & 11306        & +            & 2.593430e-15 & 3.791732e-13 & -28.64221   \\\\\n",
       "\t219 & scaffold9119 & 13545        & 13545        & +            & 2.146471e-05 & 3.785442e-04 & -10.93890   \\\\\n",
       "\t220 & scaffold9119 & 13595        & 13595        & +            & 2.901585e-04 & 3.398201e-03 & -10.33760   \\\\\n",
       "\t221 & scaffold9122 &  5727        &  5727        & -            & 1.115981e-03 & 1.004242e-02 & -11.64196   \\\\\n",
       "\t222 & scaffold9159 & 13086        & 13086        & +            & 3.021780e-05 & 5.085077e-04 & -10.81798   \\\\\n",
       "\t223 & scaffold916  &  4619        &  4619        & +            & 1.750357e-03 & 1.450321e-02 & -13.89365   \\\\\n",
       "\t224 & scaffold9163 &  8423        &  8423        & +            & 9.473811e-03 & 5.208122e-02 & -10.89055   \\\\\n",
       "\t225 & scaffold9248 &  5384        &  5384        & -            & 7.450619e-08 & 2.829797e-06 & -15.39543   \\\\\n",
       "\t226 & scaffold9288 &  7155        &  7155        & -            & 7.510862e-12 & 6.304066e-10 & -12.82719   \\\\\n",
       "\t227 & scaffold9366 &  2526        &  2526        & +            & 5.298988e-06 & 1.145482e-04 & -17.89629   \\\\\n",
       "\t228 & scaffold942  & 10179        & 10179        & -            & 7.213912e-03 & 4.266560e-02 & -10.86429   \\\\\n",
       "\t229 & scaffold9444 &   158        &   158        & +            & 7.497371e-03 & 4.386507e-02 & -10.23040   \\\\\n",
       "\t230 & scaffold9446 &  6513        &  6513        & -            & 9.735103e-07 & 2.636834e-05 & -17.13597   \\\\\n",
       "\t231 & scaffold9454 &  5368        &  5368        & -            & 3.771475e-07 & 1.154979e-05 & -19.09790   \\\\\n",
       "\t232 & scaffold9462 &  6583        &  6583        & +            & 4.369349e-10 & 2.737808e-08 & -15.10194   \\\\\n",
       "\t233 & scaffold9592 &  9844        &  9844        & -            & 1.667774e-06 & 4.130578e-05 & -17.10286   \\\\\n",
       "\t234 & scaffold965  & 11231        & 11231        & +            & 5.329713e-06 & 1.150295e-04 & -12.22226   \\\\\n",
       "\t235 & scaffold9727 & 10280        & 10280        & +            & 8.773514e-15 & 1.147060e-12 & -26.90680   \\\\\n",
       "\t236 & scaffold9727 & 10282        & 10282        & +            & 6.202931e-09 & 3.100802e-07 & -19.17220   \\\\\n",
       "\t237 & scaffold9781 &  2233        &  2233        & +            & 4.202488e-03 & 2.842866e-02 & -10.00993   \\\\\n",
       "\t238 & scaffold9841 &  9958        &  9958        & +            & 4.233739e-10 & 2.665117e-08 & -29.66430   \\\\\n",
       "\t239 & scaffold9841 &  9959        &  9959        & -            & 2.005925e-03 & 1.613890e-02 & -14.31901   \\\\\n",
       "\t240 & scaffold990  &  9424        &  9424        & +            & 3.687587e-03 & 2.576591e-02 & -11.17409   \\\\\n",
       "\\end{tabular}\n"
      ],
      "text/plain": [
       "     chr          start end   strand pvalue       qvalue       meth.diff\n",
       "10   scaffold1002 12101 12101 -      8.848136e-04 8.405287e-03 -12.10670\n",
       "42   scaffold1023 15652 15652 -      6.102972e-03 3.765094e-02 -11.21444\n",
       "63   scaffold1023 16004 16004 -      1.856951e-06 4.549393e-05 -10.15478\n",
       "148  scaffold1036 11606 11606 -      1.761040e-05 3.192670e-04 -13.81381\n",
       "160  scaffold1036 14361 14361 -      1.576711e-08 7.029076e-07 -18.57367\n",
       "165  scaffold1036 14467 14467 +      1.871511e-07 6.221786e-06 -10.07461\n",
       "383  scaffold1122  5325  5325 -      4.089772e-20 1.049226e-17 -28.52022\n",
       "462  scaffold1162  8211  8211 +      2.194616e-09 1.217975e-07 -10.10877\n",
       "717  scaffold1248  1047  1047 +      1.105190e-05 2.171585e-04 -18.56003\n",
       "1104 scaffold1433  7513  7513 -      2.848618e-06 6.643724e-05 -10.72606\n",
       "1120 scaffold144   1681  1681 +      6.214080e-08 2.400381e-06 -19.00108\n",
       "1121 scaffold144   1685  1685 +      8.966620e-12 7.434143e-10 -23.92080\n",
       "1123 scaffold144   1725  1725 -      1.419113e-05 2.676257e-04 -15.55823\n",
       "1125 scaffold144   1751  1751 +      1.087721e-11 8.909539e-10 -10.00877\n",
       "1156 scaffold145   6015  6015 -      8.389747e-05 1.189532e-03 -20.79094\n",
       "1171 scaffold1458 11968 11968 -      4.638257e-03 3.063674e-02 -11.10276\n",
       "1233 scaffold1489  9466  9466 -      2.127401e-06 5.119729e-05 -13.50909\n",
       "1234 scaffold1489  9488  9488 -      2.976215e-08 1.245165e-06 -17.90863\n",
       "1235 scaffold1489  9490  9490 -      5.401182e-09 2.771334e-07 -18.39948\n",
       "1236 scaffold1489  9491  9491 -      2.530069e-09 1.398438e-07 -19.25085\n",
       "1336 scaffold1558  3544  3544 +      3.941026e-07 1.198803e-05 -13.43794\n",
       "1373 scaffold158   6574  6574 +      2.222733e-05 3.894679e-04 -11.57713\n",
       "1511 scaffold1623   735   735 -      6.662194e-03 4.017503e-02 -12.08470\n",
       "1518 scaffold1623  9713  9713 +      2.736624e-04 3.238479e-03 -10.23461\n",
       "1526 scaffold1623 14255 14255 -      1.584159e-03 1.337055e-02 -10.37255\n",
       "1581 scaffold1661  2716  2716 -      6.833665e-06 1.427311e-04 -13.90977\n",
       "1700 scaffold1725 11008 11008 -      1.348101e-05 2.549408e-04 -14.17522\n",
       "1810 scaffold1767 11457 11457 -      6.097982e-09 3.070919e-07 -13.68101\n",
       "1899 scaffold179   3400  3400 +      5.705201e-28 2.983620e-25 -31.66023\n",
       "2088 scaffold1830  2548  2548 +      6.397147e-07 1.827365e-05 -10.27274\n",
       "⋮    ⋮            ⋮     ⋮     ⋮      ⋮            ⋮            ⋮        \n",
       "211  scaffold9071 13493 13493 +      5.666870e-14 6.759030e-12 -15.77110\n",
       "212  scaffold9090  5218  5218 +      3.067577e-03 2.238868e-02 -11.61591\n",
       "213  scaffold91    8963  8963 -      5.103133e-10 3.153990e-08 -20.44892\n",
       "214  scaffold9102  5841  5841 -      3.791573e-03 2.631668e-02 -10.29833\n",
       "215  scaffold9119 10589 10589 +      5.039449e-06 1.099869e-04 -15.14766\n",
       "216  scaffold9119 10632 10632 +      8.288593e-04 8.004315e-03 -11.85529\n",
       "217  scaffold9119 10730 10730 -      5.093911e-06 1.106428e-04 -10.21641\n",
       "218  scaffold9119 11306 11306 +      2.593430e-15 3.791732e-13 -28.64221\n",
       "219  scaffold9119 13545 13545 +      2.146471e-05 3.785442e-04 -10.93890\n",
       "220  scaffold9119 13595 13595 +      2.901585e-04 3.398201e-03 -10.33760\n",
       "221  scaffold9122  5727  5727 -      1.115981e-03 1.004242e-02 -11.64196\n",
       "222  scaffold9159 13086 13086 +      3.021780e-05 5.085077e-04 -10.81798\n",
       "223  scaffold916   4619  4619 +      1.750357e-03 1.450321e-02 -13.89365\n",
       "224  scaffold9163  8423  8423 +      9.473811e-03 5.208122e-02 -10.89055\n",
       "225  scaffold9248  5384  5384 -      7.450619e-08 2.829797e-06 -15.39543\n",
       "226  scaffold9288  7155  7155 -      7.510862e-12 6.304066e-10 -12.82719\n",
       "227  scaffold9366  2526  2526 +      5.298988e-06 1.145482e-04 -17.89629\n",
       "228  scaffold942  10179 10179 -      7.213912e-03 4.266560e-02 -10.86429\n",
       "229  scaffold9444   158   158 +      7.497371e-03 4.386507e-02 -10.23040\n",
       "230  scaffold9446  6513  6513 -      9.735103e-07 2.636834e-05 -17.13597\n",
       "231  scaffold9454  5368  5368 -      3.771475e-07 1.154979e-05 -19.09790\n",
       "232  scaffold9462  6583  6583 +      4.369349e-10 2.737808e-08 -15.10194\n",
       "233  scaffold9592  9844  9844 -      1.667774e-06 4.130578e-05 -17.10286\n",
       "234  scaffold965  11231 11231 +      5.329713e-06 1.150295e-04 -12.22226\n",
       "235  scaffold9727 10280 10280 +      8.773514e-15 1.147060e-12 -26.90680\n",
       "236  scaffold9727 10282 10282 +      6.202931e-09 3.100802e-07 -19.17220\n",
       "237  scaffold9781  2233  2233 +      4.202488e-03 2.842866e-02 -10.00993\n",
       "238  scaffold9841  9958  9958 +      4.233739e-10 2.665117e-08 -29.66430\n",
       "239  scaffold9841  9959  9959 -      2.005925e-03 1.613890e-02 -14.31901\n",
       "240  scaffold990   9424  9424 +      3.687587e-03 2.576591e-02 -11.17409"
      ]
     },
     "metadata": {},
     "output_type": "display_data"
    }
   ],
   "source": [
    "pop.DML.filt_hypo"
   ]
  },
  {
   "cell_type": "code",
   "execution_count": 91,
   "metadata": {
    "collapsed": false
   },
   "outputs": [],
   "source": [
    "pop.DML.filt <- pop.DML.p[pop.DML.p$pvalue < 0.01 & pop.DML.p$meth.diff>10 | pop.DML.p$meth.diff<(-10),]"
   ]
  },
  {
   "cell_type": "code",
   "execution_count": 92,
   "metadata": {
    "collapsed": false
   },
   "outputs": [
    {
     "data": {
      "text/html": [
       "<ol class=list-inline>\n",
       "\t<li>886</li>\n",
       "\t<li>7</li>\n",
       "</ol>\n"
      ],
      "text/latex": [
       "\\begin{enumerate*}\n",
       "\\item 886\n",
       "\\item 7\n",
       "\\end{enumerate*}\n"
      ],
      "text/markdown": [
       "1. 886\n",
       "2. 7\n",
       "\n",
       "\n"
      ],
      "text/plain": [
       "[1] 886   7"
      ]
     },
     "metadata": {},
     "output_type": "display_data"
    }
   ],
   "source": [
    "dim(pop.DML.filt)"
   ]
  },
  {
   "cell_type": "code",
   "execution_count": 93,
   "metadata": {
    "collapsed": false
   },
   "outputs": [
    {
     "data": {
      "text/html": [
       "<table>\n",
       "<thead><tr><th></th><th scope=col>chr</th><th scope=col>start</th><th scope=col>end</th><th scope=col>strand</th><th scope=col>pvalue</th><th scope=col>qvalue</th><th scope=col>meth.diff</th></tr></thead>\n",
       "<tbody>\n",
       "\t<tr><th scope=row>8</th><td>scaffold1002</td><td>12098       </td><td>12098       </td><td>-           </td><td>4.617960e-05</td><td>7.236472e-04</td><td> 19.35534   </td></tr>\n",
       "\t<tr><th scope=row>10</th><td>scaffold1002</td><td>12101       </td><td>12101       </td><td>-           </td><td>8.848136e-04</td><td>8.405287e-03</td><td>-12.10670   </td></tr>\n",
       "\t<tr><th scope=row>12</th><td>scaffold1002</td><td>12117       </td><td>12117       </td><td>-           </td><td>6.785852e-07</td><td>1.921733e-05</td><td> 22.95082   </td></tr>\n",
       "\t<tr><th scope=row>22</th><td>scaffold1004</td><td>13415       </td><td>13415       </td><td>+           </td><td>4.312404e-06</td><td>9.565440e-05</td><td> 10.34970   </td></tr>\n",
       "\t<tr><th scope=row>23</th><td>scaffold1004</td><td>13416       </td><td>13416       </td><td>-           </td><td>8.727874e-10</td><td>5.159726e-08</td><td> 13.00755   </td></tr>\n",
       "\t<tr><th scope=row>30</th><td>scaffold1004</td><td>13433       </td><td>13433       </td><td>-           </td><td>9.053115e-08</td><td>3.354115e-06</td><td> 24.97085   </td></tr>\n",
       "\t<tr><th scope=row>42</th><td>scaffold1023</td><td>15652       </td><td>15652       </td><td>-           </td><td>6.102972e-03</td><td>3.765094e-02</td><td>-11.21444   </td></tr>\n",
       "\t<tr><th scope=row>58</th><td>scaffold1023</td><td>15910       </td><td>15910       </td><td>+           </td><td>9.454703e-04</td><td>8.859852e-03</td><td> 14.46462   </td></tr>\n",
       "\t<tr><th scope=row>63</th><td>scaffold1023</td><td>16004       </td><td>16004       </td><td>-           </td><td>1.856951e-06</td><td>4.549393e-05</td><td>-10.15478   </td></tr>\n",
       "\t<tr><th scope=row>111</th><td>scaffold1036</td><td> 9565       </td><td> 9565       </td><td>+           </td><td>7.703240e-11</td><td>5.455294e-09</td><td> 12.29936   </td></tr>\n",
       "\t<tr><th scope=row>113</th><td>scaffold1036</td><td> 9574       </td><td> 9574       </td><td>+           </td><td>1.130414e-11</td><td>9.203797e-10</td><td> 14.10498   </td></tr>\n",
       "\t<tr><th scope=row>118</th><td>scaffold1036</td><td> 9586       </td><td> 9586       </td><td>+           </td><td>7.085878e-13</td><td>7.084363e-11</td><td> 14.05604   </td></tr>\n",
       "\t<tr><th scope=row>120</th><td>scaffold1036</td><td> 9595       </td><td> 9595       </td><td>+           </td><td>1.417745e-16</td><td>2.471437e-14</td><td> 17.97699   </td></tr>\n",
       "\t<tr><th scope=row>121</th><td>scaffold1036</td><td> 9607       </td><td> 9607       </td><td>+           </td><td>2.708405e-11</td><td>2.080589e-09</td><td> 12.16614   </td></tr>\n",
       "\t<tr><th scope=row>148</th><td>scaffold1036</td><td>11606       </td><td>11606       </td><td>-           </td><td>1.761040e-05</td><td>3.192670e-04</td><td>-13.81381   </td></tr>\n",
       "\t<tr><th scope=row>160</th><td>scaffold1036</td><td>14361       </td><td>14361       </td><td>-           </td><td>1.576711e-08</td><td>7.029076e-07</td><td>-18.57367   </td></tr>\n",
       "\t<tr><th scope=row>165</th><td>scaffold1036</td><td>14467       </td><td>14467       </td><td>+           </td><td>1.871511e-07</td><td>6.221786e-06</td><td>-10.07461   </td></tr>\n",
       "\t<tr><th scope=row>171</th><td>scaffold1038</td><td> 9516       </td><td> 9516       </td><td>-           </td><td>5.971627e-07</td><td>1.744207e-05</td><td> 17.32200   </td></tr>\n",
       "\t<tr><th scope=row>244</th><td>scaffold1052</td><td> 7989       </td><td> 7989       </td><td>-           </td><td>1.024354e-04</td><td>1.414033e-03</td><td> 11.55378   </td></tr>\n",
       "\t<tr><th scope=row>246</th><td>scaffold1052</td><td> 7993       </td><td> 7993       </td><td>-           </td><td>5.744703e-08</td><td>2.238145e-06</td><td> 17.34647   </td></tr>\n",
       "\t<tr><th scope=row>258</th><td>scaffold1052</td><td> 8013       </td><td> 8013       </td><td>-           </td><td>2.952501e-03</td><td>2.180040e-02</td><td> 10.90361   </td></tr>\n",
       "\t<tr><th scope=row>261</th><td>scaffold1052</td><td> 8066       </td><td> 8066       </td><td>+           </td><td>1.785195e-04</td><td>2.270670e-03</td><td> 13.89499   </td></tr>\n",
       "\t<tr><th scope=row>276</th><td>scaffold1053</td><td> 4649       </td><td> 4649       </td><td>-           </td><td>5.324950e-03</td><td>3.394460e-02</td><td> 10.54922   </td></tr>\n",
       "\t<tr><th scope=row>279</th><td>scaffold1053</td><td> 8034       </td><td> 8034       </td><td>-           </td><td>2.460413e-06</td><td>5.848681e-05</td><td> 11.73524   </td></tr>\n",
       "\t<tr><th scope=row>280</th><td>scaffold1053</td><td> 9859       </td><td> 9859       </td><td>+           </td><td>3.685846e-11</td><td>2.768883e-09</td><td> 25.59921   </td></tr>\n",
       "\t<tr><th scope=row>306</th><td>scaffold1063</td><td>20632       </td><td>20632       </td><td>-           </td><td>1.798106e-04</td><td>2.282820e-03</td><td> 11.45009   </td></tr>\n",
       "\t<tr><th scope=row>354</th><td>scaffold1113</td><td>  977       </td><td>  977       </td><td>-           </td><td>3.956645e-03</td><td>2.722614e-02</td><td> 11.20435   </td></tr>\n",
       "\t<tr><th scope=row>382</th><td>scaffold1122</td><td> 5300       </td><td> 5300       </td><td>-           </td><td>9.122160e-23</td><td>3.352293e-20</td><td> 25.95014   </td></tr>\n",
       "\t<tr><th scope=row>383</th><td>scaffold1122</td><td> 5325       </td><td> 5325       </td><td>-           </td><td>4.089772e-20</td><td>1.049226e-17</td><td>-28.52022   </td></tr>\n",
       "\t<tr><th scope=row>384</th><td>scaffold1122</td><td> 5328       </td><td> 5328       </td><td>-           </td><td>2.577301e-12</td><td>2.416813e-10</td><td> 24.07407   </td></tr>\n",
       "\t<tr><th scope=row>⋮</th><td>⋮</td><td>⋮</td><td>⋮</td><td>⋮</td><td>⋮</td><td>⋮</td><td>⋮</td></tr>\n",
       "\t<tr><th scope=row>857</th><td>scaffold95  </td><td> 6409       </td><td> 6409       </td><td>-           </td><td>3.964058e-11</td><td>2.961520e-09</td><td> 16.55046   </td></tr>\n",
       "\t<tr><th scope=row>858</th><td>scaffold9504</td><td> 4457       </td><td> 4457       </td><td>+           </td><td>5.834200e-18</td><td>1.201942e-15</td><td> 19.01836   </td></tr>\n",
       "\t<tr><th scope=row>859</th><td>scaffold9546</td><td> 2345       </td><td> 2345       </td><td>-           </td><td>2.139425e-05</td><td>3.777916e-04</td><td> 15.99515   </td></tr>\n",
       "\t<tr><th scope=row>860</th><td>scaffold9546</td><td> 2350       </td><td> 2350       </td><td>-           </td><td>1.104139e-05</td><td>2.171585e-04</td><td> 16.15598   </td></tr>\n",
       "\t<tr><th scope=row>861</th><td>scaffold9546</td><td> 2355       </td><td> 2355       </td><td>-           </td><td>1.417567e-07</td><td>4.904525e-06</td><td> 19.58124   </td></tr>\n",
       "\t<tr><th scope=row>862</th><td>scaffold9546</td><td> 2371       </td><td> 2371       </td><td>-           </td><td>1.650258e-05</td><td>3.044601e-04</td><td> 16.51149   </td></tr>\n",
       "\t<tr><th scope=row>863</th><td>scaffold9546</td><td> 2376       </td><td> 2376       </td><td>-           </td><td>8.639408e-03</td><td>4.864216e-02</td><td> 11.34837   </td></tr>\n",
       "\t<tr><th scope=row>864</th><td>scaffold9592</td><td> 9499       </td><td> 9499       </td><td>-           </td><td>3.562057e-05</td><td>5.821348e-04</td><td> 18.20260   </td></tr>\n",
       "\t<tr><th scope=row>865</th><td>scaffold9592</td><td> 9643       </td><td> 9643       </td><td>+           </td><td>2.266679e-04</td><td>2.766629e-03</td><td> 14.03342   </td></tr>\n",
       "\t<tr><th scope=row>866</th><td>scaffold9592</td><td> 9844       </td><td> 9844       </td><td>-           </td><td>1.667774e-06</td><td>4.130578e-05</td><td>-17.10286   </td></tr>\n",
       "\t<tr><th scope=row>867</th><td>scaffold9597</td><td> 1319       </td><td> 1319       </td><td>+           </td><td>6.252722e-09</td><td>3.114243e-07</td><td> 18.38938   </td></tr>\n",
       "\t<tr><th scope=row>868</th><td>scaffold9629</td><td>11347       </td><td>11347       </td><td>-           </td><td>1.033229e-03</td><td>9.537616e-03</td><td> 12.07707   </td></tr>\n",
       "\t<tr><th scope=row>869</th><td>scaffold9640</td><td> 4265       </td><td> 4265       </td><td>+           </td><td>6.251192e-05</td><td>9.381681e-04</td><td> 12.14220   </td></tr>\n",
       "\t<tr><th scope=row>870</th><td>scaffold965 </td><td> 1729       </td><td> 1729       </td><td>+           </td><td>5.237701e-03</td><td>3.354569e-02</td><td> 13.68487   </td></tr>\n",
       "\t<tr><th scope=row>871</th><td>scaffold965 </td><td> 3151       </td><td> 3151       </td><td>+           </td><td>3.086157e-07</td><td>9.668837e-06</td><td> 11.71113   </td></tr>\n",
       "\t<tr><th scope=row>872</th><td>scaffold965 </td><td> 3886       </td><td> 3886       </td><td>-           </td><td>9.358586e-03</td><td>5.162253e-02</td><td> 11.63423   </td></tr>\n",
       "\t<tr><th scope=row>873</th><td>scaffold965 </td><td>11231       </td><td>11231       </td><td>+           </td><td>5.329713e-06</td><td>1.150295e-04</td><td>-12.22226   </td></tr>\n",
       "\t<tr><th scope=row>874</th><td>scaffold965 </td><td>11272       </td><td>11272       </td><td>+           </td><td>2.629430e-08</td><td>1.117269e-06</td><td> 12.58590   </td></tr>\n",
       "\t<tr><th scope=row>875</th><td>scaffold965 </td><td>11275       </td><td>11275       </td><td>+           </td><td>1.891670e-09</td><td>1.080723e-07</td><td> 17.41369   </td></tr>\n",
       "\t<tr><th scope=row>876</th><td>scaffold9727</td><td>10280       </td><td>10280       </td><td>+           </td><td>8.773514e-15</td><td>1.147060e-12</td><td>-26.90680   </td></tr>\n",
       "\t<tr><th scope=row>877</th><td>scaffold9727</td><td>10282       </td><td>10282       </td><td>+           </td><td>6.202931e-09</td><td>3.100802e-07</td><td>-19.17220   </td></tr>\n",
       "\t<tr><th scope=row>878</th><td>scaffold9727</td><td>12862       </td><td>12862       </td><td>-           </td><td>3.672162e-05</td><td>5.958320e-04</td><td> 10.41357   </td></tr>\n",
       "\t<tr><th scope=row>879</th><td>scaffold975 </td><td>  337       </td><td>  337       </td><td>-           </td><td>5.649204e-06</td><td>1.213471e-04</td><td> 13.27049   </td></tr>\n",
       "\t<tr><th scope=row>880</th><td>scaffold9781</td><td> 2233       </td><td> 2233       </td><td>+           </td><td>4.202488e-03</td><td>2.842866e-02</td><td>-10.00993   </td></tr>\n",
       "\t<tr><th scope=row>881</th><td>scaffold9791</td><td> 4952       </td><td> 4952       </td><td>+           </td><td>1.391573e-07</td><td>4.826874e-06</td><td> 14.32734   </td></tr>\n",
       "\t<tr><th scope=row>882</th><td>scaffold9791</td><td>11937       </td><td>11937       </td><td>-           </td><td>1.627306e-03</td><td>1.365841e-02</td><td> 11.89076   </td></tr>\n",
       "\t<tr><th scope=row>883</th><td>scaffold9830</td><td> 1313       </td><td> 1313       </td><td>-           </td><td>1.422172e-05</td><td>2.678310e-04</td><td> 14.70484   </td></tr>\n",
       "\t<tr><th scope=row>884</th><td>scaffold9841</td><td> 9958       </td><td> 9958       </td><td>+           </td><td>4.233739e-10</td><td>2.665117e-08</td><td>-29.66430   </td></tr>\n",
       "\t<tr><th scope=row>885</th><td>scaffold9841</td><td> 9959       </td><td> 9959       </td><td>-           </td><td>2.005925e-03</td><td>1.613890e-02</td><td>-14.31901   </td></tr>\n",
       "\t<tr><th scope=row>886</th><td>scaffold990 </td><td> 9424       </td><td> 9424       </td><td>+           </td><td>3.687587e-03</td><td>2.576591e-02</td><td>-11.17409   </td></tr>\n",
       "</tbody>\n",
       "</table>\n"
      ],
      "text/latex": [
       "\\begin{tabular}{r|lllllll}\n",
       "  & chr & start & end & strand & pvalue & qvalue & meth.diff\\\\\n",
       "\\hline\n",
       "\t8 & scaffold1002 & 12098        & 12098        & -            & 4.617960e-05 & 7.236472e-04 &  19.35534   \\\\\n",
       "\t10 & scaffold1002 & 12101        & 12101        & -            & 8.848136e-04 & 8.405287e-03 & -12.10670   \\\\\n",
       "\t12 & scaffold1002 & 12117        & 12117        & -            & 6.785852e-07 & 1.921733e-05 &  22.95082   \\\\\n",
       "\t22 & scaffold1004 & 13415        & 13415        & +            & 4.312404e-06 & 9.565440e-05 &  10.34970   \\\\\n",
       "\t23 & scaffold1004 & 13416        & 13416        & -            & 8.727874e-10 & 5.159726e-08 &  13.00755   \\\\\n",
       "\t30 & scaffold1004 & 13433        & 13433        & -            & 9.053115e-08 & 3.354115e-06 &  24.97085   \\\\\n",
       "\t42 & scaffold1023 & 15652        & 15652        & -            & 6.102972e-03 & 3.765094e-02 & -11.21444   \\\\\n",
       "\t58 & scaffold1023 & 15910        & 15910        & +            & 9.454703e-04 & 8.859852e-03 &  14.46462   \\\\\n",
       "\t63 & scaffold1023 & 16004        & 16004        & -            & 1.856951e-06 & 4.549393e-05 & -10.15478   \\\\\n",
       "\t111 & scaffold1036 &  9565        &  9565        & +            & 7.703240e-11 & 5.455294e-09 &  12.29936   \\\\\n",
       "\t113 & scaffold1036 &  9574        &  9574        & +            & 1.130414e-11 & 9.203797e-10 &  14.10498   \\\\\n",
       "\t118 & scaffold1036 &  9586        &  9586        & +            & 7.085878e-13 & 7.084363e-11 &  14.05604   \\\\\n",
       "\t120 & scaffold1036 &  9595        &  9595        & +            & 1.417745e-16 & 2.471437e-14 &  17.97699   \\\\\n",
       "\t121 & scaffold1036 &  9607        &  9607        & +            & 2.708405e-11 & 2.080589e-09 &  12.16614   \\\\\n",
       "\t148 & scaffold1036 & 11606        & 11606        & -            & 1.761040e-05 & 3.192670e-04 & -13.81381   \\\\\n",
       "\t160 & scaffold1036 & 14361        & 14361        & -            & 1.576711e-08 & 7.029076e-07 & -18.57367   \\\\\n",
       "\t165 & scaffold1036 & 14467        & 14467        & +            & 1.871511e-07 & 6.221786e-06 & -10.07461   \\\\\n",
       "\t171 & scaffold1038 &  9516        &  9516        & -            & 5.971627e-07 & 1.744207e-05 &  17.32200   \\\\\n",
       "\t244 & scaffold1052 &  7989        &  7989        & -            & 1.024354e-04 & 1.414033e-03 &  11.55378   \\\\\n",
       "\t246 & scaffold1052 &  7993        &  7993        & -            & 5.744703e-08 & 2.238145e-06 &  17.34647   \\\\\n",
       "\t258 & scaffold1052 &  8013        &  8013        & -            & 2.952501e-03 & 2.180040e-02 &  10.90361   \\\\\n",
       "\t261 & scaffold1052 &  8066        &  8066        & +            & 1.785195e-04 & 2.270670e-03 &  13.89499   \\\\\n",
       "\t276 & scaffold1053 &  4649        &  4649        & -            & 5.324950e-03 & 3.394460e-02 &  10.54922   \\\\\n",
       "\t279 & scaffold1053 &  8034        &  8034        & -            & 2.460413e-06 & 5.848681e-05 &  11.73524   \\\\\n",
       "\t280 & scaffold1053 &  9859        &  9859        & +            & 3.685846e-11 & 2.768883e-09 &  25.59921   \\\\\n",
       "\t306 & scaffold1063 & 20632        & 20632        & -            & 1.798106e-04 & 2.282820e-03 &  11.45009   \\\\\n",
       "\t354 & scaffold1113 &   977        &   977        & -            & 3.956645e-03 & 2.722614e-02 &  11.20435   \\\\\n",
       "\t382 & scaffold1122 &  5300        &  5300        & -            & 9.122160e-23 & 3.352293e-20 &  25.95014   \\\\\n",
       "\t383 & scaffold1122 &  5325        &  5325        & -            & 4.089772e-20 & 1.049226e-17 & -28.52022   \\\\\n",
       "\t384 & scaffold1122 &  5328        &  5328        & -            & 2.577301e-12 & 2.416813e-10 &  24.07407   \\\\\n",
       "\t⋮ & ⋮ & ⋮ & ⋮ & ⋮ & ⋮ & ⋮ & ⋮\\\\\n",
       "\t857 & scaffold95   &  6409        &  6409        & -            & 3.964058e-11 & 2.961520e-09 &  16.55046   \\\\\n",
       "\t858 & scaffold9504 &  4457        &  4457        & +            & 5.834200e-18 & 1.201942e-15 &  19.01836   \\\\\n",
       "\t859 & scaffold9546 &  2345        &  2345        & -            & 2.139425e-05 & 3.777916e-04 &  15.99515   \\\\\n",
       "\t860 & scaffold9546 &  2350        &  2350        & -            & 1.104139e-05 & 2.171585e-04 &  16.15598   \\\\\n",
       "\t861 & scaffold9546 &  2355        &  2355        & -            & 1.417567e-07 & 4.904525e-06 &  19.58124   \\\\\n",
       "\t862 & scaffold9546 &  2371        &  2371        & -            & 1.650258e-05 & 3.044601e-04 &  16.51149   \\\\\n",
       "\t863 & scaffold9546 &  2376        &  2376        & -            & 8.639408e-03 & 4.864216e-02 &  11.34837   \\\\\n",
       "\t864 & scaffold9592 &  9499        &  9499        & -            & 3.562057e-05 & 5.821348e-04 &  18.20260   \\\\\n",
       "\t865 & scaffold9592 &  9643        &  9643        & +            & 2.266679e-04 & 2.766629e-03 &  14.03342   \\\\\n",
       "\t866 & scaffold9592 &  9844        &  9844        & -            & 1.667774e-06 & 4.130578e-05 & -17.10286   \\\\\n",
       "\t867 & scaffold9597 &  1319        &  1319        & +            & 6.252722e-09 & 3.114243e-07 &  18.38938   \\\\\n",
       "\t868 & scaffold9629 & 11347        & 11347        & -            & 1.033229e-03 & 9.537616e-03 &  12.07707   \\\\\n",
       "\t869 & scaffold9640 &  4265        &  4265        & +            & 6.251192e-05 & 9.381681e-04 &  12.14220   \\\\\n",
       "\t870 & scaffold965  &  1729        &  1729        & +            & 5.237701e-03 & 3.354569e-02 &  13.68487   \\\\\n",
       "\t871 & scaffold965  &  3151        &  3151        & +            & 3.086157e-07 & 9.668837e-06 &  11.71113   \\\\\n",
       "\t872 & scaffold965  &  3886        &  3886        & -            & 9.358586e-03 & 5.162253e-02 &  11.63423   \\\\\n",
       "\t873 & scaffold965  & 11231        & 11231        & +            & 5.329713e-06 & 1.150295e-04 & -12.22226   \\\\\n",
       "\t874 & scaffold965  & 11272        & 11272        & +            & 2.629430e-08 & 1.117269e-06 &  12.58590   \\\\\n",
       "\t875 & scaffold965  & 11275        & 11275        & +            & 1.891670e-09 & 1.080723e-07 &  17.41369   \\\\\n",
       "\t876 & scaffold9727 & 10280        & 10280        & +            & 8.773514e-15 & 1.147060e-12 & -26.90680   \\\\\n",
       "\t877 & scaffold9727 & 10282        & 10282        & +            & 6.202931e-09 & 3.100802e-07 & -19.17220   \\\\\n",
       "\t878 & scaffold9727 & 12862        & 12862        & -            & 3.672162e-05 & 5.958320e-04 &  10.41357   \\\\\n",
       "\t879 & scaffold975  &   337        &   337        & -            & 5.649204e-06 & 1.213471e-04 &  13.27049   \\\\\n",
       "\t880 & scaffold9781 &  2233        &  2233        & +            & 4.202488e-03 & 2.842866e-02 & -10.00993   \\\\\n",
       "\t881 & scaffold9791 &  4952        &  4952        & +            & 1.391573e-07 & 4.826874e-06 &  14.32734   \\\\\n",
       "\t882 & scaffold9791 & 11937        & 11937        & -            & 1.627306e-03 & 1.365841e-02 &  11.89076   \\\\\n",
       "\t883 & scaffold9830 &  1313        &  1313        & -            & 1.422172e-05 & 2.678310e-04 &  14.70484   \\\\\n",
       "\t884 & scaffold9841 &  9958        &  9958        & +            & 4.233739e-10 & 2.665117e-08 & -29.66430   \\\\\n",
       "\t885 & scaffold9841 &  9959        &  9959        & -            & 2.005925e-03 & 1.613890e-02 & -14.31901   \\\\\n",
       "\t886 & scaffold990  &  9424        &  9424        & +            & 3.687587e-03 & 2.576591e-02 & -11.17409   \\\\\n",
       "\\end{tabular}\n"
      ],
      "text/plain": [
       "    chr          start end   strand pvalue       qvalue       meth.diff\n",
       "8   scaffold1002 12098 12098 -      4.617960e-05 7.236472e-04  19.35534\n",
       "10  scaffold1002 12101 12101 -      8.848136e-04 8.405287e-03 -12.10670\n",
       "12  scaffold1002 12117 12117 -      6.785852e-07 1.921733e-05  22.95082\n",
       "22  scaffold1004 13415 13415 +      4.312404e-06 9.565440e-05  10.34970\n",
       "23  scaffold1004 13416 13416 -      8.727874e-10 5.159726e-08  13.00755\n",
       "30  scaffold1004 13433 13433 -      9.053115e-08 3.354115e-06  24.97085\n",
       "42  scaffold1023 15652 15652 -      6.102972e-03 3.765094e-02 -11.21444\n",
       "58  scaffold1023 15910 15910 +      9.454703e-04 8.859852e-03  14.46462\n",
       "63  scaffold1023 16004 16004 -      1.856951e-06 4.549393e-05 -10.15478\n",
       "111 scaffold1036  9565  9565 +      7.703240e-11 5.455294e-09  12.29936\n",
       "113 scaffold1036  9574  9574 +      1.130414e-11 9.203797e-10  14.10498\n",
       "118 scaffold1036  9586  9586 +      7.085878e-13 7.084363e-11  14.05604\n",
       "120 scaffold1036  9595  9595 +      1.417745e-16 2.471437e-14  17.97699\n",
       "121 scaffold1036  9607  9607 +      2.708405e-11 2.080589e-09  12.16614\n",
       "148 scaffold1036 11606 11606 -      1.761040e-05 3.192670e-04 -13.81381\n",
       "160 scaffold1036 14361 14361 -      1.576711e-08 7.029076e-07 -18.57367\n",
       "165 scaffold1036 14467 14467 +      1.871511e-07 6.221786e-06 -10.07461\n",
       "171 scaffold1038  9516  9516 -      5.971627e-07 1.744207e-05  17.32200\n",
       "244 scaffold1052  7989  7989 -      1.024354e-04 1.414033e-03  11.55378\n",
       "246 scaffold1052  7993  7993 -      5.744703e-08 2.238145e-06  17.34647\n",
       "258 scaffold1052  8013  8013 -      2.952501e-03 2.180040e-02  10.90361\n",
       "261 scaffold1052  8066  8066 +      1.785195e-04 2.270670e-03  13.89499\n",
       "276 scaffold1053  4649  4649 -      5.324950e-03 3.394460e-02  10.54922\n",
       "279 scaffold1053  8034  8034 -      2.460413e-06 5.848681e-05  11.73524\n",
       "280 scaffold1053  9859  9859 +      3.685846e-11 2.768883e-09  25.59921\n",
       "306 scaffold1063 20632 20632 -      1.798106e-04 2.282820e-03  11.45009\n",
       "354 scaffold1113   977   977 -      3.956645e-03 2.722614e-02  11.20435\n",
       "382 scaffold1122  5300  5300 -      9.122160e-23 3.352293e-20  25.95014\n",
       "383 scaffold1122  5325  5325 -      4.089772e-20 1.049226e-17 -28.52022\n",
       "384 scaffold1122  5328  5328 -      2.577301e-12 2.416813e-10  24.07407\n",
       "⋮   ⋮            ⋮     ⋮     ⋮      ⋮            ⋮            ⋮        \n",
       "857 scaffold95    6409  6409 -      3.964058e-11 2.961520e-09  16.55046\n",
       "858 scaffold9504  4457  4457 +      5.834200e-18 1.201942e-15  19.01836\n",
       "859 scaffold9546  2345  2345 -      2.139425e-05 3.777916e-04  15.99515\n",
       "860 scaffold9546  2350  2350 -      1.104139e-05 2.171585e-04  16.15598\n",
       "861 scaffold9546  2355  2355 -      1.417567e-07 4.904525e-06  19.58124\n",
       "862 scaffold9546  2371  2371 -      1.650258e-05 3.044601e-04  16.51149\n",
       "863 scaffold9546  2376  2376 -      8.639408e-03 4.864216e-02  11.34837\n",
       "864 scaffold9592  9499  9499 -      3.562057e-05 5.821348e-04  18.20260\n",
       "865 scaffold9592  9643  9643 +      2.266679e-04 2.766629e-03  14.03342\n",
       "866 scaffold9592  9844  9844 -      1.667774e-06 4.130578e-05 -17.10286\n",
       "867 scaffold9597  1319  1319 +      6.252722e-09 3.114243e-07  18.38938\n",
       "868 scaffold9629 11347 11347 -      1.033229e-03 9.537616e-03  12.07707\n",
       "869 scaffold9640  4265  4265 +      6.251192e-05 9.381681e-04  12.14220\n",
       "870 scaffold965   1729  1729 +      5.237701e-03 3.354569e-02  13.68487\n",
       "871 scaffold965   3151  3151 +      3.086157e-07 9.668837e-06  11.71113\n",
       "872 scaffold965   3886  3886 -      9.358586e-03 5.162253e-02  11.63423\n",
       "873 scaffold965  11231 11231 +      5.329713e-06 1.150295e-04 -12.22226\n",
       "874 scaffold965  11272 11272 +      2.629430e-08 1.117269e-06  12.58590\n",
       "875 scaffold965  11275 11275 +      1.891670e-09 1.080723e-07  17.41369\n",
       "876 scaffold9727 10280 10280 +      8.773514e-15 1.147060e-12 -26.90680\n",
       "877 scaffold9727 10282 10282 +      6.202931e-09 3.100802e-07 -19.17220\n",
       "878 scaffold9727 12862 12862 -      3.672162e-05 5.958320e-04  10.41357\n",
       "879 scaffold975    337   337 -      5.649204e-06 1.213471e-04  13.27049\n",
       "880 scaffold9781  2233  2233 +      4.202488e-03 2.842866e-02 -10.00993\n",
       "881 scaffold9791  4952  4952 +      1.391573e-07 4.826874e-06  14.32734\n",
       "882 scaffold9791 11937 11937 -      1.627306e-03 1.365841e-02  11.89076\n",
       "883 scaffold9830  1313  1313 -      1.422172e-05 2.678310e-04  14.70484\n",
       "884 scaffold9841  9958  9958 +      4.233739e-10 2.665117e-08 -29.66430\n",
       "885 scaffold9841  9959  9959 -      2.005925e-03 1.613890e-02 -14.31901\n",
       "886 scaffold990   9424  9424 +      3.687587e-03 2.576591e-02 -11.17409"
      ]
     },
     "metadata": {},
     "output_type": "display_data"
    }
   ],
   "source": [
    "pop.DML.filt"
   ]
  },
  {
   "cell_type": "code",
   "execution_count": 94,
   "metadata": {
    "collapsed": true
   },
   "outputs": [],
   "source": [
    "write.csv(pop.DML.filt, file=\"pop.DML.filt_0.01_abs10\")"
   ]
  },
  {
   "cell_type": "code",
   "execution_count": null,
   "metadata": {
    "collapsed": true
   },
   "outputs": [],
   "source": []
  }
 ],
 "metadata": {
  "anaconda-cloud": {},
  "kernelspec": {
   "display_name": "R",
   "language": "R",
   "name": "ir"
  },
  "language_info": {
   "codemirror_mode": "r",
   "file_extension": ".r",
   "mimetype": "text/x-r-source",
   "name": "R",
   "pygments_lexer": "r",
   "version": "3.3.2"
  }
 },
 "nbformat": 4,
 "nbformat_minor": 1
}
