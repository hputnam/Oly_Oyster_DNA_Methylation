{
 "cells": [
  {
   "cell_type": "markdown",
   "metadata": {},
   "source": [
    "# Set Running Environment and Programs\n",
    "\n",
    "## SOFTWARE VERSION \n",
    "\n",
    " * bedtools 2.26.0\n",
    " * bismark 0.15.0  \n",
    " * blast 2.4.0+\n",
    " * bowtie2 2.2.8 \n",
    " * bsmap 2.90\n",
    " * fastqc 0.11.5  \n",
    " * R 3.2.5  \n",
    " * RStudio\n",
    " * pyrad 3.0.66 \n",
    " * samtools 0.1.19 \n",
    " * stacks 1.40 \n",
    " * tophat 2.1.1 \n",
    " * trimmomatic 0.36\n",
    " * multiqc 0.8\n",
    " * md5sum 0.9.5"
   ]
  },
  {
   "cell_type": "markdown",
   "metadata": {},
   "source": [
    "# Methylation Analysis"
   ]
  },
  {
   "cell_type": "markdown",
   "metadata": {},
   "source": [
    "* Prepare converted genome"
   ]
  },
  {
   "cell_type": "code",
   "execution_count": null,
   "metadata": {
    "collapsed": true
   },
   "outputs": [],
   "source": [
    "/Applications/Bismark-0.16.3/bismark_genome_preparation Genome"
   ]
  },
  {
   "cell_type": "markdown",
   "metadata": {},
   "source": [
    "* Unzip all cleaned concatenated read files for use in methylation call analysis"
   ]
  },
  {
   "cell_type": "code",
   "execution_count": 16,
   "metadata": {
    "collapsed": false,
    "scrolled": true
   },
   "outputs": [
    {
     "name": "stdout",
     "output_type": "stream",
     "text": [
      "^C\r\n"
     ]
    }
   ],
   "source": [
    "!gunzip Clean_Joined_Data/*fastq.gz"
   ]
  },
  {
   "cell_type": "markdown",
   "metadata": {},
   "source": [
    "* Run methylation analysis alignment to converted genome"
   ]
  },
  {
   "cell_type": "code",
   "execution_count": null,
   "metadata": {
    "collapsed": true
   },
   "outputs": [],
   "source": [
    "mkdir Bismark_Output"
   ]
  },
  {
   "cell_type": "code",
   "execution_count": null,
   "metadata": {
    "collapsed": true
   },
   "outputs": [],
   "source": [
    "/Applications/Bismark-0.16.3/bismark --genome Genome/ Clean_Joined_Data/zr1394_1_cleaned_all.fastq "
   ]
  },
  {
   "cell_type": "markdown",
   "metadata": {},
   "source": [
    "* Sort BAM files for methylation extraction in the Methylkit package in R"
   ]
  },
  {
   "cell_type": "code",
   "execution_count": 4,
   "metadata": {
    "collapsed": false
   },
   "outputs": [
    {
     "name": "stdout",
     "output_type": "stream",
     "text": [
      "/Users/hputnam/MyProjects/Oly_Oyster_DNA_Methylation/Data/Bismark_Output\n"
     ]
    }
   ],
   "source": [
    "cd /Users/hputnam/MyProjects/Oly_Oyster_DNA_Methylation/Data/Bismark_Output/"
   ]
  },
  {
   "cell_type": "code",
   "execution_count": null,
   "metadata": {
    "collapsed": false
   },
   "outputs": [],
   "source": []
  },
  {
   "cell_type": "code",
   "execution_count": null,
   "metadata": {
    "collapsed": true
   },
   "outputs": [],
   "source": [
    "!sort -k1,1 -k2,2n lineage_dml.bed > sorted_lineage_dml.bed"
   ]
  }
 ],
 "metadata": {
  "anaconda-cloud": {},
  "kernelspec": {
   "display_name": "Python [default]",
   "language": "python",
   "name": "python3"
  },
  "language_info": {
   "codemirror_mode": {
    "name": "ipython",
    "version": 3
   },
   "file_extension": ".py",
   "mimetype": "text/x-python",
   "name": "python",
   "nbconvert_exporter": "python",
   "pygments_lexer": "ipython3",
   "version": "3.5.2"
  }
 },
 "nbformat": 4,
 "nbformat_minor": 1
}
