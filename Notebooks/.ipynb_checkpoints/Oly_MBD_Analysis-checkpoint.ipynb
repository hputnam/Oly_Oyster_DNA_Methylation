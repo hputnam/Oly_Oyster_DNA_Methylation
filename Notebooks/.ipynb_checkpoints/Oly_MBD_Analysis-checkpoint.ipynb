{
 "cells": [
  {
   "cell_type": "markdown",
   "metadata": {},
   "source": [
    "# Analysis of Olympia Oyster DNA Methylation\n",
    "Olympia oyster (_Ostrea lurida_), Methyl Bbinding Domains (MBD)-enriched and bisulfite-treated DNA from two parent populations, both grown out in Clam Bay, WA (Manchester)"
   ]
  },
  {
   "cell_type": "markdown",
   "metadata": {},
   "source": [
    "## Set Directory Structure"
   ]
  },
  {
   "cell_type": "markdown",
   "metadata": {
    "collapsed": true
   },
   "source": [
    "```/Users/hollie/Documents/Putnam``` is the Main Folder\n",
    "\n",
    "```/Users/hollie/Documents/Putnam/Data/MBD``` contains the MBD enriched Bisulfute converted sequence data\n",
    "\n",
    "```/Users/hollie/Documents/Putnam/Data/Genome``` contains the Genome data "
   ]
  },
  {
   "cell_type": "markdown",
   "metadata": {},
   "source": [
    "## Compare checksum file to that generated from downloaded files"
   ]
  },
  {
   "cell_type": "markdown",
   "metadata": {},
   "source": [
    "run shasum on all MBD zipped files"
   ]
  },
  {
   "cell_type": "code",
   "execution_count": 1,
   "metadata": {
    "collapsed": false
   },
   "outputs": [
    {
     "name": "stdout",
     "output_type": "stream",
     "text": [
      "/bin/sh: /Users/hollie/Documents/Putnam/output/checksum.MBD.sha: No such file or directory\r\n"
     ]
    }
   ],
   "source": [
    "!shasum /Users/hollie/Documents/Putnam/Data/MBD/20160203_mbdseq/*.gz > /Users/hollie/Documents/Putnam/output/checksum.MBD.sha"
   ]
  },
  {
   "cell_type": "code",
   "execution_count": null,
   "metadata": {
    "collapsed": true
   },
   "outputs": [],
   "source": [
    "!shasum /Users/hollie/Documents/Putnam/Data/Genome/20160314/*.fill > /Users/hollie/Documents/Putnam/output/checksum.Genome_20160314.sha"
   ]
  },
  {
   "cell_type": "markdown",
   "metadata": {},
   "source": [
    "run shasum on all genome files"
   ]
  },
  {
   "cell_type": "code",
   "execution_count": null,
   "metadata": {
    "collapsed": true
   },
   "outputs": [],
   "source": [
    "!shasum /Users/hollie/Documents/Putnam/Data/Genome/20160512/*.gz > /Users/hollie/Documents/Putnam/output/checksum.Genome_20160512.sha"
   ]
  }
 ],
 "metadata": {
  "anaconda-cloud": {},
  "kernelspec": {
   "display_name": "Python [default]",
   "language": "python",
   "name": "python3"
  },
  "language_info": {
   "codemirror_mode": {
    "name": "ipython",
    "version": 3
   },
   "file_extension": ".py",
   "mimetype": "text/x-python",
   "name": "python",
   "nbconvert_exporter": "python",
   "pygments_lexer": "ipython3",
   "version": "3.5.2"
  }
 },
 "nbformat": 4,
 "nbformat_minor": 1
}
