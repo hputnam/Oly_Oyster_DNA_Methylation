{
 "cells": [
  {
   "cell_type": "code",
   "execution_count": 1,
   "metadata": {
    "collapsed": false
   },
   "outputs": [
    {
     "data": {
      "text/html": [
       "'/Users/hollie/Documents/Oly_Oyster_DNA_Methylation/Notebooks'"
      ],
      "text/latex": [
       "'/Users/hollie/Documents/Oly\\_Oyster\\_DNA\\_Methylation/Notebooks'"
      ],
      "text/markdown": [
       "'/Users/hollie/Documents/Oly_Oyster_DNA_Methylation/Notebooks'"
      ],
      "text/plain": [
       "[1] \"/Users/hollie/Documents/Oly_Oyster_DNA_Methylation/Notebooks\""
      ]
     },
     "metadata": {},
     "output_type": "display_data"
    }
   ],
   "source": [
    "getwd()"
   ]
  },
  {
   "cell_type": "code",
   "execution_count": 2,
   "metadata": {
    "collapsed": true
   },
   "outputs": [],
   "source": [
    "setwd(\"/Users/hollie/Documents/Oly_Oyster_DNA_Methylation/Data/MBD/BSmap_Output\")"
   ]
  },
  {
   "cell_type": "code",
   "execution_count": 3,
   "metadata": {
    "collapsed": false
   },
   "outputs": [
    {
     "data": {
      "text/html": [
       "'/Users/hollie/Documents/Oly_Oyster_DNA_Methylation/Data/MBD/BSmap_Output'"
      ],
      "text/latex": [
       "'/Users/hollie/Documents/Oly\\_Oyster\\_DNA\\_Methylation/Data/MBD/BSmap\\_Output'"
      ],
      "text/markdown": [
       "'/Users/hollie/Documents/Oly_Oyster_DNA_Methylation/Data/MBD/BSmap_Output'"
      ],
      "text/plain": [
       "[1] \"/Users/hollie/Documents/Oly_Oyster_DNA_Methylation/Data/MBD/BSmap_Output\""
      ]
     },
     "metadata": {},
     "output_type": "display_data"
    }
   ],
   "source": [
    "getwd()"
   ]
  },
  {
   "cell_type": "code",
   "execution_count": 25,
   "metadata": {
    "collapsed": false
   },
   "outputs": [],
   "source": [
    "zr1394_1 <- read.table(\"methratio_out_zr1394_1.txt\", header=T, sep=\"\\t\")"
   ]
  },
  {
   "cell_type": "code",
   "execution_count": 26,
   "metadata": {
    "collapsed": false
   },
   "outputs": [
    {
     "name": "stdout",
     "output_type": "stream",
     "text": [
      "'data.frame':\t1854711 obs. of  12 variables:\n",
      " $ chr         : Factor w/ 1024 levels \"scaffold1002\",..: 1 1 1 1 1 1 1 1 1 1 ...\n",
      " $ pos         : int  16 17 36 37 38 43 47 53 54 57 ...\n",
      " $ strand      : Factor w/ 2 levels \"-\",\"+\": 2 2 1 2 1 2 2 2 1 2 ...\n",
      " $ context     : Factor w/ 958 levels \"\",\"AACAA\",\"AACAC\",..: 762 51 237 109 491 931 160 923 832 172 ...\n",
      " $ ratio       : num  0 1 0 0 NA 0.5 0.5 0.667 0.6 0.5 ...\n",
      " $ eff_CT_count: num  1 1 1 1 0 2 2 3 5 2 ...\n",
      " $ C_count     : int  0 1 0 0 0 1 1 2 3 1 ...\n",
      " $ CT_count    : int  1 1 1 1 1 2 2 3 5 2 ...\n",
      " $ rev_G_count : int  0 0 0 1 0 2 3 5 1 5 ...\n",
      " $ rev_GA_count: int  0 0 0 1 1 2 3 5 1 5 ...\n",
      " $ CI_lower    : num  0 0.207 0 0 NA 0.095 0.095 0.208 0.231 0.095 ...\n",
      " $ CI_upper    : num  0.793 1 0.793 0.793 NA 0.905 0.905 0.939 0.882 0.905 ...\n"
     ]
    }
   ],
   "source": [
    "str(zr1394_1)"
   ]
  },
  {
   "cell_type": "code",
   "execution_count": 27,
   "metadata": {
    "collapsed": false
   },
   "outputs": [
    {
     "data": {
      "text/html": [
       "<table>\n",
       "<thead><tr><th scope=col>chr</th><th scope=col>pos</th><th scope=col>strand</th><th scope=col>context</th><th scope=col>ratio</th><th scope=col>eff_CT_count</th><th scope=col>C_count</th><th scope=col>CT_count</th><th scope=col>rev_G_count</th><th scope=col>rev_GA_count</th><th scope=col>CI_lower</th><th scope=col>CI_upper</th></tr></thead>\n",
       "<tbody>\n",
       "\t<tr><td>scaffold1002</td><td>16          </td><td>+           </td><td>TACCA       </td><td>0.0         </td><td>1           </td><td>0           </td><td>1           </td><td>0           </td><td>0           </td><td>0.000       </td><td>0.793       </td></tr>\n",
       "\t<tr><td>scaffold1002</td><td>17          </td><td>+           </td><td>ACCAG       </td><td>1.0         </td><td>1           </td><td>1           </td><td>1           </td><td>0           </td><td>0           </td><td>0.207       </td><td>1.000       </td></tr>\n",
       "\t<tr><td>scaffold1002</td><td>36          </td><td>-           </td><td>CAGCG       </td><td>0.0         </td><td>1           </td><td>0           </td><td>1           </td><td>0           </td><td>0           </td><td>0.000       </td><td>0.793       </td></tr>\n",
       "\t<tr><td>scaffold1002</td><td>37          </td><td>+           </td><td>AGCGT       </td><td>0.0         </td><td>1           </td><td>0           </td><td>1           </td><td>1           </td><td>1           </td><td>0.000       </td><td>0.793       </td></tr>\n",
       "\t<tr><td>scaffold1002</td><td>38          </td><td>-           </td><td>GCGTT       </td><td> NA         </td><td>0           </td><td>0           </td><td>1           </td><td>0           </td><td>1           </td><td>   NA       </td><td>   NA       </td></tr>\n",
       "\t<tr><td>scaffold1002</td><td>43          </td><td>+           </td><td>TTCTA       </td><td>0.5         </td><td>2           </td><td>1           </td><td>2           </td><td>2           </td><td>2           </td><td>0.095       </td><td>0.905       </td></tr>\n",
       "</tbody>\n",
       "</table>\n"
      ],
      "text/latex": [
       "\\begin{tabular}{r|llllllllllll}\n",
       " chr & pos & strand & context & ratio & eff\\_CT\\_count & C\\_count & CT\\_count & rev\\_G\\_count & rev\\_GA\\_count & CI\\_lower & CI\\_upper\\\\\n",
       "\\hline\n",
       "\t scaffold1002 & 16           & +            & TACCA        & 0.0          & 1            & 0            & 1            & 0            & 0            & 0.000        & 0.793       \\\\\n",
       "\t scaffold1002 & 17           & +            & ACCAG        & 1.0          & 1            & 1            & 1            & 0            & 0            & 0.207        & 1.000       \\\\\n",
       "\t scaffold1002 & 36           & -            & CAGCG        & 0.0          & 1            & 0            & 1            & 0            & 0            & 0.000        & 0.793       \\\\\n",
       "\t scaffold1002 & 37           & +            & AGCGT        & 0.0          & 1            & 0            & 1            & 1            & 1            & 0.000        & 0.793       \\\\\n",
       "\t scaffold1002 & 38           & -            & GCGTT        &  NA          & 0            & 0            & 1            & 0            & 1            &    NA        &    NA       \\\\\n",
       "\t scaffold1002 & 43           & +            & TTCTA        & 0.5          & 2            & 1            & 2            & 2            & 2            & 0.095        & 0.905       \\\\\n",
       "\\end{tabular}\n"
      ],
      "text/plain": [
       "  chr          pos strand context ratio eff_CT_count C_count CT_count\n",
       "1 scaffold1002 16  +      TACCA   0.0   1            0       1       \n",
       "2 scaffold1002 17  +      ACCAG   1.0   1            1       1       \n",
       "3 scaffold1002 36  -      CAGCG   0.0   1            0       1       \n",
       "4 scaffold1002 37  +      AGCGT   0.0   1            0       1       \n",
       "5 scaffold1002 38  -      GCGTT    NA   0            0       1       \n",
       "6 scaffold1002 43  +      TTCTA   0.5   2            1       2       \n",
       "  rev_G_count rev_GA_count CI_lower CI_upper\n",
       "1 0           0            0.000    0.793   \n",
       "2 0           0            0.207    1.000   \n",
       "3 0           0            0.000    0.793   \n",
       "4 1           1            0.000    0.793   \n",
       "5 0           1               NA       NA   \n",
       "6 2           2            0.095    0.905   "
      ]
     },
     "metadata": {},
     "output_type": "display_data"
    }
   ],
   "source": [
    "head(zr1394_1)"
   ]
  },
  {
   "cell_type": "code",
   "execution_count": null,
   "metadata": {
    "collapsed": false
   },
   "outputs": [],
   "source": []
  },
  {
   "cell_type": "code",
   "execution_count": 28,
   "metadata": {
    "collapsed": true
   },
   "outputs": [],
   "source": [
    "zr1394_1$start <- zr1394_1$pos"
   ]
  },
  {
   "cell_type": "code",
   "execution_count": 29,
   "metadata": {
    "collapsed": true
   },
   "outputs": [],
   "source": [
    "zr1394_1$end <- zr1394_1$pos+1"
   ]
  },
  {
   "cell_type": "code",
   "execution_count": 30,
   "metadata": {
    "collapsed": true
   },
   "outputs": [],
   "source": [
    "zr1394_1$CpG <- \"CpG\""
   ]
  },
  {
   "cell_type": "code",
   "execution_count": 31,
   "metadata": {
    "collapsed": true
   },
   "outputs": [],
   "source": [
    "zr1394_1$freqC <- zr1394_1$ratio"
   ]
  },
  {
   "cell_type": "code",
   "execution_count": null,
   "metadata": {
    "collapsed": false
   },
   "outputs": [],
   "source": []
  },
  {
   "cell_type": "code",
   "execution_count": 32,
   "metadata": {
    "collapsed": false
   },
   "outputs": [],
   "source": [
    "zr1394_1 <- cbind(as.character(zr1394_1$chr), zr1394_1$start, zr1394_1$end, zr1394_1$CpG, zr1394_1$freqC)"
   ]
  },
  {
   "cell_type": "code",
   "execution_count": 33,
   "metadata": {
    "collapsed": false
   },
   "outputs": [
    {
     "data": {
      "text/html": [
       "<table>\n",
       "<tbody>\n",
       "\t<tr><td>scaffold1002</td><td>16          </td><td>17          </td><td>CpG         </td><td>0           </td></tr>\n",
       "\t<tr><td>scaffold1002</td><td>17          </td><td>18          </td><td>CpG         </td><td>1           </td></tr>\n",
       "\t<tr><td>scaffold1002</td><td>36          </td><td>37          </td><td>CpG         </td><td>0           </td></tr>\n",
       "\t<tr><td>scaffold1002</td><td>37          </td><td>38          </td><td>CpG         </td><td>0           </td></tr>\n",
       "\t<tr><td>scaffold1002</td><td>38          </td><td>39          </td><td>CpG         </td><td>NA          </td></tr>\n",
       "\t<tr><td>scaffold1002</td><td>43          </td><td>44          </td><td>CpG         </td><td>0.5         </td></tr>\n",
       "</tbody>\n",
       "</table>\n"
      ],
      "text/latex": [
       "\\begin{tabular}{lllll}\n",
       "\t scaffold1002 & 16           & 17           & CpG          & 0           \\\\\n",
       "\t scaffold1002 & 17           & 18           & CpG          & 1           \\\\\n",
       "\t scaffold1002 & 36           & 37           & CpG          & 0           \\\\\n",
       "\t scaffold1002 & 37           & 38           & CpG          & 0           \\\\\n",
       "\t scaffold1002 & 38           & 39           & CpG          & NA          \\\\\n",
       "\t scaffold1002 & 43           & 44           & CpG          & 0.5         \\\\\n",
       "\\end{tabular}\n"
      ],
      "text/markdown": [
       "1. 'scaffold1002'\n",
       "2. 'scaffold1002'\n",
       "3. 'scaffold1002'\n",
       "4. 'scaffold1002'\n",
       "5. 'scaffold1002'\n",
       "6. 'scaffold1002'\n",
       "7. '16'\n",
       "8. '17'\n",
       "9. '36'\n",
       "10. '37'\n",
       "11. '38'\n",
       "12. '43'\n",
       "13. '17'\n",
       "14. '18'\n",
       "15. '37'\n",
       "16. '38'\n",
       "17. '39'\n",
       "18. '44'\n",
       "19. 'CpG'\n",
       "20. 'CpG'\n",
       "21. 'CpG'\n",
       "22. 'CpG'\n",
       "23. 'CpG'\n",
       "24. 'CpG'\n",
       "25. '0'\n",
       "26. '1'\n",
       "27. '0'\n",
       "28. '0'\n",
       "29. 'NA'\n",
       "30. '0.5'\n",
       "\n",
       "\n"
      ],
      "text/plain": [
       "     [,1]         [,2] [,3] [,4] [,5]\n",
       "[1,] scaffold1002 16   17   CpG  0   \n",
       "[2,] scaffold1002 17   18   CpG  1   \n",
       "[3,] scaffold1002 36   37   CpG  0   \n",
       "[4,] scaffold1002 37   38   CpG  0   \n",
       "[5,] scaffold1002 38   39   CpG  NA  \n",
       "[6,] scaffold1002 43   44   CpG  0.5 "
      ]
     },
     "metadata": {},
     "output_type": "display_data"
    }
   ],
   "source": [
    "head(zr1394_1)"
   ]
  },
  {
   "cell_type": "code",
   "execution_count": 34,
   "metadata": {
    "collapsed": true
   },
   "outputs": [],
   "source": [
    "write.table(zr1394_1, \"methratio_zr1394_1.igv\", sep=\"\\t\", quote=F, col.names=F, row.names=F)"
   ]
  },
  {
   "cell_type": "code",
   "execution_count": 14,
   "metadata": {
    "collapsed": false
   },
   "outputs": [],
   "source": [
    "file.names<-list.files(path=\"/Users/hollie/Documents/Oly_Oyster_DNA_Methylation/Data/MBD/BSmap_Output\")"
   ]
  },
  {
   "cell_type": "code",
   "execution_count": 15,
   "metadata": {
    "collapsed": false,
    "scrolled": true
   },
   "outputs": [
    {
     "data": {
      "text/html": [
       "<ol class=list-inline>\n",
       "\t<li>'10K_bsmap_out_zr1394_1.sam'</li>\n",
       "\t<li>'10K_bsmap_out_zr1394_10.sam'</li>\n",
       "\t<li>'10K_bsmap_out_zr1394_11.sam'</li>\n",
       "\t<li>'10K_bsmap_out_zr1394_12.sam'</li>\n",
       "\t<li>'10K_bsmap_out_zr1394_13.sam'</li>\n",
       "\t<li>'10K_bsmap_out_zr1394_14.sam'</li>\n",
       "\t<li>'10K_bsmap_out_zr1394_15.sam'</li>\n",
       "\t<li>'10K_bsmap_out_zr1394_16.sam'</li>\n",
       "\t<li>'10K_bsmap_out_zr1394_17.sam'</li>\n",
       "\t<li>'10K_bsmap_out_zr1394_18.sam'</li>\n",
       "\t<li>'10K_bsmap_out_zr1394_2.sam'</li>\n",
       "\t<li>'10K_bsmap_out_zr1394_3.sam'</li>\n",
       "\t<li>'10K_bsmap_out_zr1394_4.sam'</li>\n",
       "\t<li>'10K_bsmap_out_zr1394_5.sam'</li>\n",
       "\t<li>'10K_bsmap_out_zr1394_6.sam'</li>\n",
       "\t<li>'10K_bsmap_out_zr1394_7.sam'</li>\n",
       "\t<li>'10K_bsmap_out_zr1394_8.sam'</li>\n",
       "\t<li>'10K_bsmap_out_zr1394_9.sam'</li>\n",
       "\t<li>'DMLs_rep_Pop'</li>\n",
       "\t<li>'HC_CpG.igv'</li>\n",
       "\t<li>'methratio_out_zr1394_1.CG.txt'</li>\n",
       "\t<li>'methratio_out_zr1394_1.txt'</li>\n",
       "\t<li>'methratio_out_zr1394_10.CG.txt'</li>\n",
       "\t<li>'methratio_out_zr1394_10.txt'</li>\n",
       "\t<li>'methratio_out_zr1394_11.CG.txt'</li>\n",
       "\t<li>'methratio_out_zr1394_11.txt'</li>\n",
       "\t<li>'methratio_out_zr1394_12.CG.txt'</li>\n",
       "\t<li>'methratio_out_zr1394_12.txt'</li>\n",
       "\t<li>'methratio_out_zr1394_13.CG.txt'</li>\n",
       "\t<li>'methratio_out_zr1394_13.txt'</li>\n",
       "\t<li>'methratio_out_zr1394_14.CG.txt'</li>\n",
       "\t<li>'methratio_out_zr1394_14.txt'</li>\n",
       "\t<li>'methratio_out_zr1394_15.CG.txt'</li>\n",
       "\t<li>'methratio_out_zr1394_15.txt'</li>\n",
       "\t<li>'methratio_out_zr1394_16.CG.txt'</li>\n",
       "\t<li>'methratio_out_zr1394_16.txt'</li>\n",
       "\t<li>'methratio_out_zr1394_17.CG.txt'</li>\n",
       "\t<li>'methratio_out_zr1394_17.txt'</li>\n",
       "\t<li>'methratio_out_zr1394_18.CG.txt'</li>\n",
       "\t<li>'methratio_out_zr1394_18.txt'</li>\n",
       "\t<li>'methratio_out_zr1394_2.CG.txt'</li>\n",
       "\t<li>'methratio_out_zr1394_2.txt'</li>\n",
       "\t<li>'methratio_out_zr1394_3.CG.txt'</li>\n",
       "\t<li>'methratio_out_zr1394_3.txt'</li>\n",
       "\t<li>'methratio_out_zr1394_4.CG.txt'</li>\n",
       "\t<li>'methratio_out_zr1394_4.txt'</li>\n",
       "\t<li>'methratio_out_zr1394_5.CG.txt'</li>\n",
       "\t<li>'methratio_out_zr1394_5.txt'</li>\n",
       "\t<li>'methratio_out_zr1394_6.CG.txt'</li>\n",
       "\t<li>'methratio_out_zr1394_6.txt'</li>\n",
       "\t<li>'methratio_out_zr1394_7.CG.txt'</li>\n",
       "\t<li>'methratio_out_zr1394_7.txt'</li>\n",
       "\t<li>'methratio_out_zr1394_8.CG.txt'</li>\n",
       "\t<li>'methratio_out_zr1394_8.txt'</li>\n",
       "\t<li>'methratio_out_zr1394_9.CG.txt'</li>\n",
       "\t<li>'methratio_out_zr1394_9.txt'</li>\n",
       "\t<li>'mkfmt_zr1394_1.txt'</li>\n",
       "\t<li>'mkfmt_zr1394_1.txt .igv'</li>\n",
       "\t<li>'mkfmt_zr1394_10.txt'</li>\n",
       "\t<li>'mkfmt_zr1394_10.txt .igv'</li>\n",
       "\t<li>'mkfmt_zr1394_11.txt'</li>\n",
       "\t<li>'mkfmt_zr1394_11.txt .igv'</li>\n",
       "\t<li>'mkfmt_zr1394_12.txt'</li>\n",
       "\t<li>'mkfmt_zr1394_12.txt .igv'</li>\n",
       "\t<li>'mkfmt_zr1394_13.txt'</li>\n",
       "\t<li>'mkfmt_zr1394_13.txt .igv'</li>\n",
       "\t<li>'mkfmt_zr1394_14.txt'</li>\n",
       "\t<li>'mkfmt_zr1394_14.txt .igv'</li>\n",
       "\t<li>'mkfmt_zr1394_15.txt'</li>\n",
       "\t<li>'mkfmt_zr1394_15.txt .igv'</li>\n",
       "\t<li>'mkfmt_zr1394_16.txt'</li>\n",
       "\t<li>'mkfmt_zr1394_16.txt .igv'</li>\n",
       "\t<li>'mkfmt_zr1394_17.txt'</li>\n",
       "\t<li>'mkfmt_zr1394_17.txt .igv'</li>\n",
       "\t<li>'mkfmt_zr1394_18.txt'</li>\n",
       "\t<li>'mkfmt_zr1394_18.txt .igv'</li>\n",
       "\t<li>'mkfmt_zr1394_2.txt'</li>\n",
       "\t<li>'mkfmt_zr1394_2.txt .igv'</li>\n",
       "\t<li>'mkfmt_zr1394_3.txt'</li>\n",
       "\t<li>'mkfmt_zr1394_3.txt .igv'</li>\n",
       "\t<li>'mkfmt_zr1394_4.txt'</li>\n",
       "\t<li>'mkfmt_zr1394_4.txt .igv'</li>\n",
       "\t<li>'mkfmt_zr1394_5.txt'</li>\n",
       "\t<li>'mkfmt_zr1394_5.txt .igv'</li>\n",
       "\t<li>'mkfmt_zr1394_6.txt'</li>\n",
       "\t<li>'mkfmt_zr1394_6.txt .igv'</li>\n",
       "\t<li>'mkfmt_zr1394_7.txt'</li>\n",
       "\t<li>'mkfmt_zr1394_7.txt .igv'</li>\n",
       "\t<li>'mkfmt_zr1394_8.txt'</li>\n",
       "\t<li>'mkfmt_zr1394_8.txt .igv'</li>\n",
       "\t<li>'mkfmt_zr1394_9.txt'</li>\n",
       "\t<li>'mkfmt_zr1394_9.txt .igv'</li>\n",
       "\t<li>'mr3x.zr1394_1.txt'</li>\n",
       "\t<li>'mr3x.zr1394_10.txt'</li>\n",
       "\t<li>'mr3x.zr1394_11.txt'</li>\n",
       "\t<li>'mr3x.zr1394_12.txt'</li>\n",
       "\t<li>'mr3x.zr1394_13.txt'</li>\n",
       "\t<li>'mr3x.zr1394_14.txt'</li>\n",
       "\t<li>'mr3x.zr1394_15.txt'</li>\n",
       "\t<li>'mr3x.zr1394_16.txt'</li>\n",
       "\t<li>'mr3x.zr1394_17.txt'</li>\n",
       "\t<li>'mr3x.zr1394_18.txt'</li>\n",
       "\t<li>'mr3x.zr1394_2.txt'</li>\n",
       "\t<li>'mr3x.zr1394_3.txt'</li>\n",
       "\t<li>'mr3x.zr1394_4.txt'</li>\n",
       "\t<li>'mr3x.zr1394_5.txt'</li>\n",
       "\t<li>'mr3x.zr1394_6.txt'</li>\n",
       "\t<li>'mr3x.zr1394_7.txt'</li>\n",
       "\t<li>'mr3x.zr1394_8.txt'</li>\n",
       "\t<li>'mr3x.zr1394_9.txt'</li>\n",
       "\t<li>'Pop.DML'</li>\n",
       "\t<li>'pop.DML.filt_0.01_&lt;-10'</li>\n",
       "\t<li>'pop.DML.filt_0.01_&gt;10'</li>\n",
       "\t<li>'pop.DML.filt_0.01_abs10'</li>\n",
       "\t<li>'SS_CpG.igv'</li>\n",
       "\t<li>'zr1394_1.igv'</li>\n",
       "</ol>\n"
      ],
      "text/latex": [
       "\\begin{enumerate*}\n",
       "\\item '10K\\_bsmap\\_out\\_zr1394\\_1.sam'\n",
       "\\item '10K\\_bsmap\\_out\\_zr1394\\_10.sam'\n",
       "\\item '10K\\_bsmap\\_out\\_zr1394\\_11.sam'\n",
       "\\item '10K\\_bsmap\\_out\\_zr1394\\_12.sam'\n",
       "\\item '10K\\_bsmap\\_out\\_zr1394\\_13.sam'\n",
       "\\item '10K\\_bsmap\\_out\\_zr1394\\_14.sam'\n",
       "\\item '10K\\_bsmap\\_out\\_zr1394\\_15.sam'\n",
       "\\item '10K\\_bsmap\\_out\\_zr1394\\_16.sam'\n",
       "\\item '10K\\_bsmap\\_out\\_zr1394\\_17.sam'\n",
       "\\item '10K\\_bsmap\\_out\\_zr1394\\_18.sam'\n",
       "\\item '10K\\_bsmap\\_out\\_zr1394\\_2.sam'\n",
       "\\item '10K\\_bsmap\\_out\\_zr1394\\_3.sam'\n",
       "\\item '10K\\_bsmap\\_out\\_zr1394\\_4.sam'\n",
       "\\item '10K\\_bsmap\\_out\\_zr1394\\_5.sam'\n",
       "\\item '10K\\_bsmap\\_out\\_zr1394\\_6.sam'\n",
       "\\item '10K\\_bsmap\\_out\\_zr1394\\_7.sam'\n",
       "\\item '10K\\_bsmap\\_out\\_zr1394\\_8.sam'\n",
       "\\item '10K\\_bsmap\\_out\\_zr1394\\_9.sam'\n",
       "\\item 'DMLs\\_rep\\_Pop'\n",
       "\\item 'HC\\_CpG.igv'\n",
       "\\item 'methratio\\_out\\_zr1394\\_1.CG.txt'\n",
       "\\item 'methratio\\_out\\_zr1394\\_1.txt'\n",
       "\\item 'methratio\\_out\\_zr1394\\_10.CG.txt'\n",
       "\\item 'methratio\\_out\\_zr1394\\_10.txt'\n",
       "\\item 'methratio\\_out\\_zr1394\\_11.CG.txt'\n",
       "\\item 'methratio\\_out\\_zr1394\\_11.txt'\n",
       "\\item 'methratio\\_out\\_zr1394\\_12.CG.txt'\n",
       "\\item 'methratio\\_out\\_zr1394\\_12.txt'\n",
       "\\item 'methratio\\_out\\_zr1394\\_13.CG.txt'\n",
       "\\item 'methratio\\_out\\_zr1394\\_13.txt'\n",
       "\\item 'methratio\\_out\\_zr1394\\_14.CG.txt'\n",
       "\\item 'methratio\\_out\\_zr1394\\_14.txt'\n",
       "\\item 'methratio\\_out\\_zr1394\\_15.CG.txt'\n",
       "\\item 'methratio\\_out\\_zr1394\\_15.txt'\n",
       "\\item 'methratio\\_out\\_zr1394\\_16.CG.txt'\n",
       "\\item 'methratio\\_out\\_zr1394\\_16.txt'\n",
       "\\item 'methratio\\_out\\_zr1394\\_17.CG.txt'\n",
       "\\item 'methratio\\_out\\_zr1394\\_17.txt'\n",
       "\\item 'methratio\\_out\\_zr1394\\_18.CG.txt'\n",
       "\\item 'methratio\\_out\\_zr1394\\_18.txt'\n",
       "\\item 'methratio\\_out\\_zr1394\\_2.CG.txt'\n",
       "\\item 'methratio\\_out\\_zr1394\\_2.txt'\n",
       "\\item 'methratio\\_out\\_zr1394\\_3.CG.txt'\n",
       "\\item 'methratio\\_out\\_zr1394\\_3.txt'\n",
       "\\item 'methratio\\_out\\_zr1394\\_4.CG.txt'\n",
       "\\item 'methratio\\_out\\_zr1394\\_4.txt'\n",
       "\\item 'methratio\\_out\\_zr1394\\_5.CG.txt'\n",
       "\\item 'methratio\\_out\\_zr1394\\_5.txt'\n",
       "\\item 'methratio\\_out\\_zr1394\\_6.CG.txt'\n",
       "\\item 'methratio\\_out\\_zr1394\\_6.txt'\n",
       "\\item 'methratio\\_out\\_zr1394\\_7.CG.txt'\n",
       "\\item 'methratio\\_out\\_zr1394\\_7.txt'\n",
       "\\item 'methratio\\_out\\_zr1394\\_8.CG.txt'\n",
       "\\item 'methratio\\_out\\_zr1394\\_8.txt'\n",
       "\\item 'methratio\\_out\\_zr1394\\_9.CG.txt'\n",
       "\\item 'methratio\\_out\\_zr1394\\_9.txt'\n",
       "\\item 'mkfmt\\_zr1394\\_1.txt'\n",
       "\\item 'mkfmt\\_zr1394\\_1.txt .igv'\n",
       "\\item 'mkfmt\\_zr1394\\_10.txt'\n",
       "\\item 'mkfmt\\_zr1394\\_10.txt .igv'\n",
       "\\item 'mkfmt\\_zr1394\\_11.txt'\n",
       "\\item 'mkfmt\\_zr1394\\_11.txt .igv'\n",
       "\\item 'mkfmt\\_zr1394\\_12.txt'\n",
       "\\item 'mkfmt\\_zr1394\\_12.txt .igv'\n",
       "\\item 'mkfmt\\_zr1394\\_13.txt'\n",
       "\\item 'mkfmt\\_zr1394\\_13.txt .igv'\n",
       "\\item 'mkfmt\\_zr1394\\_14.txt'\n",
       "\\item 'mkfmt\\_zr1394\\_14.txt .igv'\n",
       "\\item 'mkfmt\\_zr1394\\_15.txt'\n",
       "\\item 'mkfmt\\_zr1394\\_15.txt .igv'\n",
       "\\item 'mkfmt\\_zr1394\\_16.txt'\n",
       "\\item 'mkfmt\\_zr1394\\_16.txt .igv'\n",
       "\\item 'mkfmt\\_zr1394\\_17.txt'\n",
       "\\item 'mkfmt\\_zr1394\\_17.txt .igv'\n",
       "\\item 'mkfmt\\_zr1394\\_18.txt'\n",
       "\\item 'mkfmt\\_zr1394\\_18.txt .igv'\n",
       "\\item 'mkfmt\\_zr1394\\_2.txt'\n",
       "\\item 'mkfmt\\_zr1394\\_2.txt .igv'\n",
       "\\item 'mkfmt\\_zr1394\\_3.txt'\n",
       "\\item 'mkfmt\\_zr1394\\_3.txt .igv'\n",
       "\\item 'mkfmt\\_zr1394\\_4.txt'\n",
       "\\item 'mkfmt\\_zr1394\\_4.txt .igv'\n",
       "\\item 'mkfmt\\_zr1394\\_5.txt'\n",
       "\\item 'mkfmt\\_zr1394\\_5.txt .igv'\n",
       "\\item 'mkfmt\\_zr1394\\_6.txt'\n",
       "\\item 'mkfmt\\_zr1394\\_6.txt .igv'\n",
       "\\item 'mkfmt\\_zr1394\\_7.txt'\n",
       "\\item 'mkfmt\\_zr1394\\_7.txt .igv'\n",
       "\\item 'mkfmt\\_zr1394\\_8.txt'\n",
       "\\item 'mkfmt\\_zr1394\\_8.txt .igv'\n",
       "\\item 'mkfmt\\_zr1394\\_9.txt'\n",
       "\\item 'mkfmt\\_zr1394\\_9.txt .igv'\n",
       "\\item 'mr3x.zr1394\\_1.txt'\n",
       "\\item 'mr3x.zr1394\\_10.txt'\n",
       "\\item 'mr3x.zr1394\\_11.txt'\n",
       "\\item 'mr3x.zr1394\\_12.txt'\n",
       "\\item 'mr3x.zr1394\\_13.txt'\n",
       "\\item 'mr3x.zr1394\\_14.txt'\n",
       "\\item 'mr3x.zr1394\\_15.txt'\n",
       "\\item 'mr3x.zr1394\\_16.txt'\n",
       "\\item 'mr3x.zr1394\\_17.txt'\n",
       "\\item 'mr3x.zr1394\\_18.txt'\n",
       "\\item 'mr3x.zr1394\\_2.txt'\n",
       "\\item 'mr3x.zr1394\\_3.txt'\n",
       "\\item 'mr3x.zr1394\\_4.txt'\n",
       "\\item 'mr3x.zr1394\\_5.txt'\n",
       "\\item 'mr3x.zr1394\\_6.txt'\n",
       "\\item 'mr3x.zr1394\\_7.txt'\n",
       "\\item 'mr3x.zr1394\\_8.txt'\n",
       "\\item 'mr3x.zr1394\\_9.txt'\n",
       "\\item 'Pop.DML'\n",
       "\\item 'pop.DML.filt\\_0.01\\_<-10'\n",
       "\\item 'pop.DML.filt\\_0.01\\_>10'\n",
       "\\item 'pop.DML.filt\\_0.01\\_abs10'\n",
       "\\item 'SS\\_CpG.igv'\n",
       "\\item 'zr1394\\_1.igv'\n",
       "\\end{enumerate*}\n"
      ],
      "text/markdown": [
       "1. '10K_bsmap_out_zr1394_1.sam'\n",
       "2. '10K_bsmap_out_zr1394_10.sam'\n",
       "3. '10K_bsmap_out_zr1394_11.sam'\n",
       "4. '10K_bsmap_out_zr1394_12.sam'\n",
       "5. '10K_bsmap_out_zr1394_13.sam'\n",
       "6. '10K_bsmap_out_zr1394_14.sam'\n",
       "7. '10K_bsmap_out_zr1394_15.sam'\n",
       "8. '10K_bsmap_out_zr1394_16.sam'\n",
       "9. '10K_bsmap_out_zr1394_17.sam'\n",
       "10. '10K_bsmap_out_zr1394_18.sam'\n",
       "11. '10K_bsmap_out_zr1394_2.sam'\n",
       "12. '10K_bsmap_out_zr1394_3.sam'\n",
       "13. '10K_bsmap_out_zr1394_4.sam'\n",
       "14. '10K_bsmap_out_zr1394_5.sam'\n",
       "15. '10K_bsmap_out_zr1394_6.sam'\n",
       "16. '10K_bsmap_out_zr1394_7.sam'\n",
       "17. '10K_bsmap_out_zr1394_8.sam'\n",
       "18. '10K_bsmap_out_zr1394_9.sam'\n",
       "19. 'DMLs_rep_Pop'\n",
       "20. 'HC_CpG.igv'\n",
       "21. 'methratio_out_zr1394_1.CG.txt'\n",
       "22. 'methratio_out_zr1394_1.txt'\n",
       "23. 'methratio_out_zr1394_10.CG.txt'\n",
       "24. 'methratio_out_zr1394_10.txt'\n",
       "25. 'methratio_out_zr1394_11.CG.txt'\n",
       "26. 'methratio_out_zr1394_11.txt'\n",
       "27. 'methratio_out_zr1394_12.CG.txt'\n",
       "28. 'methratio_out_zr1394_12.txt'\n",
       "29. 'methratio_out_zr1394_13.CG.txt'\n",
       "30. 'methratio_out_zr1394_13.txt'\n",
       "31. 'methratio_out_zr1394_14.CG.txt'\n",
       "32. 'methratio_out_zr1394_14.txt'\n",
       "33. 'methratio_out_zr1394_15.CG.txt'\n",
       "34. 'methratio_out_zr1394_15.txt'\n",
       "35. 'methratio_out_zr1394_16.CG.txt'\n",
       "36. 'methratio_out_zr1394_16.txt'\n",
       "37. 'methratio_out_zr1394_17.CG.txt'\n",
       "38. 'methratio_out_zr1394_17.txt'\n",
       "39. 'methratio_out_zr1394_18.CG.txt'\n",
       "40. 'methratio_out_zr1394_18.txt'\n",
       "41. 'methratio_out_zr1394_2.CG.txt'\n",
       "42. 'methratio_out_zr1394_2.txt'\n",
       "43. 'methratio_out_zr1394_3.CG.txt'\n",
       "44. 'methratio_out_zr1394_3.txt'\n",
       "45. 'methratio_out_zr1394_4.CG.txt'\n",
       "46. 'methratio_out_zr1394_4.txt'\n",
       "47. 'methratio_out_zr1394_5.CG.txt'\n",
       "48. 'methratio_out_zr1394_5.txt'\n",
       "49. 'methratio_out_zr1394_6.CG.txt'\n",
       "50. 'methratio_out_zr1394_6.txt'\n",
       "51. 'methratio_out_zr1394_7.CG.txt'\n",
       "52. 'methratio_out_zr1394_7.txt'\n",
       "53. 'methratio_out_zr1394_8.CG.txt'\n",
       "54. 'methratio_out_zr1394_8.txt'\n",
       "55. 'methratio_out_zr1394_9.CG.txt'\n",
       "56. 'methratio_out_zr1394_9.txt'\n",
       "57. 'mkfmt_zr1394_1.txt'\n",
       "58. 'mkfmt_zr1394_1.txt .igv'\n",
       "59. 'mkfmt_zr1394_10.txt'\n",
       "60. 'mkfmt_zr1394_10.txt .igv'\n",
       "61. 'mkfmt_zr1394_11.txt'\n",
       "62. 'mkfmt_zr1394_11.txt .igv'\n",
       "63. 'mkfmt_zr1394_12.txt'\n",
       "64. 'mkfmt_zr1394_12.txt .igv'\n",
       "65. 'mkfmt_zr1394_13.txt'\n",
       "66. 'mkfmt_zr1394_13.txt .igv'\n",
       "67. 'mkfmt_zr1394_14.txt'\n",
       "68. 'mkfmt_zr1394_14.txt .igv'\n",
       "69. 'mkfmt_zr1394_15.txt'\n",
       "70. 'mkfmt_zr1394_15.txt .igv'\n",
       "71. 'mkfmt_zr1394_16.txt'\n",
       "72. 'mkfmt_zr1394_16.txt .igv'\n",
       "73. 'mkfmt_zr1394_17.txt'\n",
       "74. 'mkfmt_zr1394_17.txt .igv'\n",
       "75. 'mkfmt_zr1394_18.txt'\n",
       "76. 'mkfmt_zr1394_18.txt .igv'\n",
       "77. 'mkfmt_zr1394_2.txt'\n",
       "78. 'mkfmt_zr1394_2.txt .igv'\n",
       "79. 'mkfmt_zr1394_3.txt'\n",
       "80. 'mkfmt_zr1394_3.txt .igv'\n",
       "81. 'mkfmt_zr1394_4.txt'\n",
       "82. 'mkfmt_zr1394_4.txt .igv'\n",
       "83. 'mkfmt_zr1394_5.txt'\n",
       "84. 'mkfmt_zr1394_5.txt .igv'\n",
       "85. 'mkfmt_zr1394_6.txt'\n",
       "86. 'mkfmt_zr1394_6.txt .igv'\n",
       "87. 'mkfmt_zr1394_7.txt'\n",
       "88. 'mkfmt_zr1394_7.txt .igv'\n",
       "89. 'mkfmt_zr1394_8.txt'\n",
       "90. 'mkfmt_zr1394_8.txt .igv'\n",
       "91. 'mkfmt_zr1394_9.txt'\n",
       "92. 'mkfmt_zr1394_9.txt .igv'\n",
       "93. 'mr3x.zr1394_1.txt'\n",
       "94. 'mr3x.zr1394_10.txt'\n",
       "95. 'mr3x.zr1394_11.txt'\n",
       "96. 'mr3x.zr1394_12.txt'\n",
       "97. 'mr3x.zr1394_13.txt'\n",
       "98. 'mr3x.zr1394_14.txt'\n",
       "99. 'mr3x.zr1394_15.txt'\n",
       "100. 'mr3x.zr1394_16.txt'\n",
       "101. 'mr3x.zr1394_17.txt'\n",
       "102. 'mr3x.zr1394_18.txt'\n",
       "103. 'mr3x.zr1394_2.txt'\n",
       "104. 'mr3x.zr1394_3.txt'\n",
       "105. 'mr3x.zr1394_4.txt'\n",
       "106. 'mr3x.zr1394_5.txt'\n",
       "107. 'mr3x.zr1394_6.txt'\n",
       "108. 'mr3x.zr1394_7.txt'\n",
       "109. 'mr3x.zr1394_8.txt'\n",
       "110. 'mr3x.zr1394_9.txt'\n",
       "111. 'Pop.DML'\n",
       "112. 'pop.DML.filt_0.01_&lt;-10'\n",
       "113. 'pop.DML.filt_0.01_&gt;10'\n",
       "114. 'pop.DML.filt_0.01_abs10'\n",
       "115. 'SS_CpG.igv'\n",
       "116. 'zr1394_1.igv'\n",
       "\n",
       "\n"
      ],
      "text/plain": [
       "  [1] \"10K_bsmap_out_zr1394_1.sam\"     \"10K_bsmap_out_zr1394_10.sam\"   \n",
       "  [3] \"10K_bsmap_out_zr1394_11.sam\"    \"10K_bsmap_out_zr1394_12.sam\"   \n",
       "  [5] \"10K_bsmap_out_zr1394_13.sam\"    \"10K_bsmap_out_zr1394_14.sam\"   \n",
       "  [7] \"10K_bsmap_out_zr1394_15.sam\"    \"10K_bsmap_out_zr1394_16.sam\"   \n",
       "  [9] \"10K_bsmap_out_zr1394_17.sam\"    \"10K_bsmap_out_zr1394_18.sam\"   \n",
       " [11] \"10K_bsmap_out_zr1394_2.sam\"     \"10K_bsmap_out_zr1394_3.sam\"    \n",
       " [13] \"10K_bsmap_out_zr1394_4.sam\"     \"10K_bsmap_out_zr1394_5.sam\"    \n",
       " [15] \"10K_bsmap_out_zr1394_6.sam\"     \"10K_bsmap_out_zr1394_7.sam\"    \n",
       " [17] \"10K_bsmap_out_zr1394_8.sam\"     \"10K_bsmap_out_zr1394_9.sam\"    \n",
       " [19] \"DMLs_rep_Pop\"                   \"HC_CpG.igv\"                    \n",
       " [21] \"methratio_out_zr1394_1.CG.txt\"  \"methratio_out_zr1394_1.txt\"    \n",
       " [23] \"methratio_out_zr1394_10.CG.txt\" \"methratio_out_zr1394_10.txt\"   \n",
       " [25] \"methratio_out_zr1394_11.CG.txt\" \"methratio_out_zr1394_11.txt\"   \n",
       " [27] \"methratio_out_zr1394_12.CG.txt\" \"methratio_out_zr1394_12.txt\"   \n",
       " [29] \"methratio_out_zr1394_13.CG.txt\" \"methratio_out_zr1394_13.txt\"   \n",
       " [31] \"methratio_out_zr1394_14.CG.txt\" \"methratio_out_zr1394_14.txt\"   \n",
       " [33] \"methratio_out_zr1394_15.CG.txt\" \"methratio_out_zr1394_15.txt\"   \n",
       " [35] \"methratio_out_zr1394_16.CG.txt\" \"methratio_out_zr1394_16.txt\"   \n",
       " [37] \"methratio_out_zr1394_17.CG.txt\" \"methratio_out_zr1394_17.txt\"   \n",
       " [39] \"methratio_out_zr1394_18.CG.txt\" \"methratio_out_zr1394_18.txt\"   \n",
       " [41] \"methratio_out_zr1394_2.CG.txt\"  \"methratio_out_zr1394_2.txt\"    \n",
       " [43] \"methratio_out_zr1394_3.CG.txt\"  \"methratio_out_zr1394_3.txt\"    \n",
       " [45] \"methratio_out_zr1394_4.CG.txt\"  \"methratio_out_zr1394_4.txt\"    \n",
       " [47] \"methratio_out_zr1394_5.CG.txt\"  \"methratio_out_zr1394_5.txt\"    \n",
       " [49] \"methratio_out_zr1394_6.CG.txt\"  \"methratio_out_zr1394_6.txt\"    \n",
       " [51] \"methratio_out_zr1394_7.CG.txt\"  \"methratio_out_zr1394_7.txt\"    \n",
       " [53] \"methratio_out_zr1394_8.CG.txt\"  \"methratio_out_zr1394_8.txt\"    \n",
       " [55] \"methratio_out_zr1394_9.CG.txt\"  \"methratio_out_zr1394_9.txt\"    \n",
       " [57] \"mkfmt_zr1394_1.txt\"             \"mkfmt_zr1394_1.txt .igv\"       \n",
       " [59] \"mkfmt_zr1394_10.txt\"            \"mkfmt_zr1394_10.txt .igv\"      \n",
       " [61] \"mkfmt_zr1394_11.txt\"            \"mkfmt_zr1394_11.txt .igv\"      \n",
       " [63] \"mkfmt_zr1394_12.txt\"            \"mkfmt_zr1394_12.txt .igv\"      \n",
       " [65] \"mkfmt_zr1394_13.txt\"            \"mkfmt_zr1394_13.txt .igv\"      \n",
       " [67] \"mkfmt_zr1394_14.txt\"            \"mkfmt_zr1394_14.txt .igv\"      \n",
       " [69] \"mkfmt_zr1394_15.txt\"            \"mkfmt_zr1394_15.txt .igv\"      \n",
       " [71] \"mkfmt_zr1394_16.txt\"            \"mkfmt_zr1394_16.txt .igv\"      \n",
       " [73] \"mkfmt_zr1394_17.txt\"            \"mkfmt_zr1394_17.txt .igv\"      \n",
       " [75] \"mkfmt_zr1394_18.txt\"            \"mkfmt_zr1394_18.txt .igv\"      \n",
       " [77] \"mkfmt_zr1394_2.txt\"             \"mkfmt_zr1394_2.txt .igv\"       \n",
       " [79] \"mkfmt_zr1394_3.txt\"             \"mkfmt_zr1394_3.txt .igv\"       \n",
       " [81] \"mkfmt_zr1394_4.txt\"             \"mkfmt_zr1394_4.txt .igv\"       \n",
       " [83] \"mkfmt_zr1394_5.txt\"             \"mkfmt_zr1394_5.txt .igv\"       \n",
       " [85] \"mkfmt_zr1394_6.txt\"             \"mkfmt_zr1394_6.txt .igv\"       \n",
       " [87] \"mkfmt_zr1394_7.txt\"             \"mkfmt_zr1394_7.txt .igv\"       \n",
       " [89] \"mkfmt_zr1394_8.txt\"             \"mkfmt_zr1394_8.txt .igv\"       \n",
       " [91] \"mkfmt_zr1394_9.txt\"             \"mkfmt_zr1394_9.txt .igv\"       \n",
       " [93] \"mr3x.zr1394_1.txt\"              \"mr3x.zr1394_10.txt\"            \n",
       " [95] \"mr3x.zr1394_11.txt\"             \"mr3x.zr1394_12.txt\"            \n",
       " [97] \"mr3x.zr1394_13.txt\"             \"mr3x.zr1394_14.txt\"            \n",
       " [99] \"mr3x.zr1394_15.txt\"             \"mr3x.zr1394_16.txt\"            \n",
       "[101] \"mr3x.zr1394_17.txt\"             \"mr3x.zr1394_18.txt\"            \n",
       "[103] \"mr3x.zr1394_2.txt\"              \"mr3x.zr1394_3.txt\"             \n",
       "[105] \"mr3x.zr1394_4.txt\"              \"mr3x.zr1394_5.txt\"             \n",
       "[107] \"mr3x.zr1394_6.txt\"              \"mr3x.zr1394_7.txt\"             \n",
       "[109] \"mr3x.zr1394_8.txt\"              \"mr3x.zr1394_9.txt\"             \n",
       "[111] \"Pop.DML\"                        \"pop.DML.filt_0.01_<-10\"        \n",
       "[113] \"pop.DML.filt_0.01_>10\"          \"pop.DML.filt_0.01_abs10\"       \n",
       "[115] \"SS_CpG.igv\"                     \"zr1394_1.igv\"                  "
      ]
     },
     "metadata": {},
     "output_type": "display_data"
    }
   ],
   "source": [
    "file.names"
   ]
  },
  {
   "cell_type": "code",
   "execution_count": 16,
   "metadata": {
    "collapsed": false
   },
   "outputs": [],
   "source": [
    "f.names <- file.names[grep(\"mk.\", file.names)]"
   ]
  },
  {
   "cell_type": "code",
   "execution_count": 17,
   "metadata": {
    "collapsed": false
   },
   "outputs": [
    {
     "data": {
      "text/html": [
       "<ol class=list-inline>\n",
       "\t<li>'mkfmt_zr1394_1.txt'</li>\n",
       "\t<li>'mkfmt_zr1394_1.txt .igv'</li>\n",
       "\t<li>'mkfmt_zr1394_10.txt'</li>\n",
       "\t<li>'mkfmt_zr1394_10.txt .igv'</li>\n",
       "\t<li>'mkfmt_zr1394_11.txt'</li>\n",
       "\t<li>'mkfmt_zr1394_11.txt .igv'</li>\n",
       "\t<li>'mkfmt_zr1394_12.txt'</li>\n",
       "\t<li>'mkfmt_zr1394_12.txt .igv'</li>\n",
       "\t<li>'mkfmt_zr1394_13.txt'</li>\n",
       "\t<li>'mkfmt_zr1394_13.txt .igv'</li>\n",
       "\t<li>'mkfmt_zr1394_14.txt'</li>\n",
       "\t<li>'mkfmt_zr1394_14.txt .igv'</li>\n",
       "\t<li>'mkfmt_zr1394_15.txt'</li>\n",
       "\t<li>'mkfmt_zr1394_15.txt .igv'</li>\n",
       "\t<li>'mkfmt_zr1394_16.txt'</li>\n",
       "\t<li>'mkfmt_zr1394_16.txt .igv'</li>\n",
       "\t<li>'mkfmt_zr1394_17.txt'</li>\n",
       "\t<li>'mkfmt_zr1394_17.txt .igv'</li>\n",
       "\t<li>'mkfmt_zr1394_18.txt'</li>\n",
       "\t<li>'mkfmt_zr1394_18.txt .igv'</li>\n",
       "\t<li>'mkfmt_zr1394_2.txt'</li>\n",
       "\t<li>'mkfmt_zr1394_2.txt .igv'</li>\n",
       "\t<li>'mkfmt_zr1394_3.txt'</li>\n",
       "\t<li>'mkfmt_zr1394_3.txt .igv'</li>\n",
       "\t<li>'mkfmt_zr1394_4.txt'</li>\n",
       "\t<li>'mkfmt_zr1394_4.txt .igv'</li>\n",
       "\t<li>'mkfmt_zr1394_5.txt'</li>\n",
       "\t<li>'mkfmt_zr1394_5.txt .igv'</li>\n",
       "\t<li>'mkfmt_zr1394_6.txt'</li>\n",
       "\t<li>'mkfmt_zr1394_6.txt .igv'</li>\n",
       "\t<li>'mkfmt_zr1394_7.txt'</li>\n",
       "\t<li>'mkfmt_zr1394_7.txt .igv'</li>\n",
       "\t<li>'mkfmt_zr1394_8.txt'</li>\n",
       "\t<li>'mkfmt_zr1394_8.txt .igv'</li>\n",
       "\t<li>'mkfmt_zr1394_9.txt'</li>\n",
       "\t<li>'mkfmt_zr1394_9.txt .igv'</li>\n",
       "</ol>\n"
      ],
      "text/latex": [
       "\\begin{enumerate*}\n",
       "\\item 'mkfmt\\_zr1394\\_1.txt'\n",
       "\\item 'mkfmt\\_zr1394\\_1.txt .igv'\n",
       "\\item 'mkfmt\\_zr1394\\_10.txt'\n",
       "\\item 'mkfmt\\_zr1394\\_10.txt .igv'\n",
       "\\item 'mkfmt\\_zr1394\\_11.txt'\n",
       "\\item 'mkfmt\\_zr1394\\_11.txt .igv'\n",
       "\\item 'mkfmt\\_zr1394\\_12.txt'\n",
       "\\item 'mkfmt\\_zr1394\\_12.txt .igv'\n",
       "\\item 'mkfmt\\_zr1394\\_13.txt'\n",
       "\\item 'mkfmt\\_zr1394\\_13.txt .igv'\n",
       "\\item 'mkfmt\\_zr1394\\_14.txt'\n",
       "\\item 'mkfmt\\_zr1394\\_14.txt .igv'\n",
       "\\item 'mkfmt\\_zr1394\\_15.txt'\n",
       "\\item 'mkfmt\\_zr1394\\_15.txt .igv'\n",
       "\\item 'mkfmt\\_zr1394\\_16.txt'\n",
       "\\item 'mkfmt\\_zr1394\\_16.txt .igv'\n",
       "\\item 'mkfmt\\_zr1394\\_17.txt'\n",
       "\\item 'mkfmt\\_zr1394\\_17.txt .igv'\n",
       "\\item 'mkfmt\\_zr1394\\_18.txt'\n",
       "\\item 'mkfmt\\_zr1394\\_18.txt .igv'\n",
       "\\item 'mkfmt\\_zr1394\\_2.txt'\n",
       "\\item 'mkfmt\\_zr1394\\_2.txt .igv'\n",
       "\\item 'mkfmt\\_zr1394\\_3.txt'\n",
       "\\item 'mkfmt\\_zr1394\\_3.txt .igv'\n",
       "\\item 'mkfmt\\_zr1394\\_4.txt'\n",
       "\\item 'mkfmt\\_zr1394\\_4.txt .igv'\n",
       "\\item 'mkfmt\\_zr1394\\_5.txt'\n",
       "\\item 'mkfmt\\_zr1394\\_5.txt .igv'\n",
       "\\item 'mkfmt\\_zr1394\\_6.txt'\n",
       "\\item 'mkfmt\\_zr1394\\_6.txt .igv'\n",
       "\\item 'mkfmt\\_zr1394\\_7.txt'\n",
       "\\item 'mkfmt\\_zr1394\\_7.txt .igv'\n",
       "\\item 'mkfmt\\_zr1394\\_8.txt'\n",
       "\\item 'mkfmt\\_zr1394\\_8.txt .igv'\n",
       "\\item 'mkfmt\\_zr1394\\_9.txt'\n",
       "\\item 'mkfmt\\_zr1394\\_9.txt .igv'\n",
       "\\end{enumerate*}\n"
      ],
      "text/markdown": [
       "1. 'mkfmt_zr1394_1.txt'\n",
       "2. 'mkfmt_zr1394_1.txt .igv'\n",
       "3. 'mkfmt_zr1394_10.txt'\n",
       "4. 'mkfmt_zr1394_10.txt .igv'\n",
       "5. 'mkfmt_zr1394_11.txt'\n",
       "6. 'mkfmt_zr1394_11.txt .igv'\n",
       "7. 'mkfmt_zr1394_12.txt'\n",
       "8. 'mkfmt_zr1394_12.txt .igv'\n",
       "9. 'mkfmt_zr1394_13.txt'\n",
       "10. 'mkfmt_zr1394_13.txt .igv'\n",
       "11. 'mkfmt_zr1394_14.txt'\n",
       "12. 'mkfmt_zr1394_14.txt .igv'\n",
       "13. 'mkfmt_zr1394_15.txt'\n",
       "14. 'mkfmt_zr1394_15.txt .igv'\n",
       "15. 'mkfmt_zr1394_16.txt'\n",
       "16. 'mkfmt_zr1394_16.txt .igv'\n",
       "17. 'mkfmt_zr1394_17.txt'\n",
       "18. 'mkfmt_zr1394_17.txt .igv'\n",
       "19. 'mkfmt_zr1394_18.txt'\n",
       "20. 'mkfmt_zr1394_18.txt .igv'\n",
       "21. 'mkfmt_zr1394_2.txt'\n",
       "22. 'mkfmt_zr1394_2.txt .igv'\n",
       "23. 'mkfmt_zr1394_3.txt'\n",
       "24. 'mkfmt_zr1394_3.txt .igv'\n",
       "25. 'mkfmt_zr1394_4.txt'\n",
       "26. 'mkfmt_zr1394_4.txt .igv'\n",
       "27. 'mkfmt_zr1394_5.txt'\n",
       "28. 'mkfmt_zr1394_5.txt .igv'\n",
       "29. 'mkfmt_zr1394_6.txt'\n",
       "30. 'mkfmt_zr1394_6.txt .igv'\n",
       "31. 'mkfmt_zr1394_7.txt'\n",
       "32. 'mkfmt_zr1394_7.txt .igv'\n",
       "33. 'mkfmt_zr1394_8.txt'\n",
       "34. 'mkfmt_zr1394_8.txt .igv'\n",
       "35. 'mkfmt_zr1394_9.txt'\n",
       "36. 'mkfmt_zr1394_9.txt .igv'\n",
       "\n",
       "\n"
      ],
      "text/plain": [
       " [1] \"mkfmt_zr1394_1.txt\"       \"mkfmt_zr1394_1.txt .igv\" \n",
       " [3] \"mkfmt_zr1394_10.txt\"      \"mkfmt_zr1394_10.txt .igv\"\n",
       " [5] \"mkfmt_zr1394_11.txt\"      \"mkfmt_zr1394_11.txt .igv\"\n",
       " [7] \"mkfmt_zr1394_12.txt\"      \"mkfmt_zr1394_12.txt .igv\"\n",
       " [9] \"mkfmt_zr1394_13.txt\"      \"mkfmt_zr1394_13.txt .igv\"\n",
       "[11] \"mkfmt_zr1394_14.txt\"      \"mkfmt_zr1394_14.txt .igv\"\n",
       "[13] \"mkfmt_zr1394_15.txt\"      \"mkfmt_zr1394_15.txt .igv\"\n",
       "[15] \"mkfmt_zr1394_16.txt\"      \"mkfmt_zr1394_16.txt .igv\"\n",
       "[17] \"mkfmt_zr1394_17.txt\"      \"mkfmt_zr1394_17.txt .igv\"\n",
       "[19] \"mkfmt_zr1394_18.txt\"      \"mkfmt_zr1394_18.txt .igv\"\n",
       "[21] \"mkfmt_zr1394_2.txt\"       \"mkfmt_zr1394_2.txt .igv\" \n",
       "[23] \"mkfmt_zr1394_3.txt\"       \"mkfmt_zr1394_3.txt .igv\" \n",
       "[25] \"mkfmt_zr1394_4.txt\"       \"mkfmt_zr1394_4.txt .igv\" \n",
       "[27] \"mkfmt_zr1394_5.txt\"       \"mkfmt_zr1394_5.txt .igv\" \n",
       "[29] \"mkfmt_zr1394_6.txt\"       \"mkfmt_zr1394_6.txt .igv\" \n",
       "[31] \"mkfmt_zr1394_7.txt\"       \"mkfmt_zr1394_7.txt .igv\" \n",
       "[33] \"mkfmt_zr1394_8.txt\"       \"mkfmt_zr1394_8.txt .igv\" \n",
       "[35] \"mkfmt_zr1394_9.txt\"       \"mkfmt_zr1394_9.txt .igv\" "
      ]
     },
     "metadata": {},
     "output_type": "display_data"
    }
   ],
   "source": [
    "f.names"
   ]
  },
  {
   "cell_type": "markdown",
   "metadata": {},
   "source": [
    "## Create IGV Files for CpG context only"
   ]
  },
  {
   "cell_type": "code",
   "execution_count": 131,
   "metadata": {
    "collapsed": true
   },
   "outputs": [],
   "source": [
    "for(i in 1: length(f.names)){\n",
    "  data <- read.table(f.names[i], header=T, sep=\"\", na.string=\"NA\")\n",
    "  # to fill a data frame need to pre-name it and allocate space\n",
    "  # this will create an empty data frame to fill everything in for each run\n",
    "  data.new<-data.frame(start=rep(NA,nrow(data)),\n",
    "                       end=rep(NA,nrow(data)),\n",
    "                       CpG=rep('CpG',nrow(data)),\n",
    "                       freqC =rep(NA,nrow(data))) \n",
    "  data.new$start <- data$base -1\n",
    "  data.new$end <- data$base\n",
    "  data.new$freqC <- data$freqC/100\n",
    "  data.new <- data.frame(as.character(data$chr), data.new$start, data.new$end, data.new$CpG, data.new$freqC)\n",
    "\n",
    "  write.table(data.new, paste(f.names[i],\".igv\"), sep=\"\\t\", quote=F, col.names=F, row.names=F)\n",
    "}"
   ]
  },
  {
   "cell_type": "markdown",
   "metadata": {
    "collapsed": false
   },
   "source": [
    "## Create IGV files for all data all context"
   ]
  },
  {
   "cell_type": "code",
   "execution_count": 18,
   "metadata": {
    "collapsed": true
   },
   "outputs": [],
   "source": [
    "mr.names <- file.names[grep(\"meth.\", file.names)]"
   ]
  },
  {
   "cell_type": "code",
   "execution_count": 19,
   "metadata": {
    "collapsed": false
   },
   "outputs": [
    {
     "data": {
      "text/html": [
       "<ol class=list-inline>\n",
       "\t<li>'methratio_out_zr1394_1.CG.txt'</li>\n",
       "\t<li>'methratio_out_zr1394_1.txt'</li>\n",
       "\t<li>'methratio_out_zr1394_10.CG.txt'</li>\n",
       "\t<li>'methratio_out_zr1394_10.txt'</li>\n",
       "\t<li>'methratio_out_zr1394_11.CG.txt'</li>\n",
       "\t<li>'methratio_out_zr1394_11.txt'</li>\n",
       "\t<li>'methratio_out_zr1394_12.CG.txt'</li>\n",
       "\t<li>'methratio_out_zr1394_12.txt'</li>\n",
       "\t<li>'methratio_out_zr1394_13.CG.txt'</li>\n",
       "\t<li>'methratio_out_zr1394_13.txt'</li>\n",
       "\t<li>'methratio_out_zr1394_14.CG.txt'</li>\n",
       "\t<li>'methratio_out_zr1394_14.txt'</li>\n",
       "\t<li>'methratio_out_zr1394_15.CG.txt'</li>\n",
       "\t<li>'methratio_out_zr1394_15.txt'</li>\n",
       "\t<li>'methratio_out_zr1394_16.CG.txt'</li>\n",
       "\t<li>'methratio_out_zr1394_16.txt'</li>\n",
       "\t<li>'methratio_out_zr1394_17.CG.txt'</li>\n",
       "\t<li>'methratio_out_zr1394_17.txt'</li>\n",
       "\t<li>'methratio_out_zr1394_18.CG.txt'</li>\n",
       "\t<li>'methratio_out_zr1394_18.txt'</li>\n",
       "\t<li>'methratio_out_zr1394_2.CG.txt'</li>\n",
       "\t<li>'methratio_out_zr1394_2.txt'</li>\n",
       "\t<li>'methratio_out_zr1394_3.CG.txt'</li>\n",
       "\t<li>'methratio_out_zr1394_3.txt'</li>\n",
       "\t<li>'methratio_out_zr1394_4.CG.txt'</li>\n",
       "\t<li>'methratio_out_zr1394_4.txt'</li>\n",
       "\t<li>'methratio_out_zr1394_5.CG.txt'</li>\n",
       "\t<li>'methratio_out_zr1394_5.txt'</li>\n",
       "\t<li>'methratio_out_zr1394_6.CG.txt'</li>\n",
       "\t<li>'methratio_out_zr1394_6.txt'</li>\n",
       "\t<li>'methratio_out_zr1394_7.CG.txt'</li>\n",
       "\t<li>'methratio_out_zr1394_7.txt'</li>\n",
       "\t<li>'methratio_out_zr1394_8.CG.txt'</li>\n",
       "\t<li>'methratio_out_zr1394_8.txt'</li>\n",
       "\t<li>'methratio_out_zr1394_9.CG.txt'</li>\n",
       "\t<li>'methratio_out_zr1394_9.txt'</li>\n",
       "</ol>\n"
      ],
      "text/latex": [
       "\\begin{enumerate*}\n",
       "\\item 'methratio\\_out\\_zr1394\\_1.CG.txt'\n",
       "\\item 'methratio\\_out\\_zr1394\\_1.txt'\n",
       "\\item 'methratio\\_out\\_zr1394\\_10.CG.txt'\n",
       "\\item 'methratio\\_out\\_zr1394\\_10.txt'\n",
       "\\item 'methratio\\_out\\_zr1394\\_11.CG.txt'\n",
       "\\item 'methratio\\_out\\_zr1394\\_11.txt'\n",
       "\\item 'methratio\\_out\\_zr1394\\_12.CG.txt'\n",
       "\\item 'methratio\\_out\\_zr1394\\_12.txt'\n",
       "\\item 'methratio\\_out\\_zr1394\\_13.CG.txt'\n",
       "\\item 'methratio\\_out\\_zr1394\\_13.txt'\n",
       "\\item 'methratio\\_out\\_zr1394\\_14.CG.txt'\n",
       "\\item 'methratio\\_out\\_zr1394\\_14.txt'\n",
       "\\item 'methratio\\_out\\_zr1394\\_15.CG.txt'\n",
       "\\item 'methratio\\_out\\_zr1394\\_15.txt'\n",
       "\\item 'methratio\\_out\\_zr1394\\_16.CG.txt'\n",
       "\\item 'methratio\\_out\\_zr1394\\_16.txt'\n",
       "\\item 'methratio\\_out\\_zr1394\\_17.CG.txt'\n",
       "\\item 'methratio\\_out\\_zr1394\\_17.txt'\n",
       "\\item 'methratio\\_out\\_zr1394\\_18.CG.txt'\n",
       "\\item 'methratio\\_out\\_zr1394\\_18.txt'\n",
       "\\item 'methratio\\_out\\_zr1394\\_2.CG.txt'\n",
       "\\item 'methratio\\_out\\_zr1394\\_2.txt'\n",
       "\\item 'methratio\\_out\\_zr1394\\_3.CG.txt'\n",
       "\\item 'methratio\\_out\\_zr1394\\_3.txt'\n",
       "\\item 'methratio\\_out\\_zr1394\\_4.CG.txt'\n",
       "\\item 'methratio\\_out\\_zr1394\\_4.txt'\n",
       "\\item 'methratio\\_out\\_zr1394\\_5.CG.txt'\n",
       "\\item 'methratio\\_out\\_zr1394\\_5.txt'\n",
       "\\item 'methratio\\_out\\_zr1394\\_6.CG.txt'\n",
       "\\item 'methratio\\_out\\_zr1394\\_6.txt'\n",
       "\\item 'methratio\\_out\\_zr1394\\_7.CG.txt'\n",
       "\\item 'methratio\\_out\\_zr1394\\_7.txt'\n",
       "\\item 'methratio\\_out\\_zr1394\\_8.CG.txt'\n",
       "\\item 'methratio\\_out\\_zr1394\\_8.txt'\n",
       "\\item 'methratio\\_out\\_zr1394\\_9.CG.txt'\n",
       "\\item 'methratio\\_out\\_zr1394\\_9.txt'\n",
       "\\end{enumerate*}\n"
      ],
      "text/markdown": [
       "1. 'methratio_out_zr1394_1.CG.txt'\n",
       "2. 'methratio_out_zr1394_1.txt'\n",
       "3. 'methratio_out_zr1394_10.CG.txt'\n",
       "4. 'methratio_out_zr1394_10.txt'\n",
       "5. 'methratio_out_zr1394_11.CG.txt'\n",
       "6. 'methratio_out_zr1394_11.txt'\n",
       "7. 'methratio_out_zr1394_12.CG.txt'\n",
       "8. 'methratio_out_zr1394_12.txt'\n",
       "9. 'methratio_out_zr1394_13.CG.txt'\n",
       "10. 'methratio_out_zr1394_13.txt'\n",
       "11. 'methratio_out_zr1394_14.CG.txt'\n",
       "12. 'methratio_out_zr1394_14.txt'\n",
       "13. 'methratio_out_zr1394_15.CG.txt'\n",
       "14. 'methratio_out_zr1394_15.txt'\n",
       "15. 'methratio_out_zr1394_16.CG.txt'\n",
       "16. 'methratio_out_zr1394_16.txt'\n",
       "17. 'methratio_out_zr1394_17.CG.txt'\n",
       "18. 'methratio_out_zr1394_17.txt'\n",
       "19. 'methratio_out_zr1394_18.CG.txt'\n",
       "20. 'methratio_out_zr1394_18.txt'\n",
       "21. 'methratio_out_zr1394_2.CG.txt'\n",
       "22. 'methratio_out_zr1394_2.txt'\n",
       "23. 'methratio_out_zr1394_3.CG.txt'\n",
       "24. 'methratio_out_zr1394_3.txt'\n",
       "25. 'methratio_out_zr1394_4.CG.txt'\n",
       "26. 'methratio_out_zr1394_4.txt'\n",
       "27. 'methratio_out_zr1394_5.CG.txt'\n",
       "28. 'methratio_out_zr1394_5.txt'\n",
       "29. 'methratio_out_zr1394_6.CG.txt'\n",
       "30. 'methratio_out_zr1394_6.txt'\n",
       "31. 'methratio_out_zr1394_7.CG.txt'\n",
       "32. 'methratio_out_zr1394_7.txt'\n",
       "33. 'methratio_out_zr1394_8.CG.txt'\n",
       "34. 'methratio_out_zr1394_8.txt'\n",
       "35. 'methratio_out_zr1394_9.CG.txt'\n",
       "36. 'methratio_out_zr1394_9.txt'\n",
       "\n",
       "\n"
      ],
      "text/plain": [
       " [1] \"methratio_out_zr1394_1.CG.txt\"  \"methratio_out_zr1394_1.txt\"    \n",
       " [3] \"methratio_out_zr1394_10.CG.txt\" \"methratio_out_zr1394_10.txt\"   \n",
       " [5] \"methratio_out_zr1394_11.CG.txt\" \"methratio_out_zr1394_11.txt\"   \n",
       " [7] \"methratio_out_zr1394_12.CG.txt\" \"methratio_out_zr1394_12.txt\"   \n",
       " [9] \"methratio_out_zr1394_13.CG.txt\" \"methratio_out_zr1394_13.txt\"   \n",
       "[11] \"methratio_out_zr1394_14.CG.txt\" \"methratio_out_zr1394_14.txt\"   \n",
       "[13] \"methratio_out_zr1394_15.CG.txt\" \"methratio_out_zr1394_15.txt\"   \n",
       "[15] \"methratio_out_zr1394_16.CG.txt\" \"methratio_out_zr1394_16.txt\"   \n",
       "[17] \"methratio_out_zr1394_17.CG.txt\" \"methratio_out_zr1394_17.txt\"   \n",
       "[19] \"methratio_out_zr1394_18.CG.txt\" \"methratio_out_zr1394_18.txt\"   \n",
       "[21] \"methratio_out_zr1394_2.CG.txt\"  \"methratio_out_zr1394_2.txt\"    \n",
       "[23] \"methratio_out_zr1394_3.CG.txt\"  \"methratio_out_zr1394_3.txt\"    \n",
       "[25] \"methratio_out_zr1394_4.CG.txt\"  \"methratio_out_zr1394_4.txt\"    \n",
       "[27] \"methratio_out_zr1394_5.CG.txt\"  \"methratio_out_zr1394_5.txt\"    \n",
       "[29] \"methratio_out_zr1394_6.CG.txt\"  \"methratio_out_zr1394_6.txt\"    \n",
       "[31] \"methratio_out_zr1394_7.CG.txt\"  \"methratio_out_zr1394_7.txt\"    \n",
       "[33] \"methratio_out_zr1394_8.CG.txt\"  \"methratio_out_zr1394_8.txt\"    \n",
       "[35] \"methratio_out_zr1394_9.CG.txt\"  \"methratio_out_zr1394_9.txt\"    "
      ]
     },
     "metadata": {},
     "output_type": "display_data"
    }
   ],
   "source": [
    "mr.names"
   ]
  },
  {
   "cell_type": "code",
   "execution_count": 21,
   "metadata": {
    "collapsed": false
   },
   "outputs": [
    {
     "ename": "ERROR",
     "evalue": "Error in `$<-.data.frame`(`*tmp*`, \"end\", value = numeric(0)): replacement has 0 rows, data has 127057\n",
     "output_type": "error",
     "traceback": [
      "Error in `$<-.data.frame`(`*tmp*`, \"end\", value = numeric(0)): replacement has 0 rows, data has 127057\nTraceback:\n",
      "1. `$<-`(`*tmp*`, \"end\", value = numeric(0))   # at line 10 of file <text>",
      "2. `$<-.data.frame`(`*tmp*`, \"end\", value = numeric(0))   # at line 10 of file <text>",
      "3. stop(sprintf(ngettext(N, \"replacement has %d row, data has %d\", \n .     \"replacement has %d rows, data has %d\"), N, nrows), domain = NA)"
     ]
    }
   ],
   "source": [
    "for(i in 1: length(mr.names)){\n",
    "  data <- read.table(mr.names[i], header=T, sep=\"\", na.string=\"NA\")\n",
    "  # to fill a data frame need to pre-name it and allocate space\n",
    "  # this will create an empty data frame to fill everything in for each run\n",
    "  data.new<-data.frame(start=rep(NA,nrow(data)),\n",
    "                       end=rep(NA,nrow(data)),\n",
    "                       CpG=rep('CpG',nrow(data)),\n",
    "                       freqC=rep(NA,nrow(data))) \n",
    "  data.new$start <- data$pos\n",
    "  data.new$end <- data$pos + 1\n",
    "  data.new$freqC <- data$ratio\n",
    "  data.new <- data.frame(as.character(data$chr), data.new$start, data.new$end, data.new$CpG, data.new$freqC)\n",
    "\n",
    "  write.table(data.new, paste(mr.names[i],\".igv\"), sep=\"\\t\", quote=F, col.names=F, row.names=F)\n",
    "}"
   ]
  },
  {
   "cell_type": "code",
   "execution_count": null,
   "metadata": {
    "collapsed": true
   },
   "outputs": [],
   "source": []
  }
 ],
 "metadata": {
  "anaconda-cloud": {},
  "kernelspec": {
   "display_name": "R",
   "language": "R",
   "name": "ir"
  },
  "language_info": {
   "codemirror_mode": "r",
   "file_extension": ".r",
   "mimetype": "text/x-r-source",
   "name": "R",
   "pygments_lexer": "r",
   "version": "3.3.2"
  }
 },
 "nbformat": 4,
 "nbformat_minor": 1
}
