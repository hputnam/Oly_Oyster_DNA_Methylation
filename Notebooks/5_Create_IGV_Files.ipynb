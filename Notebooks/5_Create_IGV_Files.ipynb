{
 "cells": [
  {
   "cell_type": "code",
   "execution_count": 114,
   "metadata": {
    "collapsed": false
   },
   "outputs": [
    {
     "data": {
      "text/html": [
       "'/Users/hollie/Documents/Oly_Oyster_DNA_Methylation/Data/MBD/BSmap_Output'"
      ],
      "text/latex": [
       "'/Users/hollie/Documents/Oly\\_Oyster\\_DNA\\_Methylation/Data/MBD/BSmap\\_Output'"
      ],
      "text/markdown": [
       "'/Users/hollie/Documents/Oly_Oyster_DNA_Methylation/Data/MBD/BSmap_Output'"
      ],
      "text/plain": [
       "[1] \"/Users/hollie/Documents/Oly_Oyster_DNA_Methylation/Data/MBD/BSmap_Output\""
      ]
     },
     "metadata": {},
     "output_type": "display_data"
    }
   ],
   "source": [
    "getwd()"
   ]
  },
  {
   "cell_type": "code",
   "execution_count": 115,
   "metadata": {
    "collapsed": true
   },
   "outputs": [],
   "source": [
    "setwd(\"/Users/hollie/Documents/Oly_Oyster_DNA_Methylation/Data/MBD/BSmap_Output\")"
   ]
  },
  {
   "cell_type": "code",
   "execution_count": 116,
   "metadata": {
    "collapsed": false
   },
   "outputs": [
    {
     "data": {
      "text/html": [
       "'/Users/hollie/Documents/Oly_Oyster_DNA_Methylation/Data/MBD/BSmap_Output'"
      ],
      "text/latex": [
       "'/Users/hollie/Documents/Oly\\_Oyster\\_DNA\\_Methylation/Data/MBD/BSmap\\_Output'"
      ],
      "text/markdown": [
       "'/Users/hollie/Documents/Oly_Oyster_DNA_Methylation/Data/MBD/BSmap_Output'"
      ],
      "text/plain": [
       "[1] \"/Users/hollie/Documents/Oly_Oyster_DNA_Methylation/Data/MBD/BSmap_Output\""
      ]
     },
     "metadata": {},
     "output_type": "display_data"
    }
   ],
   "source": [
    "getwd()"
   ]
  },
  {
   "cell_type": "code",
   "execution_count": 117,
   "metadata": {
    "collapsed": false
   },
   "outputs": [],
   "source": [
    "zr1394_1 <- read.table(\"mkfmt_zr1394_1.txt\", header=T, sep=\"\")"
   ]
  },
  {
   "cell_type": "code",
   "execution_count": 118,
   "metadata": {
    "collapsed": false
   },
   "outputs": [
    {
     "name": "stdout",
     "output_type": "stream",
     "text": [
      "'data.frame':\t57513 obs. of  7 variables:\n",
      " $ chr.Base: Factor w/ 57513 levels \"scaffold1002.104\",..: 48 51 1 38 14 30 31 32 33 34 ...\n",
      " $ chr     : Factor w/ 1024 levels \"scaffold1002\",..: 1 1 1 1 1 1 1 1 1 1 ...\n",
      " $ base    : int  53 79 104 245 1193 1291 1328 1339 1601 1623 ...\n",
      " $ strand  : logi  FALSE FALSE FALSE FALSE FALSE FALSE ...\n",
      " $ coverage: int  3 14 17 14 6 9 7 5 3 3 ...\n",
      " $ freqC   : num  66.7 92.9 64.7 57.1 83.3 ...\n",
      " $ freqT   : num  33.33 7.14 35.29 42.86 16.67 ...\n"
     ]
    }
   ],
   "source": [
    "str(zr1394_1)"
   ]
  },
  {
   "cell_type": "code",
   "execution_count": 119,
   "metadata": {
    "collapsed": false
   },
   "outputs": [
    {
     "data": {
      "text/html": [
       "<table>\n",
       "<thead><tr><th scope=col>chr.Base</th><th scope=col>chr</th><th scope=col>base</th><th scope=col>strand</th><th scope=col>coverage</th><th scope=col>freqC</th><th scope=col>freqT</th></tr></thead>\n",
       "<tbody>\n",
       "\t<tr><td>scaffold1002.53  </td><td>scaffold1002     </td><td>  53             </td><td>FALSE            </td><td> 3               </td><td>66.67            </td><td> 33.33           </td></tr>\n",
       "\t<tr><td>scaffold1002.79  </td><td>scaffold1002     </td><td>  79             </td><td>FALSE            </td><td>14               </td><td>92.86            </td><td>  7.14           </td></tr>\n",
       "\t<tr><td>scaffold1002.104 </td><td>scaffold1002     </td><td> 104             </td><td>FALSE            </td><td>17               </td><td>64.71            </td><td> 35.29           </td></tr>\n",
       "\t<tr><td>scaffold1002.245 </td><td>scaffold1002     </td><td> 245             </td><td>FALSE            </td><td>14               </td><td>57.14            </td><td> 42.86           </td></tr>\n",
       "\t<tr><td>scaffold1002.1193</td><td>scaffold1002     </td><td>1193             </td><td>FALSE            </td><td> 6               </td><td>83.33            </td><td> 16.67           </td></tr>\n",
       "\t<tr><td>scaffold1002.1291</td><td>scaffold1002     </td><td>1291             </td><td>FALSE            </td><td> 9               </td><td> 0.00            </td><td>100.00           </td></tr>\n",
       "</tbody>\n",
       "</table>\n"
      ],
      "text/latex": [
       "\\begin{tabular}{r|lllllll}\n",
       " chr.Base & chr & base & strand & coverage & freqC & freqT\\\\\n",
       "\\hline\n",
       "\t scaffold1002.53   & scaffold1002      &   53              & FALSE             &  3                & 66.67             &  33.33           \\\\\n",
       "\t scaffold1002.79   & scaffold1002      &   79              & FALSE             & 14                & 92.86             &   7.14           \\\\\n",
       "\t scaffold1002.104  & scaffold1002      &  104              & FALSE             & 17                & 64.71             &  35.29           \\\\\n",
       "\t scaffold1002.245  & scaffold1002      &  245              & FALSE             & 14                & 57.14             &  42.86           \\\\\n",
       "\t scaffold1002.1193 & scaffold1002      & 1193              & FALSE             &  6                & 83.33             &  16.67           \\\\\n",
       "\t scaffold1002.1291 & scaffold1002      & 1291              & FALSE             &  9                &  0.00             & 100.00           \\\\\n",
       "\\end{tabular}\n"
      ],
      "text/plain": [
       "  chr.Base          chr          base strand coverage freqC freqT \n",
       "1 scaffold1002.53   scaffold1002   53 FALSE   3       66.67  33.33\n",
       "2 scaffold1002.79   scaffold1002   79 FALSE  14       92.86   7.14\n",
       "3 scaffold1002.104  scaffold1002  104 FALSE  17       64.71  35.29\n",
       "4 scaffold1002.245  scaffold1002  245 FALSE  14       57.14  42.86\n",
       "5 scaffold1002.1193 scaffold1002 1193 FALSE   6       83.33  16.67\n",
       "6 scaffold1002.1291 scaffold1002 1291 FALSE   9        0.00 100.00"
      ]
     },
     "metadata": {},
     "output_type": "display_data"
    }
   ],
   "source": [
    "head(zr1394_1)"
   ]
  },
  {
   "cell_type": "code",
   "execution_count": null,
   "metadata": {
    "collapsed": false
   },
   "outputs": [],
   "source": []
  },
  {
   "cell_type": "code",
   "execution_count": 120,
   "metadata": {
    "collapsed": true
   },
   "outputs": [],
   "source": [
    "zr1394_1$start <- zr1394_1$base -1"
   ]
  },
  {
   "cell_type": "code",
   "execution_count": 121,
   "metadata": {
    "collapsed": true
   },
   "outputs": [],
   "source": [
    "zr1394_1$end <- zr1394_1$base"
   ]
  },
  {
   "cell_type": "code",
   "execution_count": 122,
   "metadata": {
    "collapsed": true
   },
   "outputs": [],
   "source": [
    "zr1394_1$CpG <- \"CpG\""
   ]
  },
  {
   "cell_type": "code",
   "execution_count": 123,
   "metadata": {
    "collapsed": true
   },
   "outputs": [],
   "source": [
    "zr1394_1$freqC <- zr1394_1$freqC/100"
   ]
  },
  {
   "cell_type": "code",
   "execution_count": null,
   "metadata": {
    "collapsed": false
   },
   "outputs": [],
   "source": []
  },
  {
   "cell_type": "code",
   "execution_count": 124,
   "metadata": {
    "collapsed": false
   },
   "outputs": [],
   "source": [
    "zr1394_1 <- cbind(as.character(zr1394_1$chr), zr1394_1$start, zr1394_1$end, zr1394_1$CpG, zr1394_1$freqC)"
   ]
  },
  {
   "cell_type": "code",
   "execution_count": 125,
   "metadata": {
    "collapsed": false
   },
   "outputs": [
    {
     "data": {
      "text/html": [
       "<table>\n",
       "<tbody>\n",
       "\t<tr><td>scaffold1002</td><td>52          </td><td>53          </td><td>CpG         </td><td>0.6667      </td></tr>\n",
       "\t<tr><td>scaffold1002</td><td>78          </td><td>79          </td><td>CpG         </td><td>0.9286      </td></tr>\n",
       "\t<tr><td>scaffold1002</td><td>103         </td><td>104         </td><td>CpG         </td><td>0.6471      </td></tr>\n",
       "\t<tr><td>scaffold1002</td><td>244         </td><td>245         </td><td>CpG         </td><td>0.5714      </td></tr>\n",
       "\t<tr><td>scaffold1002</td><td>1192        </td><td>1193        </td><td>CpG         </td><td>0.8333      </td></tr>\n",
       "\t<tr><td>scaffold1002</td><td>1290        </td><td>1291        </td><td>CpG         </td><td>0           </td></tr>\n",
       "</tbody>\n",
       "</table>\n"
      ],
      "text/latex": [
       "\\begin{tabular}{lllll}\n",
       "\t scaffold1002 & 52           & 53           & CpG          & 0.6667      \\\\\n",
       "\t scaffold1002 & 78           & 79           & CpG          & 0.9286      \\\\\n",
       "\t scaffold1002 & 103          & 104          & CpG          & 0.6471      \\\\\n",
       "\t scaffold1002 & 244          & 245          & CpG          & 0.5714      \\\\\n",
       "\t scaffold1002 & 1192         & 1193         & CpG          & 0.8333      \\\\\n",
       "\t scaffold1002 & 1290         & 1291         & CpG          & 0           \\\\\n",
       "\\end{tabular}\n"
      ],
      "text/markdown": [
       "1. 'scaffold1002'\n",
       "2. 'scaffold1002'\n",
       "3. 'scaffold1002'\n",
       "4. 'scaffold1002'\n",
       "5. 'scaffold1002'\n",
       "6. 'scaffold1002'\n",
       "7. '52'\n",
       "8. '78'\n",
       "9. '103'\n",
       "10. '244'\n",
       "11. '1192'\n",
       "12. '1290'\n",
       "13. '53'\n",
       "14. '79'\n",
       "15. '104'\n",
       "16. '245'\n",
       "17. '1193'\n",
       "18. '1291'\n",
       "19. 'CpG'\n",
       "20. 'CpG'\n",
       "21. 'CpG'\n",
       "22. 'CpG'\n",
       "23. 'CpG'\n",
       "24. 'CpG'\n",
       "25. '0.6667'\n",
       "26. '0.9286'\n",
       "27. '0.6471'\n",
       "28. '0.5714'\n",
       "29. '0.8333'\n",
       "30. '0'\n",
       "\n",
       "\n"
      ],
      "text/plain": [
       "     [,1]         [,2] [,3] [,4] [,5]  \n",
       "[1,] scaffold1002 52   53   CpG  0.6667\n",
       "[2,] scaffold1002 78   79   CpG  0.9286\n",
       "[3,] scaffold1002 103  104  CpG  0.6471\n",
       "[4,] scaffold1002 244  245  CpG  0.5714\n",
       "[5,] scaffold1002 1192 1193 CpG  0.8333\n",
       "[6,] scaffold1002 1290 1291 CpG  0     "
      ]
     },
     "metadata": {},
     "output_type": "display_data"
    }
   ],
   "source": [
    "head(zr1394_1)"
   ]
  },
  {
   "cell_type": "code",
   "execution_count": 126,
   "metadata": {
    "collapsed": true
   },
   "outputs": [],
   "source": [
    "write.table(zr1394_1, \"zr1394_1.igv\", sep=\"\\t\", quote=F, col.names=F, row.names=F)"
   ]
  },
  {
   "cell_type": "code",
   "execution_count": 127,
   "metadata": {
    "collapsed": false
   },
   "outputs": [],
   "source": [
    "file.names<-list.files(path=\"/Users/hollie/Documents/Oly_Oyster_DNA_Methylation/Data/MBD/BSmap_Output\")"
   ]
  },
  {
   "cell_type": "code",
   "execution_count": 128,
   "metadata": {
    "collapsed": false
   },
   "outputs": [
    {
     "data": {
      "text/html": [
       "<ol class=list-inline>\n",
       "\t<li>'10K_bsmap_out_zr1394_1.sam'</li>\n",
       "\t<li>'10K_bsmap_out_zr1394_10.sam'</li>\n",
       "\t<li>'10K_bsmap_out_zr1394_11.sam'</li>\n",
       "\t<li>'10K_bsmap_out_zr1394_12.sam'</li>\n",
       "\t<li>'10K_bsmap_out_zr1394_13.sam'</li>\n",
       "\t<li>'10K_bsmap_out_zr1394_14.sam'</li>\n",
       "\t<li>'10K_bsmap_out_zr1394_15.sam'</li>\n",
       "\t<li>'10K_bsmap_out_zr1394_16.sam'</li>\n",
       "\t<li>'10K_bsmap_out_zr1394_17.sam'</li>\n",
       "\t<li>'10K_bsmap_out_zr1394_18.sam'</li>\n",
       "\t<li>'10K_bsmap_out_zr1394_2.sam'</li>\n",
       "\t<li>'10K_bsmap_out_zr1394_3.sam'</li>\n",
       "\t<li>'10K_bsmap_out_zr1394_4.sam'</li>\n",
       "\t<li>'10K_bsmap_out_zr1394_5.sam'</li>\n",
       "\t<li>'10K_bsmap_out_zr1394_6.sam'</li>\n",
       "\t<li>'10K_bsmap_out_zr1394_7.sam'</li>\n",
       "\t<li>'10K_bsmap_out_zr1394_8.sam'</li>\n",
       "\t<li>'10K_bsmap_out_zr1394_9.sam'</li>\n",
       "\t<li>'DMLs_rep_Pop'</li>\n",
       "\t<li>'HC_CpG.igv'</li>\n",
       "\t<li>'methratio_out_zr1394_1.CG.txt'</li>\n",
       "\t<li>'methratio_out_zr1394_1.txt'</li>\n",
       "\t<li>'methratio_out_zr1394_10.CG.txt'</li>\n",
       "\t<li>'methratio_out_zr1394_10.txt'</li>\n",
       "\t<li>'methratio_out_zr1394_11.CG.txt'</li>\n",
       "\t<li>'methratio_out_zr1394_11.txt'</li>\n",
       "\t<li>'methratio_out_zr1394_12.CG.txt'</li>\n",
       "\t<li>'methratio_out_zr1394_12.txt'</li>\n",
       "\t<li>'methratio_out_zr1394_13.CG.txt'</li>\n",
       "\t<li>'methratio_out_zr1394_13.txt'</li>\n",
       "\t<li>'methratio_out_zr1394_14.CG.txt'</li>\n",
       "\t<li>'methratio_out_zr1394_14.txt'</li>\n",
       "\t<li>'methratio_out_zr1394_15.CG.txt'</li>\n",
       "\t<li>'methratio_out_zr1394_15.txt'</li>\n",
       "\t<li>'methratio_out_zr1394_16.CG.txt'</li>\n",
       "\t<li>'methratio_out_zr1394_16.txt'</li>\n",
       "\t<li>'methratio_out_zr1394_17.CG.txt'</li>\n",
       "\t<li>'methratio_out_zr1394_17.txt'</li>\n",
       "\t<li>'methratio_out_zr1394_18.CG.txt'</li>\n",
       "\t<li>'methratio_out_zr1394_18.txt'</li>\n",
       "\t<li>'methratio_out_zr1394_2.CG.txt'</li>\n",
       "\t<li>'methratio_out_zr1394_2.txt'</li>\n",
       "\t<li>'methratio_out_zr1394_3.CG.txt'</li>\n",
       "\t<li>'methratio_out_zr1394_3.txt'</li>\n",
       "\t<li>'methratio_out_zr1394_4.CG.txt'</li>\n",
       "\t<li>'methratio_out_zr1394_4.txt'</li>\n",
       "\t<li>'methratio_out_zr1394_5.CG.txt'</li>\n",
       "\t<li>'methratio_out_zr1394_5.txt'</li>\n",
       "\t<li>'methratio_out_zr1394_6.CG.txt'</li>\n",
       "\t<li>'methratio_out_zr1394_6.txt'</li>\n",
       "\t<li>'methratio_out_zr1394_7.CG.txt'</li>\n",
       "\t<li>'methratio_out_zr1394_7.txt'</li>\n",
       "\t<li>'methratio_out_zr1394_8.CG.txt'</li>\n",
       "\t<li>'methratio_out_zr1394_8.txt'</li>\n",
       "\t<li>'methratio_out_zr1394_9.CG.txt'</li>\n",
       "\t<li>'methratio_out_zr1394_9.txt'</li>\n",
       "\t<li>'mkfmt_zr1394_1.txt'</li>\n",
       "\t<li>'mkfmt_zr1394_10.txt'</li>\n",
       "\t<li>'mkfmt_zr1394_11.txt'</li>\n",
       "\t<li>'mkfmt_zr1394_12.txt'</li>\n",
       "\t<li>'mkfmt_zr1394_13.txt'</li>\n",
       "\t<li>'mkfmt_zr1394_14.txt'</li>\n",
       "\t<li>'mkfmt_zr1394_15.txt'</li>\n",
       "\t<li>'mkfmt_zr1394_16.txt'</li>\n",
       "\t<li>'mkfmt_zr1394_17.txt'</li>\n",
       "\t<li>'mkfmt_zr1394_18.txt'</li>\n",
       "\t<li>'mkfmt_zr1394_2.txt'</li>\n",
       "\t<li>'mkfmt_zr1394_3.txt'</li>\n",
       "\t<li>'mkfmt_zr1394_4.txt'</li>\n",
       "\t<li>'mkfmt_zr1394_5.txt'</li>\n",
       "\t<li>'mkfmt_zr1394_6.txt'</li>\n",
       "\t<li>'mkfmt_zr1394_7.txt'</li>\n",
       "\t<li>'mkfmt_zr1394_8.txt'</li>\n",
       "\t<li>'mkfmt_zr1394_9.txt'</li>\n",
       "\t<li>'mr3x.zr1394_1.txt'</li>\n",
       "\t<li>'mr3x.zr1394_10.txt'</li>\n",
       "\t<li>'mr3x.zr1394_11.txt'</li>\n",
       "\t<li>'mr3x.zr1394_12.txt'</li>\n",
       "\t<li>'mr3x.zr1394_13.txt'</li>\n",
       "\t<li>'mr3x.zr1394_14.txt'</li>\n",
       "\t<li>'mr3x.zr1394_15.txt'</li>\n",
       "\t<li>'mr3x.zr1394_16.txt'</li>\n",
       "\t<li>'mr3x.zr1394_17.txt'</li>\n",
       "\t<li>'mr3x.zr1394_18.txt'</li>\n",
       "\t<li>'mr3x.zr1394_2.txt'</li>\n",
       "\t<li>'mr3x.zr1394_3.txt'</li>\n",
       "\t<li>'mr3x.zr1394_4.txt'</li>\n",
       "\t<li>'mr3x.zr1394_5.txt'</li>\n",
       "\t<li>'mr3x.zr1394_6.txt'</li>\n",
       "\t<li>'mr3x.zr1394_7.txt'</li>\n",
       "\t<li>'mr3x.zr1394_8.txt'</li>\n",
       "\t<li>'mr3x.zr1394_9.txt'</li>\n",
       "\t<li>'Pop.DML'</li>\n",
       "\t<li>'pop.DML.filt_0.01_&lt;-10'</li>\n",
       "\t<li>'pop.DML.filt_0.01_&gt;10'</li>\n",
       "\t<li>'pop.DML.filt_0.01_abs10'</li>\n",
       "\t<li>'SS_CpG.igv'</li>\n",
       "\t<li>'zr1394_1.igv'</li>\n",
       "</ol>\n"
      ],
      "text/latex": [
       "\\begin{enumerate*}\n",
       "\\item '10K\\_bsmap\\_out\\_zr1394\\_1.sam'\n",
       "\\item '10K\\_bsmap\\_out\\_zr1394\\_10.sam'\n",
       "\\item '10K\\_bsmap\\_out\\_zr1394\\_11.sam'\n",
       "\\item '10K\\_bsmap\\_out\\_zr1394\\_12.sam'\n",
       "\\item '10K\\_bsmap\\_out\\_zr1394\\_13.sam'\n",
       "\\item '10K\\_bsmap\\_out\\_zr1394\\_14.sam'\n",
       "\\item '10K\\_bsmap\\_out\\_zr1394\\_15.sam'\n",
       "\\item '10K\\_bsmap\\_out\\_zr1394\\_16.sam'\n",
       "\\item '10K\\_bsmap\\_out\\_zr1394\\_17.sam'\n",
       "\\item '10K\\_bsmap\\_out\\_zr1394\\_18.sam'\n",
       "\\item '10K\\_bsmap\\_out\\_zr1394\\_2.sam'\n",
       "\\item '10K\\_bsmap\\_out\\_zr1394\\_3.sam'\n",
       "\\item '10K\\_bsmap\\_out\\_zr1394\\_4.sam'\n",
       "\\item '10K\\_bsmap\\_out\\_zr1394\\_5.sam'\n",
       "\\item '10K\\_bsmap\\_out\\_zr1394\\_6.sam'\n",
       "\\item '10K\\_bsmap\\_out\\_zr1394\\_7.sam'\n",
       "\\item '10K\\_bsmap\\_out\\_zr1394\\_8.sam'\n",
       "\\item '10K\\_bsmap\\_out\\_zr1394\\_9.sam'\n",
       "\\item 'DMLs\\_rep\\_Pop'\n",
       "\\item 'HC\\_CpG.igv'\n",
       "\\item 'methratio\\_out\\_zr1394\\_1.CG.txt'\n",
       "\\item 'methratio\\_out\\_zr1394\\_1.txt'\n",
       "\\item 'methratio\\_out\\_zr1394\\_10.CG.txt'\n",
       "\\item 'methratio\\_out\\_zr1394\\_10.txt'\n",
       "\\item 'methratio\\_out\\_zr1394\\_11.CG.txt'\n",
       "\\item 'methratio\\_out\\_zr1394\\_11.txt'\n",
       "\\item 'methratio\\_out\\_zr1394\\_12.CG.txt'\n",
       "\\item 'methratio\\_out\\_zr1394\\_12.txt'\n",
       "\\item 'methratio\\_out\\_zr1394\\_13.CG.txt'\n",
       "\\item 'methratio\\_out\\_zr1394\\_13.txt'\n",
       "\\item 'methratio\\_out\\_zr1394\\_14.CG.txt'\n",
       "\\item 'methratio\\_out\\_zr1394\\_14.txt'\n",
       "\\item 'methratio\\_out\\_zr1394\\_15.CG.txt'\n",
       "\\item 'methratio\\_out\\_zr1394\\_15.txt'\n",
       "\\item 'methratio\\_out\\_zr1394\\_16.CG.txt'\n",
       "\\item 'methratio\\_out\\_zr1394\\_16.txt'\n",
       "\\item 'methratio\\_out\\_zr1394\\_17.CG.txt'\n",
       "\\item 'methratio\\_out\\_zr1394\\_17.txt'\n",
       "\\item 'methratio\\_out\\_zr1394\\_18.CG.txt'\n",
       "\\item 'methratio\\_out\\_zr1394\\_18.txt'\n",
       "\\item 'methratio\\_out\\_zr1394\\_2.CG.txt'\n",
       "\\item 'methratio\\_out\\_zr1394\\_2.txt'\n",
       "\\item 'methratio\\_out\\_zr1394\\_3.CG.txt'\n",
       "\\item 'methratio\\_out\\_zr1394\\_3.txt'\n",
       "\\item 'methratio\\_out\\_zr1394\\_4.CG.txt'\n",
       "\\item 'methratio\\_out\\_zr1394\\_4.txt'\n",
       "\\item 'methratio\\_out\\_zr1394\\_5.CG.txt'\n",
       "\\item 'methratio\\_out\\_zr1394\\_5.txt'\n",
       "\\item 'methratio\\_out\\_zr1394\\_6.CG.txt'\n",
       "\\item 'methratio\\_out\\_zr1394\\_6.txt'\n",
       "\\item 'methratio\\_out\\_zr1394\\_7.CG.txt'\n",
       "\\item 'methratio\\_out\\_zr1394\\_7.txt'\n",
       "\\item 'methratio\\_out\\_zr1394\\_8.CG.txt'\n",
       "\\item 'methratio\\_out\\_zr1394\\_8.txt'\n",
       "\\item 'methratio\\_out\\_zr1394\\_9.CG.txt'\n",
       "\\item 'methratio\\_out\\_zr1394\\_9.txt'\n",
       "\\item 'mkfmt\\_zr1394\\_1.txt'\n",
       "\\item 'mkfmt\\_zr1394\\_10.txt'\n",
       "\\item 'mkfmt\\_zr1394\\_11.txt'\n",
       "\\item 'mkfmt\\_zr1394\\_12.txt'\n",
       "\\item 'mkfmt\\_zr1394\\_13.txt'\n",
       "\\item 'mkfmt\\_zr1394\\_14.txt'\n",
       "\\item 'mkfmt\\_zr1394\\_15.txt'\n",
       "\\item 'mkfmt\\_zr1394\\_16.txt'\n",
       "\\item 'mkfmt\\_zr1394\\_17.txt'\n",
       "\\item 'mkfmt\\_zr1394\\_18.txt'\n",
       "\\item 'mkfmt\\_zr1394\\_2.txt'\n",
       "\\item 'mkfmt\\_zr1394\\_3.txt'\n",
       "\\item 'mkfmt\\_zr1394\\_4.txt'\n",
       "\\item 'mkfmt\\_zr1394\\_5.txt'\n",
       "\\item 'mkfmt\\_zr1394\\_6.txt'\n",
       "\\item 'mkfmt\\_zr1394\\_7.txt'\n",
       "\\item 'mkfmt\\_zr1394\\_8.txt'\n",
       "\\item 'mkfmt\\_zr1394\\_9.txt'\n",
       "\\item 'mr3x.zr1394\\_1.txt'\n",
       "\\item 'mr3x.zr1394\\_10.txt'\n",
       "\\item 'mr3x.zr1394\\_11.txt'\n",
       "\\item 'mr3x.zr1394\\_12.txt'\n",
       "\\item 'mr3x.zr1394\\_13.txt'\n",
       "\\item 'mr3x.zr1394\\_14.txt'\n",
       "\\item 'mr3x.zr1394\\_15.txt'\n",
       "\\item 'mr3x.zr1394\\_16.txt'\n",
       "\\item 'mr3x.zr1394\\_17.txt'\n",
       "\\item 'mr3x.zr1394\\_18.txt'\n",
       "\\item 'mr3x.zr1394\\_2.txt'\n",
       "\\item 'mr3x.zr1394\\_3.txt'\n",
       "\\item 'mr3x.zr1394\\_4.txt'\n",
       "\\item 'mr3x.zr1394\\_5.txt'\n",
       "\\item 'mr3x.zr1394\\_6.txt'\n",
       "\\item 'mr3x.zr1394\\_7.txt'\n",
       "\\item 'mr3x.zr1394\\_8.txt'\n",
       "\\item 'mr3x.zr1394\\_9.txt'\n",
       "\\item 'Pop.DML'\n",
       "\\item 'pop.DML.filt\\_0.01\\_<-10'\n",
       "\\item 'pop.DML.filt\\_0.01\\_>10'\n",
       "\\item 'pop.DML.filt\\_0.01\\_abs10'\n",
       "\\item 'SS\\_CpG.igv'\n",
       "\\item 'zr1394\\_1.igv'\n",
       "\\end{enumerate*}\n"
      ],
      "text/markdown": [
       "1. '10K_bsmap_out_zr1394_1.sam'\n",
       "2. '10K_bsmap_out_zr1394_10.sam'\n",
       "3. '10K_bsmap_out_zr1394_11.sam'\n",
       "4. '10K_bsmap_out_zr1394_12.sam'\n",
       "5. '10K_bsmap_out_zr1394_13.sam'\n",
       "6. '10K_bsmap_out_zr1394_14.sam'\n",
       "7. '10K_bsmap_out_zr1394_15.sam'\n",
       "8. '10K_bsmap_out_zr1394_16.sam'\n",
       "9. '10K_bsmap_out_zr1394_17.sam'\n",
       "10. '10K_bsmap_out_zr1394_18.sam'\n",
       "11. '10K_bsmap_out_zr1394_2.sam'\n",
       "12. '10K_bsmap_out_zr1394_3.sam'\n",
       "13. '10K_bsmap_out_zr1394_4.sam'\n",
       "14. '10K_bsmap_out_zr1394_5.sam'\n",
       "15. '10K_bsmap_out_zr1394_6.sam'\n",
       "16. '10K_bsmap_out_zr1394_7.sam'\n",
       "17. '10K_bsmap_out_zr1394_8.sam'\n",
       "18. '10K_bsmap_out_zr1394_9.sam'\n",
       "19. 'DMLs_rep_Pop'\n",
       "20. 'HC_CpG.igv'\n",
       "21. 'methratio_out_zr1394_1.CG.txt'\n",
       "22. 'methratio_out_zr1394_1.txt'\n",
       "23. 'methratio_out_zr1394_10.CG.txt'\n",
       "24. 'methratio_out_zr1394_10.txt'\n",
       "25. 'methratio_out_zr1394_11.CG.txt'\n",
       "26. 'methratio_out_zr1394_11.txt'\n",
       "27. 'methratio_out_zr1394_12.CG.txt'\n",
       "28. 'methratio_out_zr1394_12.txt'\n",
       "29. 'methratio_out_zr1394_13.CG.txt'\n",
       "30. 'methratio_out_zr1394_13.txt'\n",
       "31. 'methratio_out_zr1394_14.CG.txt'\n",
       "32. 'methratio_out_zr1394_14.txt'\n",
       "33. 'methratio_out_zr1394_15.CG.txt'\n",
       "34. 'methratio_out_zr1394_15.txt'\n",
       "35. 'methratio_out_zr1394_16.CG.txt'\n",
       "36. 'methratio_out_zr1394_16.txt'\n",
       "37. 'methratio_out_zr1394_17.CG.txt'\n",
       "38. 'methratio_out_zr1394_17.txt'\n",
       "39. 'methratio_out_zr1394_18.CG.txt'\n",
       "40. 'methratio_out_zr1394_18.txt'\n",
       "41. 'methratio_out_zr1394_2.CG.txt'\n",
       "42. 'methratio_out_zr1394_2.txt'\n",
       "43. 'methratio_out_zr1394_3.CG.txt'\n",
       "44. 'methratio_out_zr1394_3.txt'\n",
       "45. 'methratio_out_zr1394_4.CG.txt'\n",
       "46. 'methratio_out_zr1394_4.txt'\n",
       "47. 'methratio_out_zr1394_5.CG.txt'\n",
       "48. 'methratio_out_zr1394_5.txt'\n",
       "49. 'methratio_out_zr1394_6.CG.txt'\n",
       "50. 'methratio_out_zr1394_6.txt'\n",
       "51. 'methratio_out_zr1394_7.CG.txt'\n",
       "52. 'methratio_out_zr1394_7.txt'\n",
       "53. 'methratio_out_zr1394_8.CG.txt'\n",
       "54. 'methratio_out_zr1394_8.txt'\n",
       "55. 'methratio_out_zr1394_9.CG.txt'\n",
       "56. 'methratio_out_zr1394_9.txt'\n",
       "57. 'mkfmt_zr1394_1.txt'\n",
       "58. 'mkfmt_zr1394_10.txt'\n",
       "59. 'mkfmt_zr1394_11.txt'\n",
       "60. 'mkfmt_zr1394_12.txt'\n",
       "61. 'mkfmt_zr1394_13.txt'\n",
       "62. 'mkfmt_zr1394_14.txt'\n",
       "63. 'mkfmt_zr1394_15.txt'\n",
       "64. 'mkfmt_zr1394_16.txt'\n",
       "65. 'mkfmt_zr1394_17.txt'\n",
       "66. 'mkfmt_zr1394_18.txt'\n",
       "67. 'mkfmt_zr1394_2.txt'\n",
       "68. 'mkfmt_zr1394_3.txt'\n",
       "69. 'mkfmt_zr1394_4.txt'\n",
       "70. 'mkfmt_zr1394_5.txt'\n",
       "71. 'mkfmt_zr1394_6.txt'\n",
       "72. 'mkfmt_zr1394_7.txt'\n",
       "73. 'mkfmt_zr1394_8.txt'\n",
       "74. 'mkfmt_zr1394_9.txt'\n",
       "75. 'mr3x.zr1394_1.txt'\n",
       "76. 'mr3x.zr1394_10.txt'\n",
       "77. 'mr3x.zr1394_11.txt'\n",
       "78. 'mr3x.zr1394_12.txt'\n",
       "79. 'mr3x.zr1394_13.txt'\n",
       "80. 'mr3x.zr1394_14.txt'\n",
       "81. 'mr3x.zr1394_15.txt'\n",
       "82. 'mr3x.zr1394_16.txt'\n",
       "83. 'mr3x.zr1394_17.txt'\n",
       "84. 'mr3x.zr1394_18.txt'\n",
       "85. 'mr3x.zr1394_2.txt'\n",
       "86. 'mr3x.zr1394_3.txt'\n",
       "87. 'mr3x.zr1394_4.txt'\n",
       "88. 'mr3x.zr1394_5.txt'\n",
       "89. 'mr3x.zr1394_6.txt'\n",
       "90. 'mr3x.zr1394_7.txt'\n",
       "91. 'mr3x.zr1394_8.txt'\n",
       "92. 'mr3x.zr1394_9.txt'\n",
       "93. 'Pop.DML'\n",
       "94. 'pop.DML.filt_0.01_&lt;-10'\n",
       "95. 'pop.DML.filt_0.01_&gt;10'\n",
       "96. 'pop.DML.filt_0.01_abs10'\n",
       "97. 'SS_CpG.igv'\n",
       "98. 'zr1394_1.igv'\n",
       "\n",
       "\n"
      ],
      "text/plain": [
       " [1] \"10K_bsmap_out_zr1394_1.sam\"     \"10K_bsmap_out_zr1394_10.sam\"   \n",
       " [3] \"10K_bsmap_out_zr1394_11.sam\"    \"10K_bsmap_out_zr1394_12.sam\"   \n",
       " [5] \"10K_bsmap_out_zr1394_13.sam\"    \"10K_bsmap_out_zr1394_14.sam\"   \n",
       " [7] \"10K_bsmap_out_zr1394_15.sam\"    \"10K_bsmap_out_zr1394_16.sam\"   \n",
       " [9] \"10K_bsmap_out_zr1394_17.sam\"    \"10K_bsmap_out_zr1394_18.sam\"   \n",
       "[11] \"10K_bsmap_out_zr1394_2.sam\"     \"10K_bsmap_out_zr1394_3.sam\"    \n",
       "[13] \"10K_bsmap_out_zr1394_4.sam\"     \"10K_bsmap_out_zr1394_5.sam\"    \n",
       "[15] \"10K_bsmap_out_zr1394_6.sam\"     \"10K_bsmap_out_zr1394_7.sam\"    \n",
       "[17] \"10K_bsmap_out_zr1394_8.sam\"     \"10K_bsmap_out_zr1394_9.sam\"    \n",
       "[19] \"DMLs_rep_Pop\"                   \"HC_CpG.igv\"                    \n",
       "[21] \"methratio_out_zr1394_1.CG.txt\"  \"methratio_out_zr1394_1.txt\"    \n",
       "[23] \"methratio_out_zr1394_10.CG.txt\" \"methratio_out_zr1394_10.txt\"   \n",
       "[25] \"methratio_out_zr1394_11.CG.txt\" \"methratio_out_zr1394_11.txt\"   \n",
       "[27] \"methratio_out_zr1394_12.CG.txt\" \"methratio_out_zr1394_12.txt\"   \n",
       "[29] \"methratio_out_zr1394_13.CG.txt\" \"methratio_out_zr1394_13.txt\"   \n",
       "[31] \"methratio_out_zr1394_14.CG.txt\" \"methratio_out_zr1394_14.txt\"   \n",
       "[33] \"methratio_out_zr1394_15.CG.txt\" \"methratio_out_zr1394_15.txt\"   \n",
       "[35] \"methratio_out_zr1394_16.CG.txt\" \"methratio_out_zr1394_16.txt\"   \n",
       "[37] \"methratio_out_zr1394_17.CG.txt\" \"methratio_out_zr1394_17.txt\"   \n",
       "[39] \"methratio_out_zr1394_18.CG.txt\" \"methratio_out_zr1394_18.txt\"   \n",
       "[41] \"methratio_out_zr1394_2.CG.txt\"  \"methratio_out_zr1394_2.txt\"    \n",
       "[43] \"methratio_out_zr1394_3.CG.txt\"  \"methratio_out_zr1394_3.txt\"    \n",
       "[45] \"methratio_out_zr1394_4.CG.txt\"  \"methratio_out_zr1394_4.txt\"    \n",
       "[47] \"methratio_out_zr1394_5.CG.txt\"  \"methratio_out_zr1394_5.txt\"    \n",
       "[49] \"methratio_out_zr1394_6.CG.txt\"  \"methratio_out_zr1394_6.txt\"    \n",
       "[51] \"methratio_out_zr1394_7.CG.txt\"  \"methratio_out_zr1394_7.txt\"    \n",
       "[53] \"methratio_out_zr1394_8.CG.txt\"  \"methratio_out_zr1394_8.txt\"    \n",
       "[55] \"methratio_out_zr1394_9.CG.txt\"  \"methratio_out_zr1394_9.txt\"    \n",
       "[57] \"mkfmt_zr1394_1.txt\"             \"mkfmt_zr1394_10.txt\"           \n",
       "[59] \"mkfmt_zr1394_11.txt\"            \"mkfmt_zr1394_12.txt\"           \n",
       "[61] \"mkfmt_zr1394_13.txt\"            \"mkfmt_zr1394_14.txt\"           \n",
       "[63] \"mkfmt_zr1394_15.txt\"            \"mkfmt_zr1394_16.txt\"           \n",
       "[65] \"mkfmt_zr1394_17.txt\"            \"mkfmt_zr1394_18.txt\"           \n",
       "[67] \"mkfmt_zr1394_2.txt\"             \"mkfmt_zr1394_3.txt\"            \n",
       "[69] \"mkfmt_zr1394_4.txt\"             \"mkfmt_zr1394_5.txt\"            \n",
       "[71] \"mkfmt_zr1394_6.txt\"             \"mkfmt_zr1394_7.txt\"            \n",
       "[73] \"mkfmt_zr1394_8.txt\"             \"mkfmt_zr1394_9.txt\"            \n",
       "[75] \"mr3x.zr1394_1.txt\"              \"mr3x.zr1394_10.txt\"            \n",
       "[77] \"mr3x.zr1394_11.txt\"             \"mr3x.zr1394_12.txt\"            \n",
       "[79] \"mr3x.zr1394_13.txt\"             \"mr3x.zr1394_14.txt\"            \n",
       "[81] \"mr3x.zr1394_15.txt\"             \"mr3x.zr1394_16.txt\"            \n",
       "[83] \"mr3x.zr1394_17.txt\"             \"mr3x.zr1394_18.txt\"            \n",
       "[85] \"mr3x.zr1394_2.txt\"              \"mr3x.zr1394_3.txt\"             \n",
       "[87] \"mr3x.zr1394_4.txt\"              \"mr3x.zr1394_5.txt\"             \n",
       "[89] \"mr3x.zr1394_6.txt\"              \"mr3x.zr1394_7.txt\"             \n",
       "[91] \"mr3x.zr1394_8.txt\"              \"mr3x.zr1394_9.txt\"             \n",
       "[93] \"Pop.DML\"                        \"pop.DML.filt_0.01_<-10\"        \n",
       "[95] \"pop.DML.filt_0.01_>10\"          \"pop.DML.filt_0.01_abs10\"       \n",
       "[97] \"SS_CpG.igv\"                     \"zr1394_1.igv\"                  "
      ]
     },
     "metadata": {},
     "output_type": "display_data"
    }
   ],
   "source": [
    "file.names"
   ]
  },
  {
   "cell_type": "code",
   "execution_count": 129,
   "metadata": {
    "collapsed": false
   },
   "outputs": [],
   "source": [
    "f.names <- file.names[grep(\"mk.\", file.names)]"
   ]
  },
  {
   "cell_type": "code",
   "execution_count": 130,
   "metadata": {
    "collapsed": false
   },
   "outputs": [
    {
     "data": {
      "text/html": [
       "<ol class=list-inline>\n",
       "\t<li>'mkfmt_zr1394_1.txt'</li>\n",
       "\t<li>'mkfmt_zr1394_10.txt'</li>\n",
       "\t<li>'mkfmt_zr1394_11.txt'</li>\n",
       "\t<li>'mkfmt_zr1394_12.txt'</li>\n",
       "\t<li>'mkfmt_zr1394_13.txt'</li>\n",
       "\t<li>'mkfmt_zr1394_14.txt'</li>\n",
       "\t<li>'mkfmt_zr1394_15.txt'</li>\n",
       "\t<li>'mkfmt_zr1394_16.txt'</li>\n",
       "\t<li>'mkfmt_zr1394_17.txt'</li>\n",
       "\t<li>'mkfmt_zr1394_18.txt'</li>\n",
       "\t<li>'mkfmt_zr1394_2.txt'</li>\n",
       "\t<li>'mkfmt_zr1394_3.txt'</li>\n",
       "\t<li>'mkfmt_zr1394_4.txt'</li>\n",
       "\t<li>'mkfmt_zr1394_5.txt'</li>\n",
       "\t<li>'mkfmt_zr1394_6.txt'</li>\n",
       "\t<li>'mkfmt_zr1394_7.txt'</li>\n",
       "\t<li>'mkfmt_zr1394_8.txt'</li>\n",
       "\t<li>'mkfmt_zr1394_9.txt'</li>\n",
       "</ol>\n"
      ],
      "text/latex": [
       "\\begin{enumerate*}\n",
       "\\item 'mkfmt\\_zr1394\\_1.txt'\n",
       "\\item 'mkfmt\\_zr1394\\_10.txt'\n",
       "\\item 'mkfmt\\_zr1394\\_11.txt'\n",
       "\\item 'mkfmt\\_zr1394\\_12.txt'\n",
       "\\item 'mkfmt\\_zr1394\\_13.txt'\n",
       "\\item 'mkfmt\\_zr1394\\_14.txt'\n",
       "\\item 'mkfmt\\_zr1394\\_15.txt'\n",
       "\\item 'mkfmt\\_zr1394\\_16.txt'\n",
       "\\item 'mkfmt\\_zr1394\\_17.txt'\n",
       "\\item 'mkfmt\\_zr1394\\_18.txt'\n",
       "\\item 'mkfmt\\_zr1394\\_2.txt'\n",
       "\\item 'mkfmt\\_zr1394\\_3.txt'\n",
       "\\item 'mkfmt\\_zr1394\\_4.txt'\n",
       "\\item 'mkfmt\\_zr1394\\_5.txt'\n",
       "\\item 'mkfmt\\_zr1394\\_6.txt'\n",
       "\\item 'mkfmt\\_zr1394\\_7.txt'\n",
       "\\item 'mkfmt\\_zr1394\\_8.txt'\n",
       "\\item 'mkfmt\\_zr1394\\_9.txt'\n",
       "\\end{enumerate*}\n"
      ],
      "text/markdown": [
       "1. 'mkfmt_zr1394_1.txt'\n",
       "2. 'mkfmt_zr1394_10.txt'\n",
       "3. 'mkfmt_zr1394_11.txt'\n",
       "4. 'mkfmt_zr1394_12.txt'\n",
       "5. 'mkfmt_zr1394_13.txt'\n",
       "6. 'mkfmt_zr1394_14.txt'\n",
       "7. 'mkfmt_zr1394_15.txt'\n",
       "8. 'mkfmt_zr1394_16.txt'\n",
       "9. 'mkfmt_zr1394_17.txt'\n",
       "10. 'mkfmt_zr1394_18.txt'\n",
       "11. 'mkfmt_zr1394_2.txt'\n",
       "12. 'mkfmt_zr1394_3.txt'\n",
       "13. 'mkfmt_zr1394_4.txt'\n",
       "14. 'mkfmt_zr1394_5.txt'\n",
       "15. 'mkfmt_zr1394_6.txt'\n",
       "16. 'mkfmt_zr1394_7.txt'\n",
       "17. 'mkfmt_zr1394_8.txt'\n",
       "18. 'mkfmt_zr1394_9.txt'\n",
       "\n",
       "\n"
      ],
      "text/plain": [
       " [1] \"mkfmt_zr1394_1.txt\"  \"mkfmt_zr1394_10.txt\" \"mkfmt_zr1394_11.txt\"\n",
       " [4] \"mkfmt_zr1394_12.txt\" \"mkfmt_zr1394_13.txt\" \"mkfmt_zr1394_14.txt\"\n",
       " [7] \"mkfmt_zr1394_15.txt\" \"mkfmt_zr1394_16.txt\" \"mkfmt_zr1394_17.txt\"\n",
       "[10] \"mkfmt_zr1394_18.txt\" \"mkfmt_zr1394_2.txt\"  \"mkfmt_zr1394_3.txt\" \n",
       "[13] \"mkfmt_zr1394_4.txt\"  \"mkfmt_zr1394_5.txt\"  \"mkfmt_zr1394_6.txt\" \n",
       "[16] \"mkfmt_zr1394_7.txt\"  \"mkfmt_zr1394_8.txt\"  \"mkfmt_zr1394_9.txt\" "
      ]
     },
     "metadata": {},
     "output_type": "display_data"
    }
   ],
   "source": [
    "f.names"
   ]
  },
  {
   "cell_type": "code",
   "execution_count": 131,
   "metadata": {
    "collapsed": true
   },
   "outputs": [],
   "source": [
    "for(i in 1: length(f.names)){\n",
    "  data <- read.table(f.names[i], header=T, sep=\"\", na.string=\"NA\")\n",
    "  # to fill a data frame need to pre-name it and allocate space\n",
    "  # this will create an empty data frame to fill everything in for each run\n",
    "  data.new<-data.frame(start=rep(NA,nrow(data)),\n",
    "                       end=rep(NA,nrow(data)),\n",
    "                       CpG=rep('CpG',nrow(data)),\n",
    "                       freqC =rep(NA,nrow(data))) \n",
    "  data.new$start <- data$base -1\n",
    "  data.new$end <- data$base\n",
    "  data.new$freqC <- data$freqC/100\n",
    "  data.new <- data.frame(as.character(data$chr), data.new$start, data.new$end, data.new$CpG, data.new$freqC)\n",
    "\n",
    "  write.table(data.new, paste(f.names[i],\".igv\"), sep=\"\\t\", quote=F, col.names=F, row.names=F)\n",
    "}"
   ]
  },
  {
   "cell_type": "code",
   "execution_count": 132,
   "metadata": {
    "collapsed": false
   },
   "outputs": [
    {
     "ename": "ERROR",
     "evalue": "Error in parse(text = x, srcfile = src): <text>:1:7: unexpected symbol\n1: wc -l methratio_out_zr1394_1.txt\n          ^\n",
     "output_type": "error",
     "traceback": [
      "Error in parse(text = x, srcfile = src): <text>:1:7: unexpected symbol\n1: wc -l methratio_out_zr1394_1.txt\n          ^\nTraceback:\n"
     ]
    }
   ],
   "source": []
  },
  {
   "cell_type": "code",
   "execution_count": null,
   "metadata": {
    "collapsed": true
   },
   "outputs": [],
   "source": []
  }
 ],
 "metadata": {
  "anaconda-cloud": {},
  "kernelspec": {
   "display_name": "R",
   "language": "R",
   "name": "ir"
  },
  "language_info": {
   "codemirror_mode": "r",
   "file_extension": ".r",
   "mimetype": "text/x-r-source",
   "name": "R",
   "pygments_lexer": "r",
   "version": "3.3.2"
  }
 },
 "nbformat": 4,
 "nbformat_minor": 1
}
