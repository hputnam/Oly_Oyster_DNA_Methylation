{
 "cells": [
  {
   "cell_type": "markdown",
   "metadata": {},
   "source": [
    "# NOTEBOOK 4 OF X OLYMPIA OYSTER DNA METHYLATION\n",
    "\n",
    "## Set Running Environment and Programs\n",
    "\n",
    "## SOFTWARE VERSION \n",
    "\n",
    " * bedtools 2.26.0\n",
    " * bismark 0.15.0  \n",
    " * blast 2.4.0+\n",
    " * bowtie2 2.2.8 \n",
    " * bsmap 2.90\n",
    " * fastqc 0.11.5  \n",
    " * R 3.2.5  \n",
    " * RStudio\n",
    " * samtools 0.1.19 \n",
    " * stacks 1.40 \n",
    " * trimmomatic 0.36\n",
    " * multiqc 0.8\n",
    " * md5sum 0.9.5\n",
    " * wget"
   ]
  },
  {
   "cell_type": "code",
   "execution_count": 1,
   "metadata": {
    "collapsed": false
   },
   "outputs": [
    {
     "data": {
      "text/plain": [
       "'/Users/hollie/Documents/Oly_Oyster_DNA_Methylation/Notebooks'"
      ]
     },
     "execution_count": 1,
     "metadata": {},
     "output_type": "execute_result"
    }
   ],
   "source": [
    "pwd"
   ]
  },
  {
   "cell_type": "code",
   "execution_count": 2,
   "metadata": {
    "collapsed": false
   },
   "outputs": [
    {
     "name": "stdout",
     "output_type": "stream",
     "text": [
      "/Users/hollie/Documents/Oly_Oyster_DNA_Methylation\n"
     ]
    }
   ],
   "source": [
    "cd .."
   ]
  },
  {
   "cell_type": "code",
   "execution_count": 3,
   "metadata": {
    "collapsed": true
   },
   "outputs": [],
   "source": [
    "!mkdir Data/Genome/Annotation"
   ]
  },
  {
   "cell_type": "markdown",
   "metadata": {},
   "source": [
    "## Obtain Genome Annotation Track Info"
   ]
  },
  {
   "cell_type": "markdown",
   "metadata": {},
   "source": [
    "* Exon Track"
   ]
  },
  {
   "cell_type": "code",
   "execution_count": 7,
   "metadata": {
    "collapsed": false
   },
   "outputs": [
    {
     "name": "stdout",
     "output_type": "stream",
     "text": [
      "  % Total    % Received % Xferd  Average Speed   Time    Time     Time  Current\n",
      "                                 Dload  Upload   Total   Spent    Left  Speed\n",
      "100 3056k  100 3056k    0     0  2465k      0  0:00:01  0:00:01 --:--:-- 3673k\n"
     ]
    }
   ],
   "source": [
    "!curl -O https://raw.githubusercontent.com/sr320/student-fish546-2016/master/analyses/Olyv6_blastn-Scaff-30k.gff > Data/Genome/Annotation/Exon_Olyv6_blastn-Scaff-10k.gff"
   ]
  },
  {
   "cell_type": "markdown",
   "metadata": {},
   "source": [
    "* Transposable Elements Track"
   ]
  },
  {
   "cell_type": "code",
   "execution_count": 8,
   "metadata": {
    "collapsed": false
   },
   "outputs": [
    {
     "name": "stdout",
     "output_type": "stream",
     "text": [
      "  % Total    % Received % Xferd  Average Speed   Time    Time     Time  Current\n",
      "                                 Dload  Upload   Total   Spent    Left  Speed\n",
      "100  9.8M  100  9.8M    0     0  6567k      0  0:00:01  0:00:01 --:--:-- 8992k\n"
     ]
    }
   ],
   "source": [
    "!curl http://owl.fish.washington.edu/halfshell/2016-11-oly-annotation/RM-sb-Ostrea_lurida-Scaff-10k.fa.out.gff > Data/Genome/Annotation/TransEl_Ostrea_lurida-Scaff-10k.fa.out.gff"
   ]
  },
  {
   "cell_type": "markdown",
   "metadata": {},
   "source": [
    "* Intron Track"
   ]
  },
  {
   "cell_type": "code",
   "execution_count": null,
   "metadata": {
    "collapsed": true
   },
   "outputs": [],
   "source": []
  },
  {
   "cell_type": "markdown",
   "metadata": {},
   "source": [
    "* Promoter Track"
   ]
  },
  {
   "cell_type": "code",
   "execution_count": null,
   "metadata": {
    "collapsed": true
   },
   "outputs": [],
   "source": []
  },
  {
   "cell_type": "markdown",
   "metadata": {},
   "source": [
    "* Locate and visualize CpG Methylation Data"
   ]
  },
  {
   "cell_type": "code",
   "execution_count": 15,
   "metadata": {
    "collapsed": false
   },
   "outputs": [
    {
     "name": "stdout",
     "output_type": "stream",
     "text": [
      "scaffold1002\t36\t-\tCAGCG\t0.000\t1.00\t0\t1\t0\t0\t0.000\t0.793\r\n",
      "scaffold1002\t37\t+\tAGCGT\t0.000\t1.00\t0\t1\t1\t1\t0.000\t0.793\r\n",
      "scaffold1002\t38\t-\tGCGTT\tNA\t0.00\t0\t1\t0\t1\tNA\tNA\r\n",
      "scaffold1002\t53\t+\tTTCGA\t0.667\t3.00\t2\t3\t5\t5\t0.208\t0.939\r\n",
      "scaffold1002\t54\t-\tTCGAT\t0.600\t5.00\t3\t5\t1\t1\t0.231\t0.882\r\n",
      "scaffold1002\t57\t+\tATCGG\t0.500\t2.00\t1\t2\t5\t5\t0.095\t0.905\r\n",
      "scaffold1002\t58\t-\tTCGGG\t0.750\t4.00\t3\t5\t4\t5\t0.301\t0.954\r\n",
      "scaffold1002\t59\t-\tCGGGA\t0.000\t4.29\t0\t5\t6\t7\t0.000\t0.473\r\n",
      "scaffold1002\t79\t+\tCTCGC\t0.929\t14.00\t13\t14\t8\t8\t0.685\t0.987\r\n",
      "scaffold1002\t80\t-\tTCGCT\t0.625\t8.00\t5\t8\t13\t13\t0.306\t0.863\r\n"
     ]
    }
   ],
   "source": [
    "!head Data/MBD/BSmap_Output/methratio_out_zr1394_1.CG.txt"
   ]
  },
  {
   "cell_type": "code",
   "execution_count": 27,
   "metadata": {
    "collapsed": false
   },
   "outputs": [
    {
     "name": "stdout",
     "output_type": "stream",
     "text": [
      "\r\n",
      "Usage:   samtools sort [options] <in.bam> <out.prefix>\r\n",
      "\r\n",
      "Options: -n        sort by read name\r\n",
      "         -f        use <out.prefix> as full file name instead of prefix\r\n",
      "         -o        final output to stdout\r\n",
      "         -l INT    compression level, from 0 to 9 [-1]\r\n",
      "         -@ INT    number of sorting and compression threads [1]\r\n",
      "         -m INT    max memory per thread; suffix K/M/G recognized [768M]\r\n",
      "\r\n",
      "[samopen] SAM header is present: 8733 sequences.\r\n"
     ]
    }
   ],
   "source": [
    "!../BioInf_Programs/samtools-0.1.19/samtools view -bS Data/MBD/BSmap_Output/10K_bsmap_out_zr1394_1.sam | ../BioInf_Programs/samtools-0.1.19/samtools sort -o Data/MBD/BSmap_Output/10K_bsmap_out_zr1394_1.bam "
   ]
  },
  {
   "cell_type": "code",
   "execution_count": 28,
   "metadata": {
    "collapsed": true
   },
   "outputs": [],
   "source": [
    "!../BioInf_Programs/samtools-0.1.19/samtools index  Data/MBD/BSmap_Output/10K_bsmap_out_zr1394_1_sorted.bam"
   ]
  },
  {
   "cell_type": "code",
   "execution_count": 32,
   "metadata": {
    "collapsed": false
   },
   "outputs": [],
   "source": [
    "%%bash\n",
    "../BioInf_Programs/bedtools2/bin/bedtools genomecov \\\n",
    "-ibam Data/MBD/BSmap_Output/10K_bsmap_out_zr1394_1_sorted.bam \\\n",
    "-g Data/Genome/Ostrea_lurida-Scaff-10k.fa \\\n",
    "-bg | awk '$4 > 1' > Data/MBD/BSmap_Output/10K_bsmap_out_zr1394_1.bedgraph"
   ]
  },
  {
   "cell_type": "code",
   "execution_count": null,
   "metadata": {
    "collapsed": true
   },
   "outputs": [],
   "source": []
  }
 ],
 "metadata": {
  "anaconda-cloud": {},
  "kernelspec": {
   "display_name": "Python [default]",
   "language": "python",
   "name": "python3"
  },
  "language_info": {
   "codemirror_mode": {
    "name": "ipython",
    "version": 3
   },
   "file_extension": ".py",
   "mimetype": "text/x-python",
   "name": "python",
   "nbconvert_exporter": "python",
   "pygments_lexer": "ipython3",
   "version": "3.5.2"
  }
 },
 "nbformat": 4,
 "nbformat_minor": 1
}
